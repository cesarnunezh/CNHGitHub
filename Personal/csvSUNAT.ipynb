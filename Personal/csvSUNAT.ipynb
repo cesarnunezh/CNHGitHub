{
 "cells": [
  {
   "cell_type": "code",
   "execution_count": 2,
   "outputs": [
    {
     "name": "stdout",
     "output_type": "stream",
     "text": [
      "Collecting pandas\n",
      "  Downloading pandas-2.2.2-cp311-cp311-win_amd64.whl (11.6 MB)\n",
      "                                              0.0/11.6 MB ? eta -:--:--\n",
      "                                              0.2/11.6 MB 6.3 MB/s eta 0:00:02\n",
      "     ----                                     1.2/11.6 MB 15.0 MB/s eta 0:00:01\n",
      "     -----------                              3.5/11.6 MB 27.7 MB/s eta 0:00:01\n",
      "     ------------------                       5.4/11.6 MB 31.1 MB/s eta 0:00:01\n",
      "     --------------------------               7.6/11.6 MB 34.6 MB/s eta 0:00:01\n",
      "     --------------------------------         9.3/11.6 MB 35.2 MB/s eta 0:00:01\n",
      "     ------------------------------------    11.0/11.6 MB 43.5 MB/s eta 0:00:01\n",
      "     --------------------------------------  11.6/11.6 MB 43.7 MB/s eta 0:00:01\n",
      "     --------------------------------------- 11.6/11.6 MB 36.4 MB/s eta 0:00:00\n",
      "Collecting numpy>=1.23.2 (from pandas)\n",
      "  Downloading numpy-2.1.1-cp311-cp311-win_amd64.whl (12.9 MB)\n",
      "                                              0.0/12.9 MB ? eta -:--:--\n",
      "     ------                                   2.1/12.9 MB 67.7 MB/s eta 0:00:01\n",
      "     ------------                             4.1/12.9 MB 52.8 MB/s eta 0:00:01\n",
      "     -------------------                      6.3/12.9 MB 50.2 MB/s eta 0:00:01\n",
      "     -------------------------                8.0/12.9 MB 47.0 MB/s eta 0:00:01\n",
      "     -------------------------------         10.3/12.9 MB 46.9 MB/s eta 0:00:01\n",
      "     --------------------------------------  12.5/12.9 MB 46.7 MB/s eta 0:00:01\n",
      "     --------------------------------------  12.9/12.9 MB 43.5 MB/s eta 0:00:01\n",
      "     --------------------------------------- 12.9/12.9 MB 36.3 MB/s eta 0:00:00\n",
      "Requirement already satisfied: python-dateutil>=2.8.2 in c:\\users\\canun\\appdata\\local\\programs\\python\\python311\\lib\\site-packages (from pandas) (2.9.0.post0)\n",
      "Collecting pytz>=2020.1 (from pandas)\n",
      "  Downloading pytz-2024.2-py2.py3-none-any.whl (508 kB)\n",
      "                                              0.0/508.0 kB ? eta -:--:--\n",
      "     ------------------------------------- 508.0/508.0 kB 31.1 MB/s eta 0:00:00\n",
      "Collecting tzdata>=2022.7 (from pandas)\n",
      "  Downloading tzdata-2024.1-py2.py3-none-any.whl (345 kB)\n",
      "                                              0.0/345.4 kB ? eta -:--:--\n",
      "     ------------------------------------- 345.4/345.4 kB 22.3 MB/s eta 0:00:00\n",
      "Requirement already satisfied: six>=1.5 in c:\\users\\canun\\appdata\\local\\programs\\python\\python311\\lib\\site-packages (from python-dateutil>=2.8.2->pandas) (1.16.0)\n",
      "Installing collected packages: pytz, tzdata, numpy, pandas\n",
      "Successfully installed numpy-2.1.1 pandas-2.2.2 pytz-2024.2 tzdata-2024.1\n"
     ]
    },
    {
     "name": "stderr",
     "output_type": "stream",
     "text": [
      "\n",
      "[notice] A new release of pip is available: 23.1.2 -> 24.2\n",
      "[notice] To update, run: C:\\Users\\canun\\AppData\\Local\\Programs\\Python\\Python311\\python.exe -m pip install --upgrade pip\n"
     ]
    }
   ],
   "source": [
    "!pip install pandas"
   ],
   "metadata": {
    "collapsed": false,
    "ExecuteTime": {
     "end_time": "2024-09-18T22:18:08.070543700Z",
     "start_time": "2024-09-18T22:17:23.680597600Z"
    }
   },
   "id": "28d40886fe6f42c6"
  },
  {
   "cell_type": "code",
   "execution_count": 8,
   "id": "initial_id",
   "metadata": {
    "collapsed": true,
    "ExecuteTime": {
     "end_time": "2024-09-18T22:20:05.545790400Z",
     "start_time": "2024-09-18T22:20:05.533395300Z"
    }
   },
   "outputs": [],
   "source": [
    "import pandas as pd\n",
    "import os"
   ]
  },
  {
   "cell_type": "code",
   "execution_count": 4,
   "outputs": [],
   "source": [
    "path = r'C:\\Users\\canun\\OneDrive - Universidad del Pacífico\\2. La Casa de Sammy\\1. Finanzas\\1. Compras'\n",
    "os.chdir(path)"
   ],
   "metadata": {
    "collapsed": false,
    "ExecuteTime": {
     "end_time": "2024-09-18T22:18:26.055825Z",
     "start_time": "2024-09-18T22:18:26.046037200Z"
    }
   },
   "id": "17673659fd25869c"
  },
  {
   "cell_type": "code",
   "execution_count": 7,
   "outputs": [],
   "source": [
    "file_list = [i for i in os.listdir(path) if i.endswith(\".csv\")]"
   ],
   "metadata": {
    "collapsed": false,
    "ExecuteTime": {
     "end_time": "2024-09-18T22:19:09.273560100Z",
     "start_time": "2024-09-18T22:19:09.260396500Z"
    }
   },
   "id": "a8c622286ed248b3"
  },
  {
   "cell_type": "code",
   "execution_count": 11,
   "outputs": [],
   "source": [
    "df = pd.DataFrame()\n",
    "for file in file_list:\n",
    "    alterna = pd.read_csv(file)\n",
    "    df = pd.concat([df, alterna])"
   ],
   "metadata": {
    "collapsed": false,
    "ExecuteTime": {
     "end_time": "2024-09-18T22:25:15.943978100Z",
     "start_time": "2024-09-18T22:25:15.851425400Z"
    }
   },
   "id": "5bade636db3f4cf"
  }
 ],
 "metadata": {
  "kernelspec": {
   "display_name": "Python 3",
   "language": "python",
   "name": "python3"
  },
  "language_info": {
   "codemirror_mode": {
    "name": "ipython",
    "version": 2
   },
   "file_extension": ".py",
   "mimetype": "text/x-python",
   "name": "python",
   "nbconvert_exporter": "python",
   "pygments_lexer": "ipython2",
   "version": "2.7.6"
  }
 },
 "nbformat": 4,
 "nbformat_minor": 5
}

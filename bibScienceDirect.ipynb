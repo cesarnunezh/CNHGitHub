{
 "cells": [
  {
   "cell_type": "code",
   "execution_count": 14,
   "id": "initial_id",
   "metadata": {
    "collapsed": true,
    "ExecuteTime": {
     "end_time": "2023-12-15T05:30:00.575482100Z",
     "start_time": "2023-12-15T05:30:00.559858100Z"
    }
   },
   "outputs": [],
   "source": [
    "import pandas as pd\n",
    "import os"
   ]
  },
  {
   "cell_type": "code",
   "execution_count": 15,
   "outputs": [
    {
     "name": "stdout",
     "output_type": "stream",
     "text": [
      "['ScienceDirect_citations_1701125206381.txt', 'ScienceDirect_citations_1701125240643.txt', 'ScienceDirect_citations_1701125255245.txt', 'ScienceDirect_citations_1701125267203.txt', 'ScienceDirect_citations_1701125312406.txt', 'ScienceDirect_citations_1701125324081.txt', 'ScienceDirect_citations_1701125343311.txt', 'ScienceDirect_citations_1701125362585.txt', 'ScienceDirect_citations_1701125375440.txt', 'ScienceDirect_citations_1701125394532.txt', 'ScienceDirect_citations_1701125435643.txt', 'ScienceDirect_citations_1701125468622.txt', 'ScienceDirect_citations_1701125492451.txt', 'ScienceDirect_citations_1701125505553.txt', 'ScienceDirect_citations_1701125536139.txt', 'ScienceDirect_citations_1701125892575.txt', 'ScienceDirect_citations_1701125932111.txt', 'ScienceDirect_citations_1701125947345.txt', 'ScienceDirect_citations_1701125960865.txt', 'ScienceDirect_citations_1701125972250.txt', 'ScienceDirect_citations_1701125992741.txt', 'ScienceDirect_citations_1701126006298.txt', 'ScienceDirect_citations_1701126018087.txt', 'ScienceDirect_citations_1701126036912.txt', 'ScienceDirect_citations_1701126046569.txt', 'ScienceDirect_citations_1701126057423.txt', 'ScienceDirect_citations_1701126068004.txt', 'ScienceDirect_citations_1701126083130.txt', 'ScienceDirect_citations_1701126092478.txt', 'ScienceDirect_citations_1701126102668.txt', 'ScienceDirect_citations_1701126112385.txt', 'ScienceDirect_citations_1701126122329.txt', 'ScienceDirect_citations_1701126131210.txt', 'ScienceDirect_citations_1701126147954.txt', 'ScienceDirect_citations_1701126158259.txt', 'ScienceDirect_citations_1701126168435.txt', 'ScienceDirect_citations_1701126179199.txt', 'ScienceDirect_citations_1701126187592.txt', 'ScienceDirect_citations_1701126196765.txt', 'ScienceDirect_citations_1701126216109.txt', 'ScienceDirect_citations_1701126227019.txt', 'ScienceDirect_citations_1701126247032.txt', 'ScienceDirect_citations_1701126257562.txt', 'ScienceDirect_citations_1701126267640.txt', 'ScienceDirect_citations_1701126277110.txt', 'ScienceDirect_citations_1701126286392.txt', 'ScienceDirect_citations_1701126294795.txt', 'ScienceDirect_citations_1701126303672.txt', 'ScienceDirect_citations_1701126327301.txt', 'ScienceDirect_citations_1701126340874.txt', 'ScienceDirect_citations_1701126349810.txt', 'ScienceDirect_citations_1701126369558.txt', 'ScienceDirect_citations_1701126378049.txt', 'ScienceDirect_citations_1701126385333.txt', 'ScienceDirect_citations_1701126392248.txt', 'ScienceDirect_citations_1701126399228.txt', 'ScienceDirect_citations_1701126406599.txt', 'ScienceDirect_citations_1701126414074.txt', 'ScienceDirect_citations_1701126421493.txt', 'ScienceDirect_citations_1701126429689.txt', 'ScienceDirect_citations_1701126439693.txt', 'ScienceDirect_citations_1701126461876.txt', 'ScienceDirect_citations_1701126482656.txt', 'ScienceDirect_citations_1701126491573.txt', 'ScienceDirect_citations_1701126500122.txt', 'ScienceDirect_citations_1701126508612.txt']\n"
     ]
    }
   ],
   "source": [
    "path = r\"C:\\Users\\User\\Downloads\"\n",
    "\n",
    "listScienceDirect = [item for item in os.listdir(path) if item.startswith(\"ScienceDirect\")] \n",
    "print(listScienceDirect)"
   ],
   "metadata": {
    "collapsed": false,
    "ExecuteTime": {
     "end_time": "2023-12-15T05:30:00.623087Z",
     "start_time": "2023-12-15T05:30:00.575482100Z"
    }
   },
   "id": "5d8e4623085ad7a5"
  },
  {
   "cell_type": "code",
   "execution_count": 16,
   "outputs": [],
   "source": [
    "filas=[]\n",
    "os.chdir(path)\n",
    "for text in listScienceDirect:\n",
    "    with open(file=text, mode=\"rb\") as f:\n",
    "        for fila in f:\n",
    "            filas.append(fila)"
   ],
   "metadata": {
    "collapsed": false,
    "ExecuteTime": {
     "end_time": "2023-12-15T05:30:00.646807200Z",
     "start_time": "2023-12-15T05:30:00.591317700Z"
    }
   },
   "id": "848416d4cbb11a9b"
  },
  {
   "cell_type": "code",
   "execution_count": 17,
   "outputs": [
    {
     "name": "stderr",
     "output_type": "stream",
     "text": [
      "IOPub data rate exceeded.\n",
      "The Jupyter server will temporarily stop sending output\n",
      "to the client in order to avoid crashing it.\n",
      "To change this limit, set the config variable\n",
      "`--ServerApp.iopub_data_rate_limit`.\n",
      "\n",
      "Current values:\n",
      "ServerApp.iopub_data_rate_limit=1000000.0 (bytes/sec)\n",
      "ServerApp.rate_limit_window=3.0 (secs)\n",
      "\n"
     ]
    }
   ],
   "source": [
    "print(filas)"
   ],
   "metadata": {
    "collapsed": false,
    "ExecuteTime": {
     "end_time": "2023-12-15T05:30:00.891558100Z",
     "start_time": "2023-12-15T05:30:00.646807200Z"
    }
   },
   "id": "8127f1f995fa9f85"
  },
  {
   "cell_type": "code",
   "execution_count": 18,
   "outputs": [],
   "source": [
    "string = str(\"\")\n",
    "for fila in filas:\n",
    "    string = string + \",\" + str(fila)\n",
    "\n",
    "string = string.split(\"b'\\\\n\")\n"
   ],
   "metadata": {
    "collapsed": false,
    "ExecuteTime": {
     "end_time": "2023-12-15T05:32:56.542704200Z",
     "start_time": "2023-12-15T05:30:00.897983800Z"
    }
   },
   "id": "e1e152ddc3adb735"
  },
  {
   "cell_type": "code",
   "execution_count": 19,
   "outputs": [
    {
     "name": "stderr",
     "output_type": "stream",
     "text": [
      "IOPub data rate exceeded.\n",
      "The Jupyter server will temporarily stop sending output\n",
      "to the client in order to avoid crashing it.\n",
      "To change this limit, set the config variable\n",
      "`--ServerApp.iopub_data_rate_limit`.\n",
      "\n",
      "Current values:\n",
      "ServerApp.iopub_data_rate_limit=1000000.0 (bytes/sec)\n",
      "ServerApp.rate_limit_window=3.0 (secs)\n",
      "\n"
     ]
    }
   ],
   "source": [
    "print(string)"
   ],
   "metadata": {
    "collapsed": false,
    "ExecuteTime": {
     "end_time": "2023-12-15T05:32:56.766612800Z",
     "start_time": "2023-12-15T05:32:56.614454100Z"
    }
   },
   "id": "a936769e588e984a"
  },
  {
   "cell_type": "code",
   "execution_count": 19,
   "outputs": [],
   "source": [],
   "metadata": {
    "collapsed": false,
    "ExecuteTime": {
     "end_time": "2023-12-15T05:32:56.766612800Z",
     "start_time": "2023-12-15T05:32:56.766612800Z"
    }
   },
   "id": "eb46272fea4aa2e5"
  },
  {
   "cell_type": "code",
   "execution_count": 20,
   "outputs": [],
   "source": [
    "autorList = []\n",
    "titleList = []\n",
    "doiList = []\n",
    "linkList = []\n",
    "abstList = []\n",
    "keywList = []\n",
    "\n",
    "listas = [autorList, titleList, doiList , linkList, abstList, keywList]\n",
    "keyList = [\"Autor\", \"Title\", \"DOI\", \"Link\", \"Abstract\", \"Keywords\"]\n",
    "\n",
    "for i, paper in enumerate(string):\n",
    "    string[i] = paper.split(\",b\")\n",
    "    autorTitle = string[i][1:3]\n",
    "    doiKey = string[i][-4:]\n",
    "    string[i] = autorTitle + doiKey\n",
    "\n",
    "for paper in string:\n",
    "    autorList.append(paper[0])\n",
    "    titleList.append(paper[1])\n",
    "    doiList.append(paper[2])\n",
    "    linkList.append(paper[3])\n",
    "    abstList.append(paper[4])\n",
    "    keywList.append(paper[5])\n",
    "\n",
    "patrones = [\"\\'\", \"\\\\r\\\\n\\'\", '\"', \",\\\\r\\\\n\", \"\\\\r\\\\n\"]\n",
    "\n",
    "for patron in patrones:\n",
    "    for i, lista in enumerate(listas):\n",
    "        listas[i] = [tex.replace(patron,\"\") for tex in lista]\n",
    "diccionario = {key: lista for key, lista in zip(keyList, listas)}\n",
    "data = pd.DataFrame(diccionario)"
   ],
   "metadata": {
    "collapsed": false,
    "ExecuteTime": {
     "end_time": "2023-12-15T05:32:56.843953400Z",
     "start_time": "2023-12-15T05:32:56.766612800Z"
    }
   },
   "id": "4527166ae1c6e8d4"
  },
  {
   "cell_type": "code",
   "execution_count": 21,
   "outputs": [],
   "source": [
    "data = data.drop_duplicates()"
   ],
   "metadata": {
    "collapsed": false,
    "ExecuteTime": {
     "end_time": "2023-12-15T05:32:56.875434500Z",
     "start_time": "2023-12-15T05:32:56.828216900Z"
    }
   },
   "id": "198304fe77d5487c"
  }
 ],
 "metadata": {
  "kernelspec": {
   "display_name": "Python 3",
   "language": "python",
   "name": "python3"
  },
  "language_info": {
   "codemirror_mode": {
    "name": "ipython",
    "version": 2
   },
   "file_extension": ".py",
   "mimetype": "text/x-python",
   "name": "python",
   "nbconvert_exporter": "python",
   "pygments_lexer": "ipython2",
   "version": "2.7.6"
  }
 },
 "nbformat": 4,
 "nbformat_minor": 5
}

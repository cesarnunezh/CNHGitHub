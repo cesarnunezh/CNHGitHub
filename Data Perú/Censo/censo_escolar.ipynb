{
 "cells": [
  {
   "cell_type": "code",
   "execution_count": 64,
   "metadata": {},
   "outputs": [],
   "source": [
    "import pandas as pd\n",
    "import os\n",
    "import numpy as np"
   ]
  },
  {
   "cell_type": "code",
   "execution_count": 5,
   "metadata": {},
   "outputs": [
    {
     "data": {
      "text/plain": [
       "'C:\\\\Users\\\\canun\\\\Downloads'"
      ]
     },
     "execution_count": 5,
     "metadata": {},
     "output_type": "execute_result"
    }
   ],
   "source": [
    "path = \"C:\\\\Users\\\\canun\\\\Downloads\"\n",
    "os.chdir(path)\n",
    "os.getcwd()"
   ]
  },
  {
   "cell_type": "code",
   "execution_count": 87,
   "metadata": {},
   "outputs": [],
   "source": [
    "bambas_dptos = [\"APURIMAC\",\"CUSCO\"]\n",
    "bambas_colegios = pd.DataFrame()\n",
    "for dpto in bambas_dptos:\n",
    "    df0 = pd.read_excel(\"CÓDIGO LOCAL Y MODULAR.xlsx\", sheet_name = f\"COD_{dpto}\", header = 0)\n",
    "    df0['Dpto'] = dpto\n",
    "    bambas_colegios = pd.concat([bambas_colegios,df0])\n",
    "\n",
    "bambas_colegios = bambas_colegios.loc[:, ['COD_MOD','Dpto', 'Provincia','Distrito']]"
   ]
  },
  {
   "cell_type": "code",
   "execution_count": 99,
   "metadata": {},
   "outputs": [],
   "source": [
    "bambas_dict = {'APURIMAC':['COTABAMBAS','GRAU'],\n",
    "               'CUSCO' : ['CHUMBIVILCAS','ESPINAR','PARURO']}\n",
    "cod_mods = list(bambas_colegios['COD_MOD'].drop_duplicates())"
   ]
  },
  {
   "cell_type": "code",
   "execution_count": 100,
   "metadata": {},
   "outputs": [],
   "source": [
    "for type_file in ['01','02','04']:\n",
    "    for dpto in bambas_dptos:\n",
    "        df_0 = pd.read_excel(f\"Docente_{type_file}-{dpto}_24.09.24.xlsx\", sheet_name = f\"{dpto}\")\n",
    "        df_1 = df_0[df_0[\"COD_MOD\"].isin(cod_mods)]\n",
    "        df_1 = pd.merge(df_1,bambas_colegios,how = 'left', on = \"COD_MOD\")\n",
    "        for prov in bambas_dict[dpto]:\n",
    "            df_2 = df_1[df_1['Provincia'] == prov]\n",
    "            df_2.to_excel(f'C:\\\\Users\\\\canun\\\\Downloads\\\\Bases Finales\\\\Docente_{type_file}-{dpto}-{prov}.xlsx')"
   ]
  }
 ],
 "metadata": {
  "kernelspec": {
   "display_name": "Python 3",
   "language": "python",
   "name": "python3"
  },
  "language_info": {
   "codemirror_mode": {
    "name": "ipython",
    "version": 3
   },
   "file_extension": ".py",
   "mimetype": "text/x-python",
   "name": "python",
   "nbconvert_exporter": "python",
   "pygments_lexer": "ipython3",
   "version": "3.11.4"
  }
 },
 "nbformat": 4,
 "nbformat_minor": 2
}

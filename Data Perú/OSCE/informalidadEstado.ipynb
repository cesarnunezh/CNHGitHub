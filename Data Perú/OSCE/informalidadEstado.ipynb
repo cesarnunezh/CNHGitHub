{
 "cells": [
  {
   "cell_type": "code",
   "execution_count": 1,
   "id": "initial_id",
   "metadata": {
    "collapsed": true,
    "ExecuteTime": {
     "end_time": "2023-09-20T21:48:31.339173900Z",
     "start_time": "2023-09-20T21:48:30.221875400Z"
    }
   },
   "outputs": [],
   "source": [
    "# Importamos las librerías que utilizaremos\n",
    "import pandas as pd\n",
    "import os\n",
    "import dask.dataframe as dd\n",
    "import numpy as np\n",
    "import requests\n",
    "from selenium import webdriver\n",
    "from webdriver_manager.microsoft import EdgeChromiumDriverManager\n",
    "\n",
    "import time\n",
    "from selenium.webdriver.common.by import By\n",
    "import shutil\n",
    "import matplotlib.pyplot as plt\n"
   ]
  },
  {
   "cell_type": "code",
   "execution_count": 41,
   "outputs": [],
   "source": [
    "# Definimos las carpetas de trabajo\n",
    "pathRawData = r'C:\\Users\\User\\OneDrive - Universidad del Pacífico\\1. Documentos\\0. Bases de datos\\10. OSCE\\0. Originales'\n",
    "pathData = r'C:\\Users\\User\\OneDrive - Universidad del Pacífico\\1. Documentos\\0. Bases de datos\\10. OSCE\\1. Bases'\n",
    "pathResults = r'C:\\Users\\User\\OneDrive - Universidad del Pacífico\\1. Documentos\\0. Bases de datos\\10. OSCE\\2. Resultados'"
   ],
   "metadata": {
    "collapsed": false,
    "ExecuteTime": {
     "end_time": "2023-09-20T21:11:13.987319200Z",
     "start_time": "2023-09-20T21:11:13.981177200Z"
    }
   },
   "id": "4fa1443f26a7bf65"
  },
  {
   "cell_type": "code",
   "execution_count": null,
   "outputs": [
    {
     "name": "stdout",
     "output_type": "stream",
     "text": [
      "1_1_1_1\n",
      "1_1_1_2\n",
      "1_1_1_3\n",
      "1_1_2_1\n",
      "1_1_2_2\n",
      "1_1_2_3\n",
      "1_1_3_1\n",
      "1_1_3_2\n",
      "1_1_3_3\n",
      "1_1_4_1\n"
     ]
    }
   ],
   "source": [
    "# Scrappeo de la web del OSCE\n",
    "# Definimos algunas opciones para abrir la página\n",
    "driver = webdriver.Edge()\n",
    "driver.maximize_window()\n",
    "\n",
    "# Abrimos la página\n",
    "driver.get(\"https://bi.seace.gob.pe/pentaho/api/repos/%3Apublic%3Aportal%3Adatosabiertoscontratacionesdirectas.html/content?userid=public&password=key#\")\n",
    "\n",
    "# generamos un bucle para descargar todas las bases\n",
    "contador = 0\n",
    "for trianio in range(1,3):\n",
    "    for anio in range(1,4):\n",
    "        for trim in range(1,5):\n",
    "            for mes in range(1,4):\n",
    "                try:\n",
    "                    locals()[f'{trianio}_{anio}_{trim}_{mes}'] = driver.find_element( By.XPATH, f\"/html/body/main/section[1]/div[{trianio}]/div/div[{anio}]/div/div[{trim}]/a[{mes}]/button\")\n",
    "                    print(f'{trianio}_{anio}_{trim}_{mes}')\n",
    "\n",
    "                    locals()[f'{trianio}_{anio}_{trim}_{mes}'].click()\n",
    "                    time.sleep(5)\n",
    "                    contador+=1\n",
    "                except:\n",
    "                    continue\n",
    "\n",
    "# Movemos los archivos descargados a la carpeta de trabajo\n",
    "time.sleep(120)"
   ],
   "metadata": {
    "collapsed": false,
    "is_executing": true,
    "ExecuteTime": {
     "start_time": "2023-09-20T21:48:36.691803800Z"
    }
   },
   "id": "b63fbcd2ac6d4f20"
  },
  {
   "cell_type": "code",
   "execution_count": null,
   "outputs": [],
   "source": [
    "# Seteamos la carpeta donde originalmente se descargaron los archivos\n",
    "folder_path = \"C:/Users/canun/Downloads\"\n",
    "\n",
    "# Generamos una lista que permita identificar los archivos de la carpeta y las fechas de modificación\n",
    "files_with_time = [(f, os.path.getmtime(os.path.join(folder_path, f))) for f in os.listdir(folder_path)]\n",
    "\n",
    "# Ordenamos de tal forma que los primeros archivos de la lista sean los más recientes\n",
    "sorted_files = sorted(files_with_time, key=lambda x: x[1], reverse=True)\n",
    "\n",
    "# Generamos una lista de solo los datos descargados\n",
    "locals()[f'last_{contador}_files'] = [f[0] for f in sorted_files[:contador]]\n",
    "\n",
    "# Movemos los archivos descargados a la carpeta de trabajo\n",
    "for file in locals()[f'last_{contador}_files']:\n",
    "\n",
    "    # Path of the file to be moved\n",
    "    src_file = \"C:/Users/canun/Downloads/\" + file\n",
    "\n",
    "    # Destination path where the file should be moved\n",
    "    dst_folder = \"D:/1. Documentos/0. Bases de datos/10. OSCE\"\n",
    "\n",
    "    # Move the file from the source path to the destination path\n",
    "    shutil.move(src_file, dst_folder)\n",
    "\n",
    "# Extraemos las bases de datos de todos los archivos descargados\n",
    "# Generamos un código para generar la lista de archivos\n",
    "\n",
    "folder_path = \"D:/1. Documentos/0. Bases de datos/10. OSCE\""
   ],
   "metadata": {
    "collapsed": false
   },
   "id": "f4ece8d5298525dd"
  },
  {
   "cell_type": "code",
   "execution_count": null,
   "outputs": [],
   "source": [
    "'''\n",
    "# Armado de la base de datos\n",
    "\n",
    "# Generamos una lista que permita identificar los archivos de la carpeta y las fechas de modificación\n",
    "\n",
    "files_list = os.listdir(pathRawData)\n",
    "os.chdir(\"D:/1. Documentos/0. Bases de datos/10. OSCE\")\n",
    "contador_1=0\n",
    "\n",
    "#for file in locals()[f'last_{contador}_files']:\n",
    "for file in files_list:\n",
    "    if contador_1==0 :\n",
    "        df = pd.read_excel(file, skiprows=1)\n",
    "        servicios = df['TIPOORDEN'] == 'Orden de Servicio'\n",
    "        df = df[servicios]\n",
    "        os.remove(file)\n",
    "        contador_1+=1\n",
    "    else:\n",
    "        df_alterna = pd.read_excel(file, skiprows=1)\n",
    "        servicios = df_alterna['TIPOORDEN'] == 'Orden de Servicio'\n",
    "        df_alterna = df_alterna[servicios]\n",
    "        df = pd.concat([df, df_alterna])\n",
    "        os.remove(file)\n",
    "        contador_1+=1\n",
    "\n",
    "# Guardamos la base de datos\n",
    "df.to_csv('df_servicios_2018_2023.csv')\n",
    "\n",
    "'''"
   ],
   "metadata": {
    "collapsed": false
   },
   "id": "5d17e7d2455b2f4b"
  },
  {
   "cell_type": "code",
   "execution_count": 23,
   "outputs": [
    {
     "data": {
      "text/plain": "Unnamed: 0                         int64\nENTIDAD                           object\nRUC_ENTIDAD                        int64\nFECHA_REGISTRO                    object\nFECHA_DE_EMISION                  object\nFECHA_COMPROMISO_PRESUPUESTAL     object\nFECHA_DE_NOTIFICACION             object\nTIPOORDEN                         object\nNRO_DE_ORDEN                       int64\nORDEN                             object\nDESCRIPCION_ORDEN                 object\nMONEDA                            object\nMONTO_TOTAL_ORDEN_ORIGINAL       float64\nOBJETOCONTRACTUAL                 object\nESTADOCONTRATACION                object\nTIPODECONTRATACION                object\nDEPARTAMENTO__ENTIDAD             object\nRUC_CONTRATISTA                    int64\nNOMBRE_RAZON_CONTRATISTA          object\ndtype: object"
     },
     "execution_count": 23,
     "metadata": {},
     "output_type": "execute_result"
    }
   ],
   "source": [
    "ddf = dd.read_csv(pathData + '/df_servicios_2018_2023.csv')\n",
    "ddf.dtypes"
   ],
   "metadata": {
    "collapsed": false,
    "ExecuteTime": {
     "end_time": "2023-09-20T20:52:07.345696700Z",
     "start_time": "2023-09-20T20:52:07.320259100Z"
    }
   },
   "id": "5403354b71ee7af2"
  },
  {
   "cell_type": "code",
   "execution_count": 24,
   "outputs": [],
   "source": [
    "ddf = ddf.loc[ : , ['ENTIDAD', 'RUC_ENTIDAD', 'FECHA_REGISTRO', 'FECHA_DE_EMISION', 'DESCRIPCION_ORDEN', 'MONEDA','MONTO_TOTAL_ORDEN_ORIGINAL', 'ESTADOCONTRATACION', 'TIPODECONTRATACION' , 'DEPARTAMENTO__ENTIDAD', 'RUC_CONTRATISTA', 'NOMBRE_RAZON_CONTRATISTA']]"
   ],
   "metadata": {
    "collapsed": false,
    "ExecuteTime": {
     "end_time": "2023-09-20T20:52:08.908759800Z",
     "start_time": "2023-09-20T20:52:08.897762600Z"
    }
   },
   "id": "93f36dd7d441eef4"
  },
  {
   "cell_type": "code",
   "execution_count": 26,
   "outputs": [
    {
     "data": {
      "text/plain": "                                    ENTIDAD  RUC_ENTIDAD FECHA_REGISTRO  \\\n0       ESCUELA NACIONAL DE MARINA MERCANTE  20131379430     2018-04-30   \n1  UNIVERSIDAD NACIONAL MAYOR DE SAN MARCOS  20148092282     2018-04-30   \n2       MUNICIPALIDAD DISTRITAL DE LA HUACA  20146697527     2018-04-30   \n3  UNIVERSIDAD NACIONAL MAYOR DE SAN MARCOS  20148092282     2018-04-30   \n4       MUNICIPALIDAD DISTRITAL DE LA HUACA  20146697527     2018-04-30   \n\n  FECHA_DE_EMISION                                  DESCRIPCION_ORDEN  \\\n0       2018-03-26    SERVICIO NECESARIO PARA EL AREA DE CAPACITACION   \n1       2018-03-09                                 SERVICIOS DIVERSOS   \n2       2018-04-23  secretaria de gerencia correspondiente abril 2018   \n3       2018-03-20                                 SERVICIOS DIVERSOS   \n4       2018-04-23        asistente de opi correspondiente abril 2018   \n\n         MONEDA  MONTO_TOTAL_ORDEN_ORIGINAL ESTADOCONTRATACION  \\\n0  Nuevos Soles                      1800.0       Comprometida   \n1  Nuevos Soles                      3701.0            Emitida   \n2  Nuevos Soles                       950.0          Devengada   \n3  Nuevos Soles                      2000.0            Emitida   \n4  Nuevos Soles                       850.0          Devengada   \n\n                                  TIPODECONTRATACION  \\\n0  Contrataciones hasta 8 UIT (LEY 30225)(No incl...   \n1  Contrataciones hasta 8 UIT (LEY 30225)(No incl...   \n2  Contrataciones hasta 8 UIT (LEY 30225)(No incl...   \n3  Contrataciones hasta 8 UIT (LEY 30225)(No incl...   \n4  Contrataciones hasta 8 UIT (LEY 30225)(No incl...   \n\n       DEPARTAMENTO__ENTIDAD RUC_CONTRATISTA  \\\n0  PROV.CONSTITUC.DEL CALLAO     10458010850   \n1                       LIMA     10460226029   \n2                      PIURA     10459825172   \n3                       LIMA     10457711714   \n4                      PIURA     10462328279   \n\n                            NOMBRE_RAZON_CONTRATISTA RUC_10  \n0  LEI TASSILE MARCO ROBERTO SALOMON             ...     10  \n1  GONZALES COLONIA JAVIER ERASMO                ...     10  \n2  CALLAN CRESPO GIORLLINIA LISET                ...     10  \n3  HINOSTROZA CISNEROS JOHMAN ANTONIO            ...     10  \n4  CASTILLO FLORES MARGOT ANGELITA               ...     10  ",
      "text/html": "<div>\n<style scoped>\n    .dataframe tbody tr th:only-of-type {\n        vertical-align: middle;\n    }\n\n    .dataframe tbody tr th {\n        vertical-align: top;\n    }\n\n    .dataframe thead th {\n        text-align: right;\n    }\n</style>\n<table border=\"1\" class=\"dataframe\">\n  <thead>\n    <tr style=\"text-align: right;\">\n      <th></th>\n      <th>ENTIDAD</th>\n      <th>RUC_ENTIDAD</th>\n      <th>FECHA_REGISTRO</th>\n      <th>FECHA_DE_EMISION</th>\n      <th>DESCRIPCION_ORDEN</th>\n      <th>MONEDA</th>\n      <th>MONTO_TOTAL_ORDEN_ORIGINAL</th>\n      <th>ESTADOCONTRATACION</th>\n      <th>TIPODECONTRATACION</th>\n      <th>DEPARTAMENTO__ENTIDAD</th>\n      <th>RUC_CONTRATISTA</th>\n      <th>NOMBRE_RAZON_CONTRATISTA</th>\n      <th>RUC_10</th>\n    </tr>\n  </thead>\n  <tbody>\n    <tr>\n      <th>0</th>\n      <td>ESCUELA NACIONAL DE MARINA MERCANTE</td>\n      <td>20131379430</td>\n      <td>2018-04-30</td>\n      <td>2018-03-26</td>\n      <td>SERVICIO NECESARIO PARA EL AREA DE CAPACITACION</td>\n      <td>Nuevos Soles</td>\n      <td>1800.0</td>\n      <td>Comprometida</td>\n      <td>Contrataciones hasta 8 UIT (LEY 30225)(No incl...</td>\n      <td>PROV.CONSTITUC.DEL CALLAO</td>\n      <td>10458010850</td>\n      <td>LEI TASSILE MARCO ROBERTO SALOMON             ...</td>\n      <td>10</td>\n    </tr>\n    <tr>\n      <th>1</th>\n      <td>UNIVERSIDAD NACIONAL MAYOR DE SAN MARCOS</td>\n      <td>20148092282</td>\n      <td>2018-04-30</td>\n      <td>2018-03-09</td>\n      <td>SERVICIOS DIVERSOS</td>\n      <td>Nuevos Soles</td>\n      <td>3701.0</td>\n      <td>Emitida</td>\n      <td>Contrataciones hasta 8 UIT (LEY 30225)(No incl...</td>\n      <td>LIMA</td>\n      <td>10460226029</td>\n      <td>GONZALES COLONIA JAVIER ERASMO                ...</td>\n      <td>10</td>\n    </tr>\n    <tr>\n      <th>2</th>\n      <td>MUNICIPALIDAD DISTRITAL DE LA HUACA</td>\n      <td>20146697527</td>\n      <td>2018-04-30</td>\n      <td>2018-04-23</td>\n      <td>secretaria de gerencia correspondiente abril 2018</td>\n      <td>Nuevos Soles</td>\n      <td>950.0</td>\n      <td>Devengada</td>\n      <td>Contrataciones hasta 8 UIT (LEY 30225)(No incl...</td>\n      <td>PIURA</td>\n      <td>10459825172</td>\n      <td>CALLAN CRESPO GIORLLINIA LISET                ...</td>\n      <td>10</td>\n    </tr>\n    <tr>\n      <th>3</th>\n      <td>UNIVERSIDAD NACIONAL MAYOR DE SAN MARCOS</td>\n      <td>20148092282</td>\n      <td>2018-04-30</td>\n      <td>2018-03-20</td>\n      <td>SERVICIOS DIVERSOS</td>\n      <td>Nuevos Soles</td>\n      <td>2000.0</td>\n      <td>Emitida</td>\n      <td>Contrataciones hasta 8 UIT (LEY 30225)(No incl...</td>\n      <td>LIMA</td>\n      <td>10457711714</td>\n      <td>HINOSTROZA CISNEROS JOHMAN ANTONIO            ...</td>\n      <td>10</td>\n    </tr>\n    <tr>\n      <th>4</th>\n      <td>MUNICIPALIDAD DISTRITAL DE LA HUACA</td>\n      <td>20146697527</td>\n      <td>2018-04-30</td>\n      <td>2018-04-23</td>\n      <td>asistente de opi correspondiente abril 2018</td>\n      <td>Nuevos Soles</td>\n      <td>850.0</td>\n      <td>Devengada</td>\n      <td>Contrataciones hasta 8 UIT (LEY 30225)(No incl...</td>\n      <td>PIURA</td>\n      <td>10462328279</td>\n      <td>CASTILLO FLORES MARGOT ANGELITA               ...</td>\n      <td>10</td>\n    </tr>\n  </tbody>\n</table>\n</div>"
     },
     "execution_count": 26,
     "metadata": {},
     "output_type": "execute_result"
    }
   ],
   "source": [
    "# identificamos los ruc 10 (personas naturales)\n",
    "ddf['RUC_CONTRATISTA'] = ddf['RUC_CONTRATISTA'].astype(str)\n",
    "ddf['RUC_10'] = ddf['RUC_CONTRATISTA'].str.slice(0, 2)\n",
    "ddfFinal = ddf[ddf['RUC_10'] == \"10\"]"
   ],
   "metadata": {
    "collapsed": false,
    "ExecuteTime": {
     "end_time": "2023-09-20T20:52:23.855608600Z",
     "start_time": "2023-09-20T20:52:22.927883800Z"
    }
   },
   "id": "369723c4f46351a1"
  },
  {
   "cell_type": "code",
   "execution_count": 39,
   "outputs": [
    {
     "data": {
      "text/plain": "                                    ENTIDAD  RUC_ENTIDAD FECHA_REGISTRO  \\\n0       ESCUELA NACIONAL DE MARINA MERCANTE  20131379430     2018-04-30   \n1  UNIVERSIDAD NACIONAL MAYOR DE SAN MARCOS  20148092282     2018-04-30   \n2       MUNICIPALIDAD DISTRITAL DE LA HUACA  20146697527     2018-04-30   \n3  UNIVERSIDAD NACIONAL MAYOR DE SAN MARCOS  20148092282     2018-04-30   \n4       MUNICIPALIDAD DISTRITAL DE LA HUACA  20146697527     2018-04-30   \n\n  FECHA_DE_EMISION                                  DESCRIPCION_ORDEN  \\\n0       2018-03-26    SERVICIO NECESARIO PARA EL AREA DE CAPACITACION   \n1       2018-03-09                                 SERVICIOS DIVERSOS   \n2       2018-04-23  secretaria de gerencia correspondiente abril 2018   \n3       2018-03-20                                 SERVICIOS DIVERSOS   \n4       2018-04-23        asistente de opi correspondiente abril 2018   \n\n         MONEDA  MONTO_TOTAL_ORDEN_ORIGINAL ESTADOCONTRATACION  \\\n0  Nuevos Soles                      1800.0       Comprometida   \n1  Nuevos Soles                      3701.0            Emitida   \n2  Nuevos Soles                       950.0          Devengada   \n3  Nuevos Soles                      2000.0            Emitida   \n4  Nuevos Soles                       850.0          Devengada   \n\n                                  TIPODECONTRATACION  \\\n0  Contrataciones hasta 8 UIT (LEY 30225)(No incl...   \n1  Contrataciones hasta 8 UIT (LEY 30225)(No incl...   \n2  Contrataciones hasta 8 UIT (LEY 30225)(No incl...   \n3  Contrataciones hasta 8 UIT (LEY 30225)(No incl...   \n4  Contrataciones hasta 8 UIT (LEY 30225)(No incl...   \n\n       DEPARTAMENTO__ENTIDAD RUC_CONTRATISTA  \\\n0  PROV.CONSTITUC.DEL CALLAO     10458010850   \n1                       LIMA     10460226029   \n2                      PIURA     10459825172   \n3                       LIMA     10457711714   \n4                      PIURA     10462328279   \n\n                            NOMBRE_RAZON_CONTRATISTA RUC_10 anioEmi mesEmi  \n0  LEI TASSILE MARCO ROBERTO SALOMON             ...     10    2018     03  \n1  GONZALES COLONIA JAVIER ERASMO                ...     10    2018     03  \n2  CALLAN CRESPO GIORLLINIA LISET                ...     10    2018     04  \n3  HINOSTROZA CISNEROS JOHMAN ANTONIO            ...     10    2018     03  \n4  CASTILLO FLORES MARGOT ANGELITA               ...     10    2018     04  ",
      "text/html": "<div>\n<style scoped>\n    .dataframe tbody tr th:only-of-type {\n        vertical-align: middle;\n    }\n\n    .dataframe tbody tr th {\n        vertical-align: top;\n    }\n\n    .dataframe thead th {\n        text-align: right;\n    }\n</style>\n<table border=\"1\" class=\"dataframe\">\n  <thead>\n    <tr style=\"text-align: right;\">\n      <th></th>\n      <th>ENTIDAD</th>\n      <th>RUC_ENTIDAD</th>\n      <th>FECHA_REGISTRO</th>\n      <th>FECHA_DE_EMISION</th>\n      <th>DESCRIPCION_ORDEN</th>\n      <th>MONEDA</th>\n      <th>MONTO_TOTAL_ORDEN_ORIGINAL</th>\n      <th>ESTADOCONTRATACION</th>\n      <th>TIPODECONTRATACION</th>\n      <th>DEPARTAMENTO__ENTIDAD</th>\n      <th>RUC_CONTRATISTA</th>\n      <th>NOMBRE_RAZON_CONTRATISTA</th>\n      <th>RUC_10</th>\n      <th>anioEmi</th>\n      <th>mesEmi</th>\n    </tr>\n  </thead>\n  <tbody>\n    <tr>\n      <th>0</th>\n      <td>ESCUELA NACIONAL DE MARINA MERCANTE</td>\n      <td>20131379430</td>\n      <td>2018-04-30</td>\n      <td>2018-03-26</td>\n      <td>SERVICIO NECESARIO PARA EL AREA DE CAPACITACION</td>\n      <td>Nuevos Soles</td>\n      <td>1800.0</td>\n      <td>Comprometida</td>\n      <td>Contrataciones hasta 8 UIT (LEY 30225)(No incl...</td>\n      <td>PROV.CONSTITUC.DEL CALLAO</td>\n      <td>10458010850</td>\n      <td>LEI TASSILE MARCO ROBERTO SALOMON             ...</td>\n      <td>10</td>\n      <td>2018</td>\n      <td>03</td>\n    </tr>\n    <tr>\n      <th>1</th>\n      <td>UNIVERSIDAD NACIONAL MAYOR DE SAN MARCOS</td>\n      <td>20148092282</td>\n      <td>2018-04-30</td>\n      <td>2018-03-09</td>\n      <td>SERVICIOS DIVERSOS</td>\n      <td>Nuevos Soles</td>\n      <td>3701.0</td>\n      <td>Emitida</td>\n      <td>Contrataciones hasta 8 UIT (LEY 30225)(No incl...</td>\n      <td>LIMA</td>\n      <td>10460226029</td>\n      <td>GONZALES COLONIA JAVIER ERASMO                ...</td>\n      <td>10</td>\n      <td>2018</td>\n      <td>03</td>\n    </tr>\n    <tr>\n      <th>2</th>\n      <td>MUNICIPALIDAD DISTRITAL DE LA HUACA</td>\n      <td>20146697527</td>\n      <td>2018-04-30</td>\n      <td>2018-04-23</td>\n      <td>secretaria de gerencia correspondiente abril 2018</td>\n      <td>Nuevos Soles</td>\n      <td>950.0</td>\n      <td>Devengada</td>\n      <td>Contrataciones hasta 8 UIT (LEY 30225)(No incl...</td>\n      <td>PIURA</td>\n      <td>10459825172</td>\n      <td>CALLAN CRESPO GIORLLINIA LISET                ...</td>\n      <td>10</td>\n      <td>2018</td>\n      <td>04</td>\n    </tr>\n    <tr>\n      <th>3</th>\n      <td>UNIVERSIDAD NACIONAL MAYOR DE SAN MARCOS</td>\n      <td>20148092282</td>\n      <td>2018-04-30</td>\n      <td>2018-03-20</td>\n      <td>SERVICIOS DIVERSOS</td>\n      <td>Nuevos Soles</td>\n      <td>2000.0</td>\n      <td>Emitida</td>\n      <td>Contrataciones hasta 8 UIT (LEY 30225)(No incl...</td>\n      <td>LIMA</td>\n      <td>10457711714</td>\n      <td>HINOSTROZA CISNEROS JOHMAN ANTONIO            ...</td>\n      <td>10</td>\n      <td>2018</td>\n      <td>03</td>\n    </tr>\n    <tr>\n      <th>4</th>\n      <td>MUNICIPALIDAD DISTRITAL DE LA HUACA</td>\n      <td>20146697527</td>\n      <td>2018-04-30</td>\n      <td>2018-04-23</td>\n      <td>asistente de opi correspondiente abril 2018</td>\n      <td>Nuevos Soles</td>\n      <td>850.0</td>\n      <td>Devengada</td>\n      <td>Contrataciones hasta 8 UIT (LEY 30225)(No incl...</td>\n      <td>PIURA</td>\n      <td>10462328279</td>\n      <td>CASTILLO FLORES MARGOT ANGELITA               ...</td>\n      <td>10</td>\n      <td>2018</td>\n      <td>04</td>\n    </tr>\n  </tbody>\n</table>\n</div>"
     },
     "execution_count": 39,
     "metadata": {},
     "output_type": "execute_result"
    }
   ],
   "source": [
    "ddfFinal['FECHA_DE_EMISION'] = ddfFinal['FECHA_DE_EMISION'].astype(str)\n",
    "ddfFinal['anioEmi'] = ddfFinal['FECHA_DE_EMISION'].str.slice(stop = 4)\n",
    "ddfFinal['mesEmi'] = ddfFinal['FECHA_DE_EMISION'].str.slice(5, 7)\n",
    "ddfFinal.head()"
   ],
   "metadata": {
    "collapsed": false,
    "ExecuteTime": {
     "end_time": "2023-09-20T21:05:27.101131Z",
     "start_time": "2023-09-20T21:05:25.948750300Z"
    }
   },
   "id": "3a59c589036aec7"
  },
  {
   "cell_type": "code",
   "execution_count": null,
   "outputs": [],
   "source": [
    "df = ddfFinal.compute()"
   ],
   "metadata": {
    "collapsed": false
   },
   "id": "2b1df83faf0e9a8f"
  },
  {
   "cell_type": "code",
   "execution_count": null,
   "outputs": [],
   "source": [
    "# Tabla N° 1: Número de órdenes de servicio anuales por entidad\n",
    "tabla_1 = df.groupby( ['RUC_ENTIDAD' , 'anio_emi' ] )[['RUC_CONTRATISTA']].count().rename(columns = {'RUC_CONTRATISTA' : \"n_ordenes\" }).reset_index()"
   ],
   "metadata": {
    "collapsed": false
   },
   "id": "94b37a74fa9033d5"
  },
  {
   "cell_type": "code",
   "execution_count": null,
   "outputs": [],
   "source": [
    "# Tabla N° 2: Número de órdenes de servicio anuales por proveedor en cada entidad\n",
    "tabla_2 = df.groupby( ['RUC_ENTIDAD' , 'anio_emi' ] )[['RUC_CONTRATISTA']].value_counts().reset_index()\n",
    "tabla_2.columns = ['RUC_ENTIDAD' , 'anio_emi','RUC_CONTRATISTA','n_orden_prom']"
   ],
   "metadata": {
    "collapsed": false
   },
   "id": "d8764a09f5dabe3e"
  },
  {
   "cell_type": "code",
   "execution_count": null,
   "outputs": [],
   "source": [
    "# Tabla N° 3: Monto anual contratado por órdenes de servicio por entidad\n",
    "tabla_3 = df.groupby( ['RUC_ENTIDAD' , 'anio_emi' ] )[['MONTO_TOTAL_ORDEN_ORIGINAL']].sum().rename(columns = {'MONTO_TOTAL_ORDEN_ORIGINAL' : \"monto_total_entidad\" }).reset_index()"
   ],
   "metadata": {
    "collapsed": false
   },
   "id": "cc8563d4595c34f4"
  },
  {
   "cell_type": "code",
   "execution_count": null,
   "outputs": [],
   "source": [
    "# Tabla N° 4: Monto anual contratado por órdenes de servicio por entidad y proveedor\n",
    "tabla_4 = df.groupby( ['RUC_ENTIDAD' , 'anio_emi', 'RUC_CONTRATISTA' ])[['MONTO_TOTAL_ORDEN_ORIGINAL']].sum().rename(columns = {'MONTO_TOTAL_ORDEN_ORIGINAL' : \"monto_total_contratista\" }).reset_index()"
   ],
   "metadata": {
    "collapsed": false
   },
   "id": "5fce5313acdcbc4e"
  },
  {
   "cell_type": "code",
   "execution_count": null,
   "outputs": [],
   "source": [
    "# Tabla N° 5: Monto mensual promedio contratado por órdenes de servicio por entidad y proveedor\n",
    "tabla_5 = tabla_4\n",
    "tabla_5[\"monto_promedio_contratista_mensual\"] = tabla_5[\"monto_total_contratista\"] / 12\n",
    "\n",
    "tabla_5 = tabla_5[tabla_5['monto_promedio_contratista_mensual'] <= 41400]"
   ],
   "metadata": {
    "collapsed": false
   },
   "id": "6169d5d314591758"
  },
  {
   "cell_type": "code",
   "execution_count": null,
   "outputs": [],
   "source": [
    "# Gráfico N° 1: Distribución del monto promedio mensual en órdenes de servicio por contratista 2018-2022\n",
    "    # Calculate the number of bins using the Freedman-Diaconis rule\n",
    "    num_bins = int(round(len(tabla_5['monto_promedio_contratista_mensual']) ** 0.5))\n",
    "\n",
    "    # Create the plot with journal paper format settings\n",
    "    plt.figure(figsize=(8, 6))  # Adjust figure size to your preference\n",
    "    plt.hist(tabla_5['monto_promedio_contratista_mensual'], bins=num_bins, color='skyblue', edgecolor='black')\n",
    "\n",
    "    # Customize the plot\n",
    "    plt.xlabel('Monto promedio mensual (en soles)', fontsize=12)  # Adjust font size\n",
    "    plt.ylabel('Frequency', fontsize=12)  # Adjust font size\n",
    "    plt.title('Distribución del monto promedio mensual en órdenes de servicio por contratista 2018-2022', fontsize=14)  # Adjust font size and title\n",
    "    plt.grid(axis='y', linestyle='--', alpha=0.7)  # Add gridlines\n",
    "\n",
    "    # Calculate summary statistics\n",
    "    mean_value = tabla_5['monto_promedio_contratista_mensual'].mean()\n",
    "    median_value = tabla_5['monto_promedio_contratista_mensual'].median()\n",
    "    std_value = tabla_5['monto_promedio_contratista_mensual'].std()\n",
    "\n",
    "    # Display summary statistics on the plot\n",
    "    plt.text(0.7, 0.9, f\"Mean: {mean_value:.2f}\", transform=plt.gca().transAxes, fontsize=12)\n",
    "    plt.text(0.7, 0.85, f\"Median: {median_value:.2f}\", transform=plt.gca().transAxes, fontsize=12)\n",
    "    plt.text(0.7, 0.8, f\"Std: {std_value:.2f}\", transform=plt.gca().transAxes, fontsize=12)\n",
    "\n",
    "    # Save the plot (optional)\n",
    "    file_path = os.path.join(pathResults,'graph1.png')\n",
    "    plt.savefig(file_path, dpi=300, bbox_inches='tight')  # Adjust filename and DPI\n",
    "\n",
    "    # Display the plot\n",
    "    plt.show()"
   ],
   "metadata": {
    "collapsed": false
   },
   "id": "361d0db2a6cfee23"
  },
  {
   "cell_type": "code",
   "execution_count": null,
   "outputs": [],
   "source": [
    "# Gráfico N° 2: Distribución del número de órdenes de servicio promedio anual por contratista 2018-2022\n",
    "    tabla_2 = tabla_2[tabla_2['n_orden_prom'] <= 12]\n",
    "    # Calculate the number of bins using the square root rule\n",
    "    num_bins = int(round(len(tabla_2['n_orden_prom']) ** 0.5))\n",
    "\n",
    "    # Create the plot with journal paper format settings\n",
    "    plt.figure(figsize=(8, 6))  # Adjust figure size to your preference\n",
    "    plt.hist(tabla_2['n_orden_prom'], bins=num_bins, color='skyblue', edgecolor='black')\n",
    "\n",
    "    # Customize the plot\n",
    "    plt.xlabel('Número de órdenes promedio anual por contratista', fontsize=12)  # Adjust font size\n",
    "    plt.ylabel('Frequency', fontsize=12)  # Adjust font size\n",
    "    plt.title('Distribución del número de órdenes promedio anual por contratista 2018-2022', fontsize=14)  # Adjust font size and title\n",
    "    plt.grid(axis='y', linestyle='--', alpha=0.7)  # Add gridlines\n",
    "\n",
    "    # Calculate summary statistics\n",
    "    mean_value = tabla_2['n_orden_prom'].mean()\n",
    "    median_value = tabla_2['n_orden_prom'].median()\n",
    "    std_value = tabla_2['n_orden_prom'].std()\n",
    "\n",
    "    # Display summary statistics on the plot\n",
    "    plt.text(0.7, 0.9, f\"Mean: {mean_value:.2f}\", transform=plt.gca().transAxes, fontsize=12)\n",
    "    plt.text(0.7, 0.85, f\"Median: {median_value:.2f}\", transform=plt.gca().transAxes, fontsize=12)\n",
    "    plt.text(0.7, 0.8, f\"Std: {std_value:.2f}\", transform=plt.gca().transAxes, fontsize=12)\n",
    "\n",
    "    # Save the plot (optional)\n",
    "    file_path = os.path.join(pathResults,'graph2.png')\n",
    "    plt.savefig(file_path, dpi=300, bbox_inches='tight')  # Adjust filename and DPI\n",
    "\n",
    "    # Display the plot\n",
    "    plt.show()"
   ],
   "metadata": {
    "collapsed": false
   },
   "id": "3adf403f5d32a0f1"
  },
  {
   "cell_type": "code",
   "execution_count": null,
   "outputs": [],
   "source": [
    "import wordcloud as WordCloud\n",
    "# Nube de palabras\n",
    "word_freq = ddfFinal['DESCRIPCION_ORDEN'].str.split().explode().value_counts()\n",
    "word_freq = word_freq.compute()\n",
    "\n",
    "wordcloud = WordCloud(width=800, height=400, background_color='white').generate_from_frequencies(word_freq)\n",
    "\n",
    "plt.figure(figsize=(10, 5))\n",
    "plt.imshow(wordcloud, interpolation='bilinear')\n",
    "plt.axis(\"off\")\n",
    "plt.show()"
   ],
   "metadata": {
    "collapsed": false
   },
   "id": "c939fcc2b8ef5863"
  }
 ],
 "metadata": {
  "kernelspec": {
   "display_name": "Python 3",
   "language": "python",
   "name": "python3"
  },
  "language_info": {
   "codemirror_mode": {
    "name": "ipython",
    "version": 2
   },
   "file_extension": ".py",
   "mimetype": "text/x-python",
   "name": "python",
   "nbconvert_exporter": "python",
   "pygments_lexer": "ipython2",
   "version": "2.7.6"
  }
 },
 "nbformat": 4,
 "nbformat_minor": 5
}

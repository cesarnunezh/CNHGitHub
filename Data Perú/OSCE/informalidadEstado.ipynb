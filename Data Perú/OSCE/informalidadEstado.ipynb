{
 "cells": [
  {
   "cell_type": "code",
   "execution_count": 1,
   "id": "initial_id",
   "metadata": {
    "collapsed": true,
    "ExecuteTime": {
     "end_time": "2023-10-07T01:17:18.886465500Z",
     "start_time": "2023-10-07T01:17:16.176357800Z"
    }
   },
   "outputs": [],
   "source": [
    "# Importamos las librerías que utilizaremos\n",
    "import pandas as pd\n",
    "import os\n",
    "import dask.dataframe as dd\n",
    "import numpy as np\n",
    "import requests\n",
    "from selenium import webdriver\n",
    "from selenium.webdriver.chrome.service import Service\n",
    "\n",
    "from selenium.webdriver.chrome.options import Options\n",
    "import time\n",
    "from selenium.webdriver.common.by import By\n",
    "import shutil\n",
    "import matplotlib.pyplot as plt\n"
   ]
  },
  {
   "cell_type": "code",
   "execution_count": 2,
   "outputs": [],
   "source": [
    "# Definimos las carpetas de trabajo\n",
    "pathRawData = r'C:\\Users\\User\\OneDrive - Universidad del Pacífico\\1. Documentos\\0. Bases de datos\\10. OSCE\\0. Originales'\n",
    "pathData = r'C:\\Users\\User\\OneDrive - Universidad del Pacífico\\1. Documentos\\0. Bases de datos\\10. OSCE\\1. Bases'\n",
    "pathResults = r'C:\\Users\\User\\OneDrive - Universidad del Pacífico\\1. Documentos\\0. Bases de datos\\10. OSCE\\2. Resultados'"
   ],
   "metadata": {
    "collapsed": false,
    "ExecuteTime": {
     "end_time": "2023-10-07T01:17:21.184511300Z",
     "start_time": "2023-10-07T01:17:21.183501600Z"
    }
   },
   "id": "4fa1443f26a7bf65"
  },
  {
   "cell_type": "code",
   "execution_count": 3,
   "outputs": [
    {
     "name": "stdout",
     "output_type": "stream",
     "text": [
      "1_1_1_1\n",
      "1_1_1_2\n",
      "1_1_1_3\n",
      "1_1_2_1\n",
      "1_1_2_2\n",
      "1_1_2_3\n",
      "1_1_3_1\n",
      "1_1_3_2\n",
      "1_1_3_3\n",
      "1_1_4_1\n",
      "1_1_4_2\n",
      "1_1_4_3\n",
      "1_2_1_1\n",
      "1_2_1_2\n",
      "1_2_1_3\n",
      "1_2_2_1\n",
      "1_2_2_2\n",
      "1_2_2_3\n",
      "1_2_3_1\n",
      "1_2_3_2\n",
      "1_2_3_3\n",
      "1_2_4_1\n",
      "1_2_4_2\n",
      "1_2_4_3\n",
      "1_3_1_1\n",
      "1_3_1_2\n",
      "1_3_1_3\n",
      "1_3_2_1\n",
      "1_3_2_2\n",
      "1_3_2_3\n",
      "1_3_3_1\n",
      "1_3_3_2\n",
      "1_3_3_3\n",
      "1_3_4_2\n",
      "1_3_4_3\n",
      "2_1_1_1\n",
      "2_1_1_2\n",
      "2_1_1_3\n",
      "2_1_2_1\n",
      "2_1_2_2\n",
      "2_1_2_3\n",
      "2_1_3_1\n",
      "2_1_3_2\n",
      "2_1_3_3\n",
      "2_1_4_1\n",
      "2_1_4_2\n",
      "2_1_4_3\n",
      "2_2_1_1\n",
      "2_2_1_2\n",
      "2_2_1_3\n",
      "2_2_2_1\n",
      "2_2_2_2\n",
      "2_2_2_3\n",
      "2_2_3_1\n",
      "2_2_3_2\n",
      "2_2_3_3\n",
      "2_2_4_1\n",
      "2_2_4_2\n",
      "2_2_4_3\n",
      "2_3_1_1\n",
      "2_3_1_2\n",
      "2_3_1_3\n",
      "2_3_2_1\n",
      "2_3_2_2\n",
      "2_3_2_3\n",
      "2_3_3_1\n",
      "2_3_3_2\n"
     ]
    }
   ],
   "source": [
    "# Scrappeo de la web del OSCE\n",
    "# Definimos algunas opciones para abrir la página\n",
    "service = Service()\n",
    "options = webdriver.ChromeOptions()\n",
    "driver = webdriver.Chrome(service=service, options=options)\n",
    "\n",
    "\n",
    "# Abrimos la página\n",
    "driver.maximize_window()\n",
    "\n",
    "driver.get(\"https://bi.seace.gob.pe/pentaho/api/repos/%3Apublic%3Aportal%3Adatosabiertoscontratacionesdirectas.html/content?userid=public&password=key#\")\n",
    "\n",
    "# generamos un bucle para descargar todas las bases\n",
    "contador = 0\n",
    "for trianio in range(1,3):\n",
    "    for anio in range(1,4):\n",
    "        for trim in range(1,5):\n",
    "            for mes in range(1,4):\n",
    "                try:\n",
    "                    locals()[f'{trianio}_{anio}_{trim}_{mes}'] = driver.find_element( By.XPATH, f\"/html/body/main/section[1]/div[{trianio}]/div/div[{anio}]/div/div[{trim}]/a[{mes}]/button\")\n",
    "                    print(f'{trianio}_{anio}_{trim}_{mes}')\n",
    "\n",
    "                    locals()[f'{trianio}_{anio}_{trim}_{mes}'].click()\n",
    "                    time.sleep(5)\n",
    "                    contador+=1\n",
    "                except:\n",
    "                    continue\n"
   ],
   "metadata": {
    "collapsed": false,
    "ExecuteTime": {
     "end_time": "2023-10-07T01:24:02.029216900Z",
     "start_time": "2023-10-07T01:17:27.263343Z"
    }
   },
   "id": "b63fbcd2ac6d4f20"
  },
  {
   "cell_type": "code",
   "execution_count": 20,
   "outputs": [],
   "source": [
    "# Seteamos la carpeta donde originalmente se descargaron los archivos\n",
    "downloadPath = r\"C:\\Users\\User\\Downloads\"\n",
    "\n",
    "# Generamos una lista que permita identificar los archivos de la carpeta y las fechas de modificación\n",
    "filesWithTime = [(f, os.path.getmtime(os.path.join(downloadPath, f))) for f in os.listdir(downloadPath)]\n",
    "\n",
    "# Ordenamos de tal forma que los primeros archivos de la lista sean los más recientes\n",
    "sortedFiles = sorted(filesWithTime, key=lambda x: x[1], reverse=True)\n",
    "\n",
    "# Generamos una lista de solo los datos descargados\n",
    "locals()[f'last_{contador}_files'] = [f[0] for f in sortedFiles[:contador]]\n",
    "\n",
    "# Movemos los archivos descargados a la carpeta de trabajo\n",
    "for file in locals()[f'last_{contador}_files']:\n",
    "\n",
    "    # Path of the file to be moved\n",
    "    srcFile = \"C:/Users/User/Downloads/\" + file\n",
    "\n",
    "    # Destination path where the file should be moved\n",
    "    pathRaw8UIT = r'C:\\Users\\User\\OneDrive - Universidad del Pacífico\\1. Documentos\\0. Bases de datos\\10. OSCE\\0. Originales\\Menores de 8 UIT'\n",
    "\n",
    "    # Move the file from the source path to the destination path\n",
    "    shutil.move(srcFile, pathRaw8UIT)\n"
   ],
   "metadata": {
    "collapsed": false,
    "ExecuteTime": {
     "end_time": "2023-10-05T22:57:49.665433600Z",
     "start_time": "2023-10-05T22:57:49.551735100Z"
    }
   },
   "id": "f4ece8d5298525dd"
  },
  {
   "cell_type": "code",
   "execution_count": 12,
   "outputs": [
    {
     "ename": "KeyboardInterrupt",
     "evalue": "",
     "output_type": "error",
     "traceback": [
      "\u001B[1;31m---------------------------------------------------------------------------\u001B[0m",
      "\u001B[1;31mKeyboardInterrupt\u001B[0m                         Traceback (most recent call last)",
      "Cell \u001B[1;32mIn[12], line 19\u001B[0m\n\u001B[0;32m     17\u001B[0m     contador_1\u001B[38;5;241m+\u001B[39m\u001B[38;5;241m=\u001B[39m\u001B[38;5;241m1\u001B[39m\n\u001B[0;32m     18\u001B[0m \u001B[38;5;28;01melse\u001B[39;00m:\n\u001B[1;32m---> 19\u001B[0m     df_alterna \u001B[38;5;241m=\u001B[39m \u001B[43mpd\u001B[49m\u001B[38;5;241;43m.\u001B[39;49m\u001B[43mread_excel\u001B[49m\u001B[43m(\u001B[49m\u001B[43mpathRaw8UIT\u001B[49m\u001B[43m \u001B[49m\u001B[38;5;241;43m+\u001B[39;49m\u001B[43m \u001B[49m\u001B[43mfile\u001B[49m\u001B[43m,\u001B[49m\u001B[43m \u001B[49m\u001B[43mskiprows\u001B[49m\u001B[38;5;241;43m=\u001B[39;49m\u001B[38;5;241;43m1\u001B[39;49m\u001B[43m)\u001B[49m\n\u001B[0;32m     20\u001B[0m     servicios \u001B[38;5;241m=\u001B[39m df_alterna[\u001B[38;5;124m'\u001B[39m\u001B[38;5;124mTIPOORDEN\u001B[39m\u001B[38;5;124m'\u001B[39m] \u001B[38;5;241m==\u001B[39m \u001B[38;5;124m'\u001B[39m\u001B[38;5;124mOrden de Servicio\u001B[39m\u001B[38;5;124m'\u001B[39m\n\u001B[0;32m     21\u001B[0m     df_alterna \u001B[38;5;241m=\u001B[39m df_alterna[servicios]\n",
      "File \u001B[1;32m~\\AppData\\Local\\Programs\\Python\\Python311\\Lib\\site-packages\\pandas\\io\\excel\\_base.py:517\u001B[0m, in \u001B[0;36mread_excel\u001B[1;34m(io, sheet_name, header, names, index_col, usecols, dtype, engine, converters, true_values, false_values, skiprows, nrows, na_values, keep_default_na, na_filter, verbose, parse_dates, date_parser, date_format, thousands, decimal, comment, skipfooter, storage_options, dtype_backend, engine_kwargs)\u001B[0m\n\u001B[0;32m    511\u001B[0m     \u001B[38;5;28;01mraise\u001B[39;00m \u001B[38;5;167;01mValueError\u001B[39;00m(\n\u001B[0;32m    512\u001B[0m         \u001B[38;5;124m\"\u001B[39m\u001B[38;5;124mEngine should not be specified when passing \u001B[39m\u001B[38;5;124m\"\u001B[39m\n\u001B[0;32m    513\u001B[0m         \u001B[38;5;124m\"\u001B[39m\u001B[38;5;124man ExcelFile - ExcelFile already has the engine set\u001B[39m\u001B[38;5;124m\"\u001B[39m\n\u001B[0;32m    514\u001B[0m     )\n\u001B[0;32m    516\u001B[0m \u001B[38;5;28;01mtry\u001B[39;00m:\n\u001B[1;32m--> 517\u001B[0m     data \u001B[38;5;241m=\u001B[39m \u001B[43mio\u001B[49m\u001B[38;5;241;43m.\u001B[39;49m\u001B[43mparse\u001B[49m\u001B[43m(\u001B[49m\n\u001B[0;32m    518\u001B[0m \u001B[43m        \u001B[49m\u001B[43msheet_name\u001B[49m\u001B[38;5;241;43m=\u001B[39;49m\u001B[43msheet_name\u001B[49m\u001B[43m,\u001B[49m\n\u001B[0;32m    519\u001B[0m \u001B[43m        \u001B[49m\u001B[43mheader\u001B[49m\u001B[38;5;241;43m=\u001B[39;49m\u001B[43mheader\u001B[49m\u001B[43m,\u001B[49m\n\u001B[0;32m    520\u001B[0m \u001B[43m        \u001B[49m\u001B[43mnames\u001B[49m\u001B[38;5;241;43m=\u001B[39;49m\u001B[43mnames\u001B[49m\u001B[43m,\u001B[49m\n\u001B[0;32m    521\u001B[0m \u001B[43m        \u001B[49m\u001B[43mindex_col\u001B[49m\u001B[38;5;241;43m=\u001B[39;49m\u001B[43mindex_col\u001B[49m\u001B[43m,\u001B[49m\n\u001B[0;32m    522\u001B[0m \u001B[43m        \u001B[49m\u001B[43musecols\u001B[49m\u001B[38;5;241;43m=\u001B[39;49m\u001B[43musecols\u001B[49m\u001B[43m,\u001B[49m\n\u001B[0;32m    523\u001B[0m \u001B[43m        \u001B[49m\u001B[43mdtype\u001B[49m\u001B[38;5;241;43m=\u001B[39;49m\u001B[43mdtype\u001B[49m\u001B[43m,\u001B[49m\n\u001B[0;32m    524\u001B[0m \u001B[43m        \u001B[49m\u001B[43mconverters\u001B[49m\u001B[38;5;241;43m=\u001B[39;49m\u001B[43mconverters\u001B[49m\u001B[43m,\u001B[49m\n\u001B[0;32m    525\u001B[0m \u001B[43m        \u001B[49m\u001B[43mtrue_values\u001B[49m\u001B[38;5;241;43m=\u001B[39;49m\u001B[43mtrue_values\u001B[49m\u001B[43m,\u001B[49m\n\u001B[0;32m    526\u001B[0m \u001B[43m        \u001B[49m\u001B[43mfalse_values\u001B[49m\u001B[38;5;241;43m=\u001B[39;49m\u001B[43mfalse_values\u001B[49m\u001B[43m,\u001B[49m\n\u001B[0;32m    527\u001B[0m \u001B[43m        \u001B[49m\u001B[43mskiprows\u001B[49m\u001B[38;5;241;43m=\u001B[39;49m\u001B[43mskiprows\u001B[49m\u001B[43m,\u001B[49m\n\u001B[0;32m    528\u001B[0m \u001B[43m        \u001B[49m\u001B[43mnrows\u001B[49m\u001B[38;5;241;43m=\u001B[39;49m\u001B[43mnrows\u001B[49m\u001B[43m,\u001B[49m\n\u001B[0;32m    529\u001B[0m \u001B[43m        \u001B[49m\u001B[43mna_values\u001B[49m\u001B[38;5;241;43m=\u001B[39;49m\u001B[43mna_values\u001B[49m\u001B[43m,\u001B[49m\n\u001B[0;32m    530\u001B[0m \u001B[43m        \u001B[49m\u001B[43mkeep_default_na\u001B[49m\u001B[38;5;241;43m=\u001B[39;49m\u001B[43mkeep_default_na\u001B[49m\u001B[43m,\u001B[49m\n\u001B[0;32m    531\u001B[0m \u001B[43m        \u001B[49m\u001B[43mna_filter\u001B[49m\u001B[38;5;241;43m=\u001B[39;49m\u001B[43mna_filter\u001B[49m\u001B[43m,\u001B[49m\n\u001B[0;32m    532\u001B[0m \u001B[43m        \u001B[49m\u001B[43mverbose\u001B[49m\u001B[38;5;241;43m=\u001B[39;49m\u001B[43mverbose\u001B[49m\u001B[43m,\u001B[49m\n\u001B[0;32m    533\u001B[0m \u001B[43m        \u001B[49m\u001B[43mparse_dates\u001B[49m\u001B[38;5;241;43m=\u001B[39;49m\u001B[43mparse_dates\u001B[49m\u001B[43m,\u001B[49m\n\u001B[0;32m    534\u001B[0m \u001B[43m        \u001B[49m\u001B[43mdate_parser\u001B[49m\u001B[38;5;241;43m=\u001B[39;49m\u001B[43mdate_parser\u001B[49m\u001B[43m,\u001B[49m\n\u001B[0;32m    535\u001B[0m \u001B[43m        \u001B[49m\u001B[43mdate_format\u001B[49m\u001B[38;5;241;43m=\u001B[39;49m\u001B[43mdate_format\u001B[49m\u001B[43m,\u001B[49m\n\u001B[0;32m    536\u001B[0m \u001B[43m        \u001B[49m\u001B[43mthousands\u001B[49m\u001B[38;5;241;43m=\u001B[39;49m\u001B[43mthousands\u001B[49m\u001B[43m,\u001B[49m\n\u001B[0;32m    537\u001B[0m \u001B[43m        \u001B[49m\u001B[43mdecimal\u001B[49m\u001B[38;5;241;43m=\u001B[39;49m\u001B[43mdecimal\u001B[49m\u001B[43m,\u001B[49m\n\u001B[0;32m    538\u001B[0m \u001B[43m        \u001B[49m\u001B[43mcomment\u001B[49m\u001B[38;5;241;43m=\u001B[39;49m\u001B[43mcomment\u001B[49m\u001B[43m,\u001B[49m\n\u001B[0;32m    539\u001B[0m \u001B[43m        \u001B[49m\u001B[43mskipfooter\u001B[49m\u001B[38;5;241;43m=\u001B[39;49m\u001B[43mskipfooter\u001B[49m\u001B[43m,\u001B[49m\n\u001B[0;32m    540\u001B[0m \u001B[43m        \u001B[49m\u001B[43mdtype_backend\u001B[49m\u001B[38;5;241;43m=\u001B[39;49m\u001B[43mdtype_backend\u001B[49m\u001B[43m,\u001B[49m\n\u001B[0;32m    541\u001B[0m \u001B[43m    \u001B[49m\u001B[43m)\u001B[49m\n\u001B[0;32m    542\u001B[0m \u001B[38;5;28;01mfinally\u001B[39;00m:\n\u001B[0;32m    543\u001B[0m     \u001B[38;5;66;03m# make sure to close opened file handles\u001B[39;00m\n\u001B[0;32m    544\u001B[0m     \u001B[38;5;28;01mif\u001B[39;00m should_close:\n",
      "File \u001B[1;32m~\\AppData\\Local\\Programs\\Python\\Python311\\Lib\\site-packages\\pandas\\io\\excel\\_base.py:1629\u001B[0m, in \u001B[0;36mExcelFile.parse\u001B[1;34m(self, sheet_name, header, names, index_col, usecols, converters, true_values, false_values, skiprows, nrows, na_values, parse_dates, date_parser, date_format, thousands, comment, skipfooter, dtype_backend, **kwds)\u001B[0m\n\u001B[0;32m   1589\u001B[0m \u001B[38;5;28;01mdef\u001B[39;00m \u001B[38;5;21mparse\u001B[39m(\n\u001B[0;32m   1590\u001B[0m     \u001B[38;5;28mself\u001B[39m,\n\u001B[0;32m   1591\u001B[0m     sheet_name: \u001B[38;5;28mstr\u001B[39m \u001B[38;5;241m|\u001B[39m \u001B[38;5;28mint\u001B[39m \u001B[38;5;241m|\u001B[39m \u001B[38;5;28mlist\u001B[39m[\u001B[38;5;28mint\u001B[39m] \u001B[38;5;241m|\u001B[39m \u001B[38;5;28mlist\u001B[39m[\u001B[38;5;28mstr\u001B[39m] \u001B[38;5;241m|\u001B[39m \u001B[38;5;28;01mNone\u001B[39;00m \u001B[38;5;241m=\u001B[39m \u001B[38;5;241m0\u001B[39m,\n\u001B[1;32m   (...)\u001B[0m\n\u001B[0;32m   1609\u001B[0m     \u001B[38;5;241m*\u001B[39m\u001B[38;5;241m*\u001B[39mkwds,\n\u001B[0;32m   1610\u001B[0m ) \u001B[38;5;241m-\u001B[39m\u001B[38;5;241m>\u001B[39m DataFrame \u001B[38;5;241m|\u001B[39m \u001B[38;5;28mdict\u001B[39m[\u001B[38;5;28mstr\u001B[39m, DataFrame] \u001B[38;5;241m|\u001B[39m \u001B[38;5;28mdict\u001B[39m[\u001B[38;5;28mint\u001B[39m, DataFrame]:\n\u001B[0;32m   1611\u001B[0m \u001B[38;5;250m    \u001B[39m\u001B[38;5;124;03m\"\"\"\u001B[39;00m\n\u001B[0;32m   1612\u001B[0m \u001B[38;5;124;03m    Parse specified sheet(s) into a DataFrame.\u001B[39;00m\n\u001B[0;32m   1613\u001B[0m \n\u001B[1;32m   (...)\u001B[0m\n\u001B[0;32m   1627\u001B[0m \u001B[38;5;124;03m    >>> file.parse()  # doctest: +SKIP\u001B[39;00m\n\u001B[0;32m   1628\u001B[0m \u001B[38;5;124;03m    \"\"\"\u001B[39;00m\n\u001B[1;32m-> 1629\u001B[0m     \u001B[38;5;28;01mreturn\u001B[39;00m \u001B[38;5;28;43mself\u001B[39;49m\u001B[38;5;241;43m.\u001B[39;49m\u001B[43m_reader\u001B[49m\u001B[38;5;241;43m.\u001B[39;49m\u001B[43mparse\u001B[49m\u001B[43m(\u001B[49m\n\u001B[0;32m   1630\u001B[0m \u001B[43m        \u001B[49m\u001B[43msheet_name\u001B[49m\u001B[38;5;241;43m=\u001B[39;49m\u001B[43msheet_name\u001B[49m\u001B[43m,\u001B[49m\n\u001B[0;32m   1631\u001B[0m \u001B[43m        \u001B[49m\u001B[43mheader\u001B[49m\u001B[38;5;241;43m=\u001B[39;49m\u001B[43mheader\u001B[49m\u001B[43m,\u001B[49m\n\u001B[0;32m   1632\u001B[0m \u001B[43m        \u001B[49m\u001B[43mnames\u001B[49m\u001B[38;5;241;43m=\u001B[39;49m\u001B[43mnames\u001B[49m\u001B[43m,\u001B[49m\n\u001B[0;32m   1633\u001B[0m \u001B[43m        \u001B[49m\u001B[43mindex_col\u001B[49m\u001B[38;5;241;43m=\u001B[39;49m\u001B[43mindex_col\u001B[49m\u001B[43m,\u001B[49m\n\u001B[0;32m   1634\u001B[0m \u001B[43m        \u001B[49m\u001B[43musecols\u001B[49m\u001B[38;5;241;43m=\u001B[39;49m\u001B[43musecols\u001B[49m\u001B[43m,\u001B[49m\n\u001B[0;32m   1635\u001B[0m \u001B[43m        \u001B[49m\u001B[43mconverters\u001B[49m\u001B[38;5;241;43m=\u001B[39;49m\u001B[43mconverters\u001B[49m\u001B[43m,\u001B[49m\n\u001B[0;32m   1636\u001B[0m \u001B[43m        \u001B[49m\u001B[43mtrue_values\u001B[49m\u001B[38;5;241;43m=\u001B[39;49m\u001B[43mtrue_values\u001B[49m\u001B[43m,\u001B[49m\n\u001B[0;32m   1637\u001B[0m \u001B[43m        \u001B[49m\u001B[43mfalse_values\u001B[49m\u001B[38;5;241;43m=\u001B[39;49m\u001B[43mfalse_values\u001B[49m\u001B[43m,\u001B[49m\n\u001B[0;32m   1638\u001B[0m \u001B[43m        \u001B[49m\u001B[43mskiprows\u001B[49m\u001B[38;5;241;43m=\u001B[39;49m\u001B[43mskiprows\u001B[49m\u001B[43m,\u001B[49m\n\u001B[0;32m   1639\u001B[0m \u001B[43m        \u001B[49m\u001B[43mnrows\u001B[49m\u001B[38;5;241;43m=\u001B[39;49m\u001B[43mnrows\u001B[49m\u001B[43m,\u001B[49m\n\u001B[0;32m   1640\u001B[0m \u001B[43m        \u001B[49m\u001B[43mna_values\u001B[49m\u001B[38;5;241;43m=\u001B[39;49m\u001B[43mna_values\u001B[49m\u001B[43m,\u001B[49m\n\u001B[0;32m   1641\u001B[0m \u001B[43m        \u001B[49m\u001B[43mparse_dates\u001B[49m\u001B[38;5;241;43m=\u001B[39;49m\u001B[43mparse_dates\u001B[49m\u001B[43m,\u001B[49m\n\u001B[0;32m   1642\u001B[0m \u001B[43m        \u001B[49m\u001B[43mdate_parser\u001B[49m\u001B[38;5;241;43m=\u001B[39;49m\u001B[43mdate_parser\u001B[49m\u001B[43m,\u001B[49m\n\u001B[0;32m   1643\u001B[0m \u001B[43m        \u001B[49m\u001B[43mdate_format\u001B[49m\u001B[38;5;241;43m=\u001B[39;49m\u001B[43mdate_format\u001B[49m\u001B[43m,\u001B[49m\n\u001B[0;32m   1644\u001B[0m \u001B[43m        \u001B[49m\u001B[43mthousands\u001B[49m\u001B[38;5;241;43m=\u001B[39;49m\u001B[43mthousands\u001B[49m\u001B[43m,\u001B[49m\n\u001B[0;32m   1645\u001B[0m \u001B[43m        \u001B[49m\u001B[43mcomment\u001B[49m\u001B[38;5;241;43m=\u001B[39;49m\u001B[43mcomment\u001B[49m\u001B[43m,\u001B[49m\n\u001B[0;32m   1646\u001B[0m \u001B[43m        \u001B[49m\u001B[43mskipfooter\u001B[49m\u001B[38;5;241;43m=\u001B[39;49m\u001B[43mskipfooter\u001B[49m\u001B[43m,\u001B[49m\n\u001B[0;32m   1647\u001B[0m \u001B[43m        \u001B[49m\u001B[43mdtype_backend\u001B[49m\u001B[38;5;241;43m=\u001B[39;49m\u001B[43mdtype_backend\u001B[49m\u001B[43m,\u001B[49m\n\u001B[0;32m   1648\u001B[0m \u001B[43m        \u001B[49m\u001B[38;5;241;43m*\u001B[39;49m\u001B[38;5;241;43m*\u001B[39;49m\u001B[43mkwds\u001B[49m\u001B[43m,\u001B[49m\n\u001B[0;32m   1649\u001B[0m \u001B[43m    \u001B[49m\u001B[43m)\u001B[49m\n",
      "File \u001B[1;32m~\\AppData\\Local\\Programs\\Python\\Python311\\Lib\\site-packages\\pandas\\io\\excel\\_base.py:793\u001B[0m, in \u001B[0;36mBaseExcelReader.parse\u001B[1;34m(self, sheet_name, header, names, index_col, usecols, dtype, true_values, false_values, skiprows, nrows, na_values, verbose, parse_dates, date_parser, date_format, thousands, decimal, comment, skipfooter, dtype_backend, **kwds)\u001B[0m\n\u001B[0;32m    790\u001B[0m     sheet \u001B[38;5;241m=\u001B[39m \u001B[38;5;28mself\u001B[39m\u001B[38;5;241m.\u001B[39mget_sheet_by_index(asheetname)\n\u001B[0;32m    792\u001B[0m file_rows_needed \u001B[38;5;241m=\u001B[39m \u001B[38;5;28mself\u001B[39m\u001B[38;5;241m.\u001B[39m_calc_rows(header, index_col, skiprows, nrows)\n\u001B[1;32m--> 793\u001B[0m data \u001B[38;5;241m=\u001B[39m \u001B[38;5;28;43mself\u001B[39;49m\u001B[38;5;241;43m.\u001B[39;49m\u001B[43mget_sheet_data\u001B[49m\u001B[43m(\u001B[49m\u001B[43msheet\u001B[49m\u001B[43m,\u001B[49m\u001B[43m \u001B[49m\u001B[43mfile_rows_needed\u001B[49m\u001B[43m)\u001B[49m\n\u001B[0;32m    794\u001B[0m \u001B[38;5;28;01mif\u001B[39;00m \u001B[38;5;28mhasattr\u001B[39m(sheet, \u001B[38;5;124m\"\u001B[39m\u001B[38;5;124mclose\u001B[39m\u001B[38;5;124m\"\u001B[39m):\n\u001B[0;32m    795\u001B[0m     \u001B[38;5;66;03m# pyxlsb opens two TemporaryFiles\u001B[39;00m\n\u001B[0;32m    796\u001B[0m     sheet\u001B[38;5;241m.\u001B[39mclose()\n",
      "File \u001B[1;32m~\\AppData\\Local\\Programs\\Python\\Python311\\Lib\\site-packages\\pandas\\io\\excel\\_openpyxl.py:616\u001B[0m, in \u001B[0;36mOpenpyxlReader.get_sheet_data\u001B[1;34m(self, sheet, file_rows_needed)\u001B[0m\n\u001B[0;32m    614\u001B[0m data: \u001B[38;5;28mlist\u001B[39m[\u001B[38;5;28mlist\u001B[39m[Scalar]] \u001B[38;5;241m=\u001B[39m []\n\u001B[0;32m    615\u001B[0m last_row_with_data \u001B[38;5;241m=\u001B[39m \u001B[38;5;241m-\u001B[39m\u001B[38;5;241m1\u001B[39m\n\u001B[1;32m--> 616\u001B[0m \u001B[38;5;28;01mfor\u001B[39;00m row_number, row \u001B[38;5;129;01min\u001B[39;00m \u001B[38;5;28menumerate\u001B[39m(sheet\u001B[38;5;241m.\u001B[39mrows):\n\u001B[0;32m    617\u001B[0m     converted_row \u001B[38;5;241m=\u001B[39m [\u001B[38;5;28mself\u001B[39m\u001B[38;5;241m.\u001B[39m_convert_cell(cell) \u001B[38;5;28;01mfor\u001B[39;00m cell \u001B[38;5;129;01min\u001B[39;00m row]\n\u001B[0;32m    618\u001B[0m     \u001B[38;5;28;01mwhile\u001B[39;00m converted_row \u001B[38;5;129;01mand\u001B[39;00m converted_row[\u001B[38;5;241m-\u001B[39m\u001B[38;5;241m1\u001B[39m] \u001B[38;5;241m==\u001B[39m \u001B[38;5;124m\"\u001B[39m\u001B[38;5;124m\"\u001B[39m:\n\u001B[0;32m    619\u001B[0m         \u001B[38;5;66;03m# trim trailing empty elements\u001B[39;00m\n",
      "File \u001B[1;32m~\\AppData\\Local\\Programs\\Python\\Python311\\Lib\\site-packages\\openpyxl\\worksheet\\_read_only.py:92\u001B[0m, in \u001B[0;36mReadOnlyWorksheet._cells_by_row\u001B[1;34m(self, min_col, min_row, max_col, max_row, values_only)\u001B[0m\n\u001B[0;32m     90\u001B[0m \u001B[38;5;66;03m# return cells from a row\u001B[39;00m\n\u001B[0;32m     91\u001B[0m \u001B[38;5;28;01mif\u001B[39;00m counter \u001B[38;5;241m<\u001B[39m\u001B[38;5;241m=\u001B[39m idx:\n\u001B[1;32m---> 92\u001B[0m     row \u001B[38;5;241m=\u001B[39m \u001B[38;5;28;43mself\u001B[39;49m\u001B[38;5;241;43m.\u001B[39;49m\u001B[43m_get_row\u001B[49m\u001B[43m(\u001B[49m\u001B[43mrow\u001B[49m\u001B[43m,\u001B[49m\u001B[43m \u001B[49m\u001B[43mmin_col\u001B[49m\u001B[43m,\u001B[49m\u001B[43m \u001B[49m\u001B[43mmax_col\u001B[49m\u001B[43m,\u001B[49m\u001B[43m \u001B[49m\u001B[43mvalues_only\u001B[49m\u001B[43m)\u001B[49m\n\u001B[0;32m     93\u001B[0m     counter \u001B[38;5;241m+\u001B[39m\u001B[38;5;241m=\u001B[39m \u001B[38;5;241m1\u001B[39m\n\u001B[0;32m     94\u001B[0m     \u001B[38;5;28;01myield\u001B[39;00m row\n",
      "File \u001B[1;32m~\\AppData\\Local\\Programs\\Python\\Python311\\Lib\\site-packages\\openpyxl\\worksheet\\_read_only.py:123\u001B[0m, in \u001B[0;36mReadOnlyWorksheet._get_row\u001B[1;34m(self, row, min_col, max_col, values_only)\u001B[0m\n\u001B[0;32m    121\u001B[0m         new_row[idx] \u001B[38;5;241m=\u001B[39m cell[\u001B[38;5;124m'\u001B[39m\u001B[38;5;124mvalue\u001B[39m\u001B[38;5;124m'\u001B[39m]\n\u001B[0;32m    122\u001B[0m         \u001B[38;5;28;01mif\u001B[39;00m \u001B[38;5;129;01mnot\u001B[39;00m values_only:\n\u001B[1;32m--> 123\u001B[0m             new_row[idx] \u001B[38;5;241m=\u001B[39m \u001B[43mReadOnlyCell\u001B[49m\u001B[43m(\u001B[49m\u001B[38;5;28;43mself\u001B[39;49m\u001B[43m,\u001B[49m\u001B[43m \u001B[49m\u001B[38;5;241;43m*\u001B[39;49m\u001B[38;5;241;43m*\u001B[39;49m\u001B[43mcell\u001B[49m\u001B[43m)\u001B[49m\n\u001B[0;32m    125\u001B[0m \u001B[38;5;28;01mreturn\u001B[39;00m \u001B[38;5;28mtuple\u001B[39m(new_row)\n",
      "\u001B[1;31mKeyboardInterrupt\u001B[0m: "
     ]
    }
   ],
   "source": [
    "# Armado de la base de datos\n",
    "\n",
    "# Generamos una lista que permita identificar los archivos de la carpeta y las fechas de modificación\n",
    "pathRaw8UIT = 'C:/Users/User/OneDrive - Universidad del Pacífico/1. Documentos/0. Bases de datos/10. OSCE/0. Originales/Menores de 8 UIT/'\n",
    "\n",
    "files_list = os.listdir(pathRaw8UIT)\n",
    "os.chdir(pathData)\n",
    "contador_1=0\n",
    "\n",
    "\n",
    "#for file in locals()[f'last_{contador}_files']:\n",
    "for file in files_list:\n",
    "    if contador_1==0 :\n",
    "        df = pd.read_excel(pathRaw8UIT + file, skiprows=1)\n",
    "        servicios = df['TIPOORDEN'] == 'Orden de Servicio'\n",
    "        df = df[servicios]\n",
    "        os.remove(pathRaw8UIT + file)\n",
    "        contador_1+=1\n",
    "    else:\n",
    "        df_alterna = pd.read_excel(pathRaw8UIT + file, skiprows=1)\n",
    "        servicios = df_alterna['TIPOORDEN'] == 'Orden de Servicio'\n",
    "        df_alterna = df_alterna[servicios]\n",
    "        df = pd.concat([df, df_alterna])\n",
    "        os.remove(pathRaw8UIT + file)\n",
    "        contador_1+=1\n",
    "\n",
    "\n",
    "\n",
    "# Guardamos la base de datos\n",
    "df.to_csv('df_servicios_2018_2023.csv')\n"
   ],
   "metadata": {
    "collapsed": false,
    "ExecuteTime": {
     "end_time": "2023-10-06T22:28:12.632966400Z",
     "start_time": "2023-10-06T22:19:13.800563500Z"
    }
   },
   "id": "5d17e7d2455b2f4b"
  },
  {
   "cell_type": "code",
   "execution_count": 23,
   "outputs": [
    {
     "data": {
      "text/plain": "Unnamed: 0                         int64\nENTIDAD                           object\nRUC_ENTIDAD                        int64\nFECHA_REGISTRO                    object\nFECHA_DE_EMISION                  object\nFECHA_COMPROMISO_PRESUPUESTAL     object\nFECHA_DE_NOTIFICACION             object\nTIPOORDEN                         object\nNRO_DE_ORDEN                       int64\nORDEN                             object\nDESCRIPCION_ORDEN                 object\nMONEDA                            object\nMONTO_TOTAL_ORDEN_ORIGINAL       float64\nOBJETOCONTRACTUAL                 object\nESTADOCONTRATACION                object\nTIPODECONTRATACION                object\nDEPARTAMENTO__ENTIDAD             object\nRUC_CONTRATISTA                    int64\nNOMBRE_RAZON_CONTRATISTA          object\ndtype: object"
     },
     "execution_count": 23,
     "metadata": {},
     "output_type": "execute_result"
    }
   ],
   "source": [
    "ddf = dd.read_csv(pathData + '/df_servicios_2018_2023.csv')\n",
    "ddf.dtypes"
   ],
   "metadata": {
    "collapsed": false,
    "ExecuteTime": {
     "end_time": "2023-09-20T20:52:07.345696700Z",
     "start_time": "2023-09-20T20:52:07.320259100Z"
    }
   },
   "id": "5403354b71ee7af2"
  },
  {
   "cell_type": "code",
   "execution_count": 24,
   "outputs": [],
   "source": [
    "ddf = ddf.loc[ : , ['ENTIDAD', 'RUC_ENTIDAD', 'FECHA_REGISTRO', 'FECHA_DE_EMISION', 'DESCRIPCION_ORDEN', 'MONEDA','MONTO_TOTAL_ORDEN_ORIGINAL', 'ESTADOCONTRATACION', 'TIPODECONTRATACION' , 'DEPARTAMENTO__ENTIDAD', 'RUC_CONTRATISTA', 'NOMBRE_RAZON_CONTRATISTA']]"
   ],
   "metadata": {
    "collapsed": false,
    "ExecuteTime": {
     "end_time": "2023-09-20T20:52:08.908759800Z",
     "start_time": "2023-09-20T20:52:08.897762600Z"
    }
   },
   "id": "93f36dd7d441eef4"
  },
  {
   "cell_type": "code",
   "execution_count": 26,
   "outputs": [
    {
     "data": {
      "text/plain": "                                    ENTIDAD  RUC_ENTIDAD FECHA_REGISTRO  \\\n0       ESCUELA NACIONAL DE MARINA MERCANTE  20131379430     2018-04-30   \n1  UNIVERSIDAD NACIONAL MAYOR DE SAN MARCOS  20148092282     2018-04-30   \n2       MUNICIPALIDAD DISTRITAL DE LA HUACA  20146697527     2018-04-30   \n3  UNIVERSIDAD NACIONAL MAYOR DE SAN MARCOS  20148092282     2018-04-30   \n4       MUNICIPALIDAD DISTRITAL DE LA HUACA  20146697527     2018-04-30   \n\n  FECHA_DE_EMISION                                  DESCRIPCION_ORDEN  \\\n0       2018-03-26    SERVICIO NECESARIO PARA EL AREA DE CAPACITACION   \n1       2018-03-09                                 SERVICIOS DIVERSOS   \n2       2018-04-23  secretaria de gerencia correspondiente abril 2018   \n3       2018-03-20                                 SERVICIOS DIVERSOS   \n4       2018-04-23        asistente de opi correspondiente abril 2018   \n\n         MONEDA  MONTO_TOTAL_ORDEN_ORIGINAL ESTADOCONTRATACION  \\\n0  Nuevos Soles                      1800.0       Comprometida   \n1  Nuevos Soles                      3701.0            Emitida   \n2  Nuevos Soles                       950.0          Devengada   \n3  Nuevos Soles                      2000.0            Emitida   \n4  Nuevos Soles                       850.0          Devengada   \n\n                                  TIPODECONTRATACION  \\\n0  Contrataciones hasta 8 UIT (LEY 30225)(No incl...   \n1  Contrataciones hasta 8 UIT (LEY 30225)(No incl...   \n2  Contrataciones hasta 8 UIT (LEY 30225)(No incl...   \n3  Contrataciones hasta 8 UIT (LEY 30225)(No incl...   \n4  Contrataciones hasta 8 UIT (LEY 30225)(No incl...   \n\n       DEPARTAMENTO__ENTIDAD RUC_CONTRATISTA  \\\n0  PROV.CONSTITUC.DEL CALLAO     10458010850   \n1                       LIMA     10460226029   \n2                      PIURA     10459825172   \n3                       LIMA     10457711714   \n4                      PIURA     10462328279   \n\n                            NOMBRE_RAZON_CONTRATISTA RUC_10  \n0  LEI TASSILE MARCO ROBERTO SALOMON             ...     10  \n1  GONZALES COLONIA JAVIER ERASMO                ...     10  \n2  CALLAN CRESPO GIORLLINIA LISET                ...     10  \n3  HINOSTROZA CISNEROS JOHMAN ANTONIO            ...     10  \n4  CASTILLO FLORES MARGOT ANGELITA               ...     10  ",
      "text/html": "<div>\n<style scoped>\n    .dataframe tbody tr th:only-of-type {\n        vertical-align: middle;\n    }\n\n    .dataframe tbody tr th {\n        vertical-align: top;\n    }\n\n    .dataframe thead th {\n        text-align: right;\n    }\n</style>\n<table border=\"1\" class=\"dataframe\">\n  <thead>\n    <tr style=\"text-align: right;\">\n      <th></th>\n      <th>ENTIDAD</th>\n      <th>RUC_ENTIDAD</th>\n      <th>FECHA_REGISTRO</th>\n      <th>FECHA_DE_EMISION</th>\n      <th>DESCRIPCION_ORDEN</th>\n      <th>MONEDA</th>\n      <th>MONTO_TOTAL_ORDEN_ORIGINAL</th>\n      <th>ESTADOCONTRATACION</th>\n      <th>TIPODECONTRATACION</th>\n      <th>DEPARTAMENTO__ENTIDAD</th>\n      <th>RUC_CONTRATISTA</th>\n      <th>NOMBRE_RAZON_CONTRATISTA</th>\n      <th>RUC_10</th>\n    </tr>\n  </thead>\n  <tbody>\n    <tr>\n      <th>0</th>\n      <td>ESCUELA NACIONAL DE MARINA MERCANTE</td>\n      <td>20131379430</td>\n      <td>2018-04-30</td>\n      <td>2018-03-26</td>\n      <td>SERVICIO NECESARIO PARA EL AREA DE CAPACITACION</td>\n      <td>Nuevos Soles</td>\n      <td>1800.0</td>\n      <td>Comprometida</td>\n      <td>Contrataciones hasta 8 UIT (LEY 30225)(No incl...</td>\n      <td>PROV.CONSTITUC.DEL CALLAO</td>\n      <td>10458010850</td>\n      <td>LEI TASSILE MARCO ROBERTO SALOMON             ...</td>\n      <td>10</td>\n    </tr>\n    <tr>\n      <th>1</th>\n      <td>UNIVERSIDAD NACIONAL MAYOR DE SAN MARCOS</td>\n      <td>20148092282</td>\n      <td>2018-04-30</td>\n      <td>2018-03-09</td>\n      <td>SERVICIOS DIVERSOS</td>\n      <td>Nuevos Soles</td>\n      <td>3701.0</td>\n      <td>Emitida</td>\n      <td>Contrataciones hasta 8 UIT (LEY 30225)(No incl...</td>\n      <td>LIMA</td>\n      <td>10460226029</td>\n      <td>GONZALES COLONIA JAVIER ERASMO                ...</td>\n      <td>10</td>\n    </tr>\n    <tr>\n      <th>2</th>\n      <td>MUNICIPALIDAD DISTRITAL DE LA HUACA</td>\n      <td>20146697527</td>\n      <td>2018-04-30</td>\n      <td>2018-04-23</td>\n      <td>secretaria de gerencia correspondiente abril 2018</td>\n      <td>Nuevos Soles</td>\n      <td>950.0</td>\n      <td>Devengada</td>\n      <td>Contrataciones hasta 8 UIT (LEY 30225)(No incl...</td>\n      <td>PIURA</td>\n      <td>10459825172</td>\n      <td>CALLAN CRESPO GIORLLINIA LISET                ...</td>\n      <td>10</td>\n    </tr>\n    <tr>\n      <th>3</th>\n      <td>UNIVERSIDAD NACIONAL MAYOR DE SAN MARCOS</td>\n      <td>20148092282</td>\n      <td>2018-04-30</td>\n      <td>2018-03-20</td>\n      <td>SERVICIOS DIVERSOS</td>\n      <td>Nuevos Soles</td>\n      <td>2000.0</td>\n      <td>Emitida</td>\n      <td>Contrataciones hasta 8 UIT (LEY 30225)(No incl...</td>\n      <td>LIMA</td>\n      <td>10457711714</td>\n      <td>HINOSTROZA CISNEROS JOHMAN ANTONIO            ...</td>\n      <td>10</td>\n    </tr>\n    <tr>\n      <th>4</th>\n      <td>MUNICIPALIDAD DISTRITAL DE LA HUACA</td>\n      <td>20146697527</td>\n      <td>2018-04-30</td>\n      <td>2018-04-23</td>\n      <td>asistente de opi correspondiente abril 2018</td>\n      <td>Nuevos Soles</td>\n      <td>850.0</td>\n      <td>Devengada</td>\n      <td>Contrataciones hasta 8 UIT (LEY 30225)(No incl...</td>\n      <td>PIURA</td>\n      <td>10462328279</td>\n      <td>CASTILLO FLORES MARGOT ANGELITA               ...</td>\n      <td>10</td>\n    </tr>\n  </tbody>\n</table>\n</div>"
     },
     "execution_count": 26,
     "metadata": {},
     "output_type": "execute_result"
    }
   ],
   "source": [
    "# identificamos los ruc 10 (personas naturales)\n",
    "ddf['RUC_CONTRATISTA'] = ddf['RUC_CONTRATISTA'].astype(str)\n",
    "ddf['RUC_10'] = ddf['RUC_CONTRATISTA'].str.slice(0, 2)\n",
    "ddfFinal = ddf[ddf['RUC_10'] == \"10\"]"
   ],
   "metadata": {
    "collapsed": false,
    "ExecuteTime": {
     "end_time": "2023-09-20T20:52:23.855608600Z",
     "start_time": "2023-09-20T20:52:22.927883800Z"
    }
   },
   "id": "369723c4f46351a1"
  },
  {
   "cell_type": "code",
   "execution_count": 39,
   "outputs": [
    {
     "data": {
      "text/plain": "                                    ENTIDAD  RUC_ENTIDAD FECHA_REGISTRO  \\\n0       ESCUELA NACIONAL DE MARINA MERCANTE  20131379430     2018-04-30   \n1  UNIVERSIDAD NACIONAL MAYOR DE SAN MARCOS  20148092282     2018-04-30   \n2       MUNICIPALIDAD DISTRITAL DE LA HUACA  20146697527     2018-04-30   \n3  UNIVERSIDAD NACIONAL MAYOR DE SAN MARCOS  20148092282     2018-04-30   \n4       MUNICIPALIDAD DISTRITAL DE LA HUACA  20146697527     2018-04-30   \n\n  FECHA_DE_EMISION                                  DESCRIPCION_ORDEN  \\\n0       2018-03-26    SERVICIO NECESARIO PARA EL AREA DE CAPACITACION   \n1       2018-03-09                                 SERVICIOS DIVERSOS   \n2       2018-04-23  secretaria de gerencia correspondiente abril 2018   \n3       2018-03-20                                 SERVICIOS DIVERSOS   \n4       2018-04-23        asistente de opi correspondiente abril 2018   \n\n         MONEDA  MONTO_TOTAL_ORDEN_ORIGINAL ESTADOCONTRATACION  \\\n0  Nuevos Soles                      1800.0       Comprometida   \n1  Nuevos Soles                      3701.0            Emitida   \n2  Nuevos Soles                       950.0          Devengada   \n3  Nuevos Soles                      2000.0            Emitida   \n4  Nuevos Soles                       850.0          Devengada   \n\n                                  TIPODECONTRATACION  \\\n0  Contrataciones hasta 8 UIT (LEY 30225)(No incl...   \n1  Contrataciones hasta 8 UIT (LEY 30225)(No incl...   \n2  Contrataciones hasta 8 UIT (LEY 30225)(No incl...   \n3  Contrataciones hasta 8 UIT (LEY 30225)(No incl...   \n4  Contrataciones hasta 8 UIT (LEY 30225)(No incl...   \n\n       DEPARTAMENTO__ENTIDAD RUC_CONTRATISTA  \\\n0  PROV.CONSTITUC.DEL CALLAO     10458010850   \n1                       LIMA     10460226029   \n2                      PIURA     10459825172   \n3                       LIMA     10457711714   \n4                      PIURA     10462328279   \n\n                            NOMBRE_RAZON_CONTRATISTA RUC_10 anioEmi mesEmi  \n0  LEI TASSILE MARCO ROBERTO SALOMON             ...     10    2018     03  \n1  GONZALES COLONIA JAVIER ERASMO                ...     10    2018     03  \n2  CALLAN CRESPO GIORLLINIA LISET                ...     10    2018     04  \n3  HINOSTROZA CISNEROS JOHMAN ANTONIO            ...     10    2018     03  \n4  CASTILLO FLORES MARGOT ANGELITA               ...     10    2018     04  ",
      "text/html": "<div>\n<style scoped>\n    .dataframe tbody tr th:only-of-type {\n        vertical-align: middle;\n    }\n\n    .dataframe tbody tr th {\n        vertical-align: top;\n    }\n\n    .dataframe thead th {\n        text-align: right;\n    }\n</style>\n<table border=\"1\" class=\"dataframe\">\n  <thead>\n    <tr style=\"text-align: right;\">\n      <th></th>\n      <th>ENTIDAD</th>\n      <th>RUC_ENTIDAD</th>\n      <th>FECHA_REGISTRO</th>\n      <th>FECHA_DE_EMISION</th>\n      <th>DESCRIPCION_ORDEN</th>\n      <th>MONEDA</th>\n      <th>MONTO_TOTAL_ORDEN_ORIGINAL</th>\n      <th>ESTADOCONTRATACION</th>\n      <th>TIPODECONTRATACION</th>\n      <th>DEPARTAMENTO__ENTIDAD</th>\n      <th>RUC_CONTRATISTA</th>\n      <th>NOMBRE_RAZON_CONTRATISTA</th>\n      <th>RUC_10</th>\n      <th>anioEmi</th>\n      <th>mesEmi</th>\n    </tr>\n  </thead>\n  <tbody>\n    <tr>\n      <th>0</th>\n      <td>ESCUELA NACIONAL DE MARINA MERCANTE</td>\n      <td>20131379430</td>\n      <td>2018-04-30</td>\n      <td>2018-03-26</td>\n      <td>SERVICIO NECESARIO PARA EL AREA DE CAPACITACION</td>\n      <td>Nuevos Soles</td>\n      <td>1800.0</td>\n      <td>Comprometida</td>\n      <td>Contrataciones hasta 8 UIT (LEY 30225)(No incl...</td>\n      <td>PROV.CONSTITUC.DEL CALLAO</td>\n      <td>10458010850</td>\n      <td>LEI TASSILE MARCO ROBERTO SALOMON             ...</td>\n      <td>10</td>\n      <td>2018</td>\n      <td>03</td>\n    </tr>\n    <tr>\n      <th>1</th>\n      <td>UNIVERSIDAD NACIONAL MAYOR DE SAN MARCOS</td>\n      <td>20148092282</td>\n      <td>2018-04-30</td>\n      <td>2018-03-09</td>\n      <td>SERVICIOS DIVERSOS</td>\n      <td>Nuevos Soles</td>\n      <td>3701.0</td>\n      <td>Emitida</td>\n      <td>Contrataciones hasta 8 UIT (LEY 30225)(No incl...</td>\n      <td>LIMA</td>\n      <td>10460226029</td>\n      <td>GONZALES COLONIA JAVIER ERASMO                ...</td>\n      <td>10</td>\n      <td>2018</td>\n      <td>03</td>\n    </tr>\n    <tr>\n      <th>2</th>\n      <td>MUNICIPALIDAD DISTRITAL DE LA HUACA</td>\n      <td>20146697527</td>\n      <td>2018-04-30</td>\n      <td>2018-04-23</td>\n      <td>secretaria de gerencia correspondiente abril 2018</td>\n      <td>Nuevos Soles</td>\n      <td>950.0</td>\n      <td>Devengada</td>\n      <td>Contrataciones hasta 8 UIT (LEY 30225)(No incl...</td>\n      <td>PIURA</td>\n      <td>10459825172</td>\n      <td>CALLAN CRESPO GIORLLINIA LISET                ...</td>\n      <td>10</td>\n      <td>2018</td>\n      <td>04</td>\n    </tr>\n    <tr>\n      <th>3</th>\n      <td>UNIVERSIDAD NACIONAL MAYOR DE SAN MARCOS</td>\n      <td>20148092282</td>\n      <td>2018-04-30</td>\n      <td>2018-03-20</td>\n      <td>SERVICIOS DIVERSOS</td>\n      <td>Nuevos Soles</td>\n      <td>2000.0</td>\n      <td>Emitida</td>\n      <td>Contrataciones hasta 8 UIT (LEY 30225)(No incl...</td>\n      <td>LIMA</td>\n      <td>10457711714</td>\n      <td>HINOSTROZA CISNEROS JOHMAN ANTONIO            ...</td>\n      <td>10</td>\n      <td>2018</td>\n      <td>03</td>\n    </tr>\n    <tr>\n      <th>4</th>\n      <td>MUNICIPALIDAD DISTRITAL DE LA HUACA</td>\n      <td>20146697527</td>\n      <td>2018-04-30</td>\n      <td>2018-04-23</td>\n      <td>asistente de opi correspondiente abril 2018</td>\n      <td>Nuevos Soles</td>\n      <td>850.0</td>\n      <td>Devengada</td>\n      <td>Contrataciones hasta 8 UIT (LEY 30225)(No incl...</td>\n      <td>PIURA</td>\n      <td>10462328279</td>\n      <td>CASTILLO FLORES MARGOT ANGELITA               ...</td>\n      <td>10</td>\n      <td>2018</td>\n      <td>04</td>\n    </tr>\n  </tbody>\n</table>\n</div>"
     },
     "execution_count": 39,
     "metadata": {},
     "output_type": "execute_result"
    }
   ],
   "source": [
    "ddfFinal['FECHA_DE_EMISION'] = ddfFinal['FECHA_DE_EMISION'].astype(str)\n",
    "ddfFinal['anioEmi'] = ddfFinal['FECHA_DE_EMISION'].str.slice(stop = 4)\n",
    "ddfFinal['mesEmi'] = ddfFinal['FECHA_DE_EMISION'].str.slice(5, 7)\n",
    "ddfFinal.head()"
   ],
   "metadata": {
    "collapsed": false,
    "ExecuteTime": {
     "end_time": "2023-09-20T21:05:27.101131Z",
     "start_time": "2023-09-20T21:05:25.948750300Z"
    }
   },
   "id": "3a59c589036aec7"
  },
  {
   "cell_type": "code",
   "execution_count": null,
   "outputs": [],
   "source": [
    "df = ddfFinal.compute()"
   ],
   "metadata": {
    "collapsed": false
   },
   "id": "2b1df83faf0e9a8f"
  },
  {
   "cell_type": "code",
   "execution_count": null,
   "outputs": [],
   "source": [
    "# Tabla N° 1: Número de órdenes de servicio anuales por entidad\n",
    "tabla_1 = df.groupby( ['RUC_ENTIDAD' , 'anio_emi' ] )[['RUC_CONTRATISTA']].count().rename(columns = {'RUC_CONTRATISTA' : \"n_ordenes\" }).reset_index()"
   ],
   "metadata": {
    "collapsed": false
   },
   "id": "94b37a74fa9033d5"
  },
  {
   "cell_type": "code",
   "execution_count": null,
   "outputs": [],
   "source": [
    "# Tabla N° 2: Número de órdenes de servicio anuales por proveedor en cada entidad\n",
    "tabla_2 = df.groupby( ['RUC_ENTIDAD' , 'anio_emi' ] )[['RUC_CONTRATISTA']].value_counts().reset_index()\n",
    "tabla_2.columns = ['RUC_ENTIDAD' , 'anio_emi','RUC_CONTRATISTA','n_orden_prom']"
   ],
   "metadata": {
    "collapsed": false
   },
   "id": "d8764a09f5dabe3e"
  },
  {
   "cell_type": "code",
   "execution_count": null,
   "outputs": [],
   "source": [
    "# Tabla N° 3: Monto anual contratado por órdenes de servicio por entidad\n",
    "tabla_3 = df.groupby( ['RUC_ENTIDAD' , 'anio_emi' ] )[['MONTO_TOTAL_ORDEN_ORIGINAL']].sum().rename(columns = {'MONTO_TOTAL_ORDEN_ORIGINAL' : \"monto_total_entidad\" }).reset_index()"
   ],
   "metadata": {
    "collapsed": false
   },
   "id": "cc8563d4595c34f4"
  },
  {
   "cell_type": "code",
   "execution_count": null,
   "outputs": [],
   "source": [
    "# Tabla N° 4: Monto anual contratado por órdenes de servicio por entidad y proveedor\n",
    "tabla_4 = df.groupby( ['RUC_ENTIDAD' , 'anio_emi', 'RUC_CONTRATISTA' ])[['MONTO_TOTAL_ORDEN_ORIGINAL']].sum().rename(columns = {'MONTO_TOTAL_ORDEN_ORIGINAL' : \"monto_total_contratista\" }).reset_index()"
   ],
   "metadata": {
    "collapsed": false
   },
   "id": "5fce5313acdcbc4e"
  },
  {
   "cell_type": "code",
   "execution_count": null,
   "outputs": [],
   "source": [
    "# Tabla N° 5: Monto mensual promedio contratado por órdenes de servicio por entidad y proveedor\n",
    "tabla_5 = tabla_4\n",
    "tabla_5[\"monto_promedio_contratista_mensual\"] = tabla_5[\"monto_total_contratista\"] / 12\n",
    "\n",
    "tabla_5 = tabla_5[tabla_5['monto_promedio_contratista_mensual'] <= 41400]"
   ],
   "metadata": {
    "collapsed": false
   },
   "id": "6169d5d314591758"
  },
  {
   "cell_type": "code",
   "execution_count": null,
   "outputs": [],
   "source": [
    "# Gráfico N° 1: Distribución del monto promedio mensual en órdenes de servicio por contratista 2018-2022\n",
    "    # Calculate the number of bins using the Freedman-Diaconis rule\n",
    "    num_bins = int(round(len(tabla_5['monto_promedio_contratista_mensual']) ** 0.5))\n",
    "\n",
    "    # Create the plot with journal paper format settings\n",
    "    plt.figure(figsize=(8, 6))  # Adjust figure size to your preference\n",
    "    plt.hist(tabla_5['monto_promedio_contratista_mensual'], bins=num_bins, color='skyblue', edgecolor='black')\n",
    "\n",
    "    # Customize the plot\n",
    "    plt.xlabel('Monto promedio mensual (en soles)', fontsize=12)  # Adjust font size\n",
    "    plt.ylabel('Frequency', fontsize=12)  # Adjust font size\n",
    "    plt.title('Distribución del monto promedio mensual en órdenes de servicio por contratista 2018-2022', fontsize=14)  # Adjust font size and title\n",
    "    plt.grid(axis='y', linestyle='--', alpha=0.7)  # Add gridlines\n",
    "\n",
    "    # Calculate summary statistics\n",
    "    mean_value = tabla_5['monto_promedio_contratista_mensual'].mean()\n",
    "    median_value = tabla_5['monto_promedio_contratista_mensual'].median()\n",
    "    std_value = tabla_5['monto_promedio_contratista_mensual'].std()\n",
    "\n",
    "    # Display summary statistics on the plot\n",
    "    plt.text(0.7, 0.9, f\"Mean: {mean_value:.2f}\", transform=plt.gca().transAxes, fontsize=12)\n",
    "    plt.text(0.7, 0.85, f\"Median: {median_value:.2f}\", transform=plt.gca().transAxes, fontsize=12)\n",
    "    plt.text(0.7, 0.8, f\"Std: {std_value:.2f}\", transform=plt.gca().transAxes, fontsize=12)\n",
    "\n",
    "    # Save the plot (optional)\n",
    "    file_path = os.path.join(pathResults,'graph1.png')\n",
    "    plt.savefig(file_path, dpi=300, bbox_inches='tight')  # Adjust filename and DPI\n",
    "\n",
    "    # Display the plot\n",
    "    plt.show()"
   ],
   "metadata": {
    "collapsed": false
   },
   "id": "361d0db2a6cfee23"
  },
  {
   "cell_type": "code",
   "execution_count": null,
   "outputs": [],
   "source": [
    "# Gráfico N° 2: Distribución del número de órdenes de servicio promedio anual por contratista 2018-2022\n",
    "    tabla_2 = tabla_2[tabla_2['n_orden_prom'] <= 12]\n",
    "    # Calculate the number of bins using the square root rule\n",
    "    num_bins = int(round(len(tabla_2['n_orden_prom']) ** 0.5))\n",
    "\n",
    "    # Create the plot with journal paper format settings\n",
    "    plt.figure(figsize=(8, 6))  # Adjust figure size to your preference\n",
    "    plt.hist(tabla_2['n_orden_prom'], bins=num_bins, color='skyblue', edgecolor='black')\n",
    "\n",
    "    # Customize the plot\n",
    "    plt.xlabel('Número de órdenes promedio anual por contratista', fontsize=12)  # Adjust font size\n",
    "    plt.ylabel('Frequency', fontsize=12)  # Adjust font size\n",
    "    plt.title('Distribución del número de órdenes promedio anual por contratista 2018-2022', fontsize=14)  # Adjust font size and title\n",
    "    plt.grid(axis='y', linestyle='--', alpha=0.7)  # Add gridlines\n",
    "\n",
    "    # Calculate summary statistics\n",
    "    mean_value = tabla_2['n_orden_prom'].mean()\n",
    "    median_value = tabla_2['n_orden_prom'].median()\n",
    "    std_value = tabla_2['n_orden_prom'].std()\n",
    "\n",
    "    # Display summary statistics on the plot\n",
    "    plt.text(0.7, 0.9, f\"Mean: {mean_value:.2f}\", transform=plt.gca().transAxes, fontsize=12)\n",
    "    plt.text(0.7, 0.85, f\"Median: {median_value:.2f}\", transform=plt.gca().transAxes, fontsize=12)\n",
    "    plt.text(0.7, 0.8, f\"Std: {std_value:.2f}\", transform=plt.gca().transAxes, fontsize=12)\n",
    "\n",
    "    # Save the plot (optional)\n",
    "    file_path = os.path.join(pathResults,'graph2.png')\n",
    "    plt.savefig(file_path, dpi=300, bbox_inches='tight')  # Adjust filename and DPI\n",
    "\n",
    "    # Display the plot\n",
    "    plt.show()"
   ],
   "metadata": {
    "collapsed": false
   },
   "id": "3adf403f5d32a0f1"
  },
  {
   "cell_type": "code",
   "execution_count": null,
   "outputs": [],
   "source": [
    "import wordcloud as WordCloud\n",
    "# Nube de palabras\n",
    "word_freq = ddfFinal['DESCRIPCION_ORDEN'].str.split().explode().value_counts()\n",
    "word_freq = word_freq.compute()\n",
    "\n",
    "wordcloud = WordCloud(width=800, height=400, background_color='white').generate_from_frequencies(word_freq)\n",
    "\n",
    "plt.figure(figsize=(10, 5))\n",
    "plt.imshow(wordcloud, interpolation='bilinear')\n",
    "plt.axis(\"off\")\n",
    "plt.show()"
   ],
   "metadata": {
    "collapsed": false
   },
   "id": "c939fcc2b8ef5863"
  }
 ],
 "metadata": {
  "kernelspec": {
   "display_name": "Python 3",
   "language": "python",
   "name": "python3"
  },
  "language_info": {
   "codemirror_mode": {
    "name": "ipython",
    "version": 2
   },
   "file_extension": ".py",
   "mimetype": "text/x-python",
   "name": "python",
   "nbconvert_exporter": "python",
   "pygments_lexer": "ipython2",
   "version": "2.7.6"
  }
 },
 "nbformat": 4,
 "nbformat_minor": 5
}

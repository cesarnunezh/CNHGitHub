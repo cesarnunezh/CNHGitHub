{
 "cells": [
  {
   "cell_type": "code",
   "execution_count": 26,
   "id": "initial_id",
   "metadata": {
    "collapsed": true,
    "ExecuteTime": {
     "end_time": "2023-10-06T21:18:41.297806500Z",
     "start_time": "2023-10-06T21:18:41.274812600Z"
    }
   },
   "outputs": [],
   "source": [
    "import os\n",
    "import re\n",
    "import requests\n",
    "from bs4 import BeautifulSoup\n",
    "from urllib.parse import urljoin\n",
    "import time\n",
    "from lxml import html"
   ]
  },
  {
   "cell_type": "code",
   "execution_count": 16,
   "outputs": [],
   "source": [
    "urlVotaciones = \"https://www.congreso.gob.pe/AsistenciasVotacionesPleno/asistencia-votacion-pleno\"\n",
    "gruposParlamentarios = \"https://www.congreso.gob.pe/integrantes-grupos-parlamentarios-2021-2026\"\n",
    "actasComisiones = \"https://www2.congreso.gob.pe/Sicr/ApoyComisiones/comision2011.nsf/03pa_actas2305\"\n"
   ],
   "metadata": {
    "collapsed": false,
    "ExecuteTime": {
     "end_time": "2023-10-06T20:17:23.560552300Z",
     "start_time": "2023-10-06T20:17:23.560552300Z"
    }
   },
   "id": "fc11775cc484135"
  },
  {
   "cell_type": "code",
   "execution_count": 28,
   "outputs": [
    {
     "name": "stdout",
     "output_type": "stream",
     "text": [
      "The <a> element was not found on the page.\n"
     ]
    }
   ],
   "source": [
    "base_url = actasComisiones\n",
    "\n",
    "response = requests.get(base_url)\n",
    "tree = html.fromstring(response.text)\n",
    "link_element = tree.xpath(\"/html/body/form/p/table[2]/tbody/tr[10]/td[4]/font/a[2]\")\n",
    "if link_element:\n",
    "    # Get the href attribute of the <a> element (the link)\n",
    "    link = link_element[0].get(\"href\")\n",
    "    print(link)\n",
    "else:\n",
    "    print(\"The <a> element was not found on the page.\")\n",
    "\n"
   ],
   "metadata": {
    "collapsed": false,
    "ExecuteTime": {
     "end_time": "2023-10-06T21:19:39.153496600Z",
     "start_time": "2023-10-06T21:19:38.399896600Z"
    }
   },
   "id": "df68879965b91517"
  },
  {
   "cell_type": "code",
   "execution_count": 15,
   "outputs": [],
   "source": [
    "\n",
    "response.raise_for_status()\n",
    "soup = BeautifulSoup(response.content, \"html.parser\")\n",
    "pdf_links = soup.find_all(\"a\", href=lambda href: href and href.endswith(\".pdf\") and (\"SALUD\" in href or \"Salud\" in href or \"salud\" in href))\n"
   ],
   "metadata": {
    "collapsed": false,
    "ExecuteTime": {
     "start_time": "2023-10-06T20:13:37.116688800Z"
    }
   },
   "id": "4f22bc023649dbb0"
  },
  {
   "cell_type": "code",
   "execution_count": 13,
   "outputs": [],
   "source": [
    "# Importamos las librerías que utilizaremos\n",
    "import pandas as pd\n",
    "import os\n",
    "import dask.dataframe as dd\n",
    "import numpy as np\n",
    "import requests\n",
    "from selenium import webdriver\n",
    "from selenium.webdriver.chrome.service import Service\n",
    "\n",
    "from selenium.webdriver.chrome.options import Options\n",
    "import time\n",
    "from selenium.webdriver.common.by import By\n",
    "import shutil\n",
    "import matplotlib.pyplot as plt"
   ],
   "metadata": {
    "collapsed": false,
    "ExecuteTime": {
     "end_time": "2023-10-06T20:10:35.874428200Z",
     "start_time": "2023-10-06T20:10:32.228030500Z"
    }
   },
   "id": "f2a71ef5cded0842"
  },
  {
   "cell_type": "code",
   "execution_count": 29,
   "outputs": [
    {
     "ename": "XPathEvalError",
     "evalue": "Invalid expression",
     "output_type": "error",
     "traceback": [
      "\u001B[1;31m---------------------------------------------------------------------------\u001B[0m",
      "\u001B[1;31mXPathEvalError\u001B[0m                            Traceback (most recent call last)",
      "Cell \u001B[1;32mIn[29], line 39\u001B[0m\n\u001B[0;32m     37\u001B[0m     tree \u001B[38;5;241m=\u001B[39m html\u001B[38;5;241m.\u001B[39mfromstring(response\u001B[38;5;241m.\u001B[39mtext)\n\u001B[0;32m     38\u001B[0m     n_link \u001B[38;5;241m=\u001B[39m comision \u001B[38;5;241m+\u001B[39m n\n\u001B[1;32m---> 39\u001B[0m     link_element \u001B[38;5;241m=\u001B[39m \u001B[43mtree\u001B[49m\u001B[38;5;241;43m.\u001B[39;49m\u001B[43mxpath\u001B[49m\u001B[43m(\u001B[49m\u001B[38;5;124;43m\"\u001B[39;49m\u001B[38;5;124;43m/html/body/form/p/table[2]/tbody/tr[\u001B[39;49m\u001B[38;5;132;43;01m{n_link}\u001B[39;49;00m\u001B[38;5;124;43m]/td[4]/font/a[2]\u001B[39;49m\u001B[38;5;124;43m\"\u001B[39;49m\u001B[43m)\u001B[49m\n\u001B[0;32m     40\u001B[0m     link \u001B[38;5;241m=\u001B[39m link_element[\u001B[38;5;241m0\u001B[39m]\u001B[38;5;241m.\u001B[39mget(\u001B[38;5;124m\"\u001B[39m\u001B[38;5;124mhref\u001B[39m\u001B[38;5;124m\"\u001B[39m)\n\u001B[0;32m     41\u001B[0m click_4b \u001B[38;5;241m=\u001B[39m driver\u001B[38;5;241m.\u001B[39mfind_element( By\u001B[38;5;241m.\u001B[39mXPATH, \u001B[38;5;124mf\u001B[39m\u001B[38;5;124m\"\u001B[39m\u001B[38;5;124m/html/body/form/p/table[2]/tbody/tr[\u001B[39m\u001B[38;5;132;01m{\u001B[39;00mcomision\u001B[38;5;132;01m}\u001B[39;00m\u001B[38;5;124m]/td[2]/table/tbody/tr/td[2]/a/img\u001B[39m\u001B[38;5;124m\"\u001B[39m)\n",
      "File \u001B[1;32msrc\\lxml\\etree.pyx:1600\u001B[0m, in \u001B[0;36mlxml.etree._Element.xpath\u001B[1;34m()\u001B[0m\n",
      "File \u001B[1;32msrc\\lxml\\xpath.pxi:305\u001B[0m, in \u001B[0;36mlxml.etree.XPathElementEvaluator.__call__\u001B[1;34m()\u001B[0m\n",
      "File \u001B[1;32msrc\\lxml\\xpath.pxi:225\u001B[0m, in \u001B[0;36mlxml.etree._XPathEvaluatorBase._handle_result\u001B[1;34m()\u001B[0m\n",
      "\u001B[1;31mXPathEvalError\u001B[0m: Invalid expression"
     ]
    }
   ],
   "source": [
    "# Scrappeo de la web del OSCE\n",
    "# Definimos algunas opciones para abrir la página\n",
    "service = Service()\n",
    "options = webdriver.ChromeOptions()\n",
    "driver = webdriver.Chrome(service=service, options=options)\n",
    "\n",
    "\n",
    "# Abrimos la página\n",
    "driver.maximize_window()\n",
    "\n",
    "driver.get(actasComisiones)\n",
    "\n",
    "perParl = 2 #Va de 2 a 4\n",
    "click_1 = driver.find_element( By.XPATH, f\"/html/body/form/p/table[2]/tbody/tr[{perParl}]/td[1]/table/tbody/tr/td[1]/a/img\")\n",
    "click_1.click()\n",
    "time.sleep(3)\n",
    "\n",
    "perAnual = 3 # va de perParl+1 hasta perParl+5 como máximo\n",
    "click_2 = driver.find_element( By.XPATH, f\"/html/body/form/p/table[2]/tbody/tr[{perAnual}]/td[1]/table/tbody/tr/td[1]/a/img\")\n",
    "click_2.click()\n",
    "time.sleep(3)\n",
    "\n",
    "if perParl == 2:\n",
    "    comOrd = perAnual + 4\n",
    "    click_3 = driver.find_element( By.XPATH, f\"/html/body/form/p/table[2]/tbody/tr[{comOrd}]/td[2]/table/tbody/tr/td[1]/a/img\")\n",
    "    click_3.click()\n",
    "    time.sleep(5)\n",
    "    for i in range(1, 2):\n",
    "        comision = comOrd + i\n",
    "        click_4 = driver.find_element( By.XPATH, f\"/html/body/form/p/table[2]/tbody/tr[{comision}]/td[2]/table/tbody/tr/td[1]/a/img\")\n",
    "        click_4.click()\n",
    "        time.sleep(3)\n",
    "        #DESCARGAR AQUÍ LA INFORMACIÓN\n",
    "        for n in range(1,2):\n",
    "            current_url = driver.current_url\n",
    "            response = requests.get(current_url)\n",
    "            tree = html.fromstring(response.text)\n",
    "            n_link = comision + n\n",
    "            link_element = tree.xpath(\"/html/body/form/p/table[2]/tbody/tr[{n_link}]/td[4]/font/a[2]\")\n",
    "            link = link_element[0].get(\"href\")\n",
    "        click_4b = driver.find_element( By.XPATH, f\"/html/body/form/p/table[2]/tbody/tr[{comision}]/td[2]/table/tbody/tr/td[2]/a/img\")\n",
    "        click_4b.click()\n",
    "else:\n",
    "    comOrd = perAnual + 1 #range(1,24)\n",
    "    click_3 = driver.find_element( By.XPATH, f\"/html/body/form/p/table[2]/tbody/tr[{comOrd}]/td[1]/table/tbody/tr/td[1]/a/img\")\n",
    "    click_3.click()\n",
    "    time.sleep(3)\n",
    "    \n",
    "# for range(1,24)\n",
    "\n",
    "#driver.find_element()"
   ],
   "metadata": {
    "collapsed": false,
    "ExecuteTime": {
     "end_time": "2023-10-06T21:23:04.101458600Z",
     "start_time": "2023-10-06T21:22:44.225249900Z"
    }
   },
   "id": "ed32e60bcd04c198"
  }
 ],
 "metadata": {
  "kernelspec": {
   "display_name": "Python 3",
   "language": "python",
   "name": "python3"
  },
  "language_info": {
   "codemirror_mode": {
    "name": "ipython",
    "version": 2
   },
   "file_extension": ".py",
   "mimetype": "text/x-python",
   "name": "python",
   "nbconvert_exporter": "python",
   "pygments_lexer": "ipython2",
   "version": "2.7.6"
  }
 },
 "nbformat": 4,
 "nbformat_minor": 5
}

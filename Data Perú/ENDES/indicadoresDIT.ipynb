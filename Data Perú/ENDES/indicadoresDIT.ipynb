{
 "cells": [
  {
   "cell_type": "markdown",
   "source": [
    "# Indicadores DIT"
   ],
   "metadata": {
    "collapsed": false
   },
   "id": "32dcc349c2ec919d"
  },
  {
   "cell_type": "code",
   "execution_count": 123,
   "id": "initial_id",
   "metadata": {
    "collapsed": true,
    "ExecuteTime": {
     "end_time": "2023-11-24T21:42:12.169617400Z",
     "start_time": "2023-11-24T21:42:12.165787700Z"
    }
   },
   "outputs": [],
   "source": [
    "#Librerías\n",
    "import pandas as pd\n",
    "import os\n",
    "import numpy as np"
   ]
  },
  {
   "cell_type": "code",
   "execution_count": 49,
   "outputs": [
    {
     "name": "stderr",
     "output_type": "stream",
     "text": [
      "C:\\Users\\User\\AppData\\Local\\Temp\\ipykernel_34360\\266190699.py:35: UnicodeWarning: \n",
      "One or more strings in the dta file could not be decoded using utf-8, and\n",
      "so the fallback encoding of latin-1 is being used.  This can happen when a file\n",
      "has been incorrectly encoded by Stata or some other software. You should verify\n",
      "the string values returned are correct.\n",
      "  df = pd.read_stata(f\"rec91_{anio}.dta\", convert_categoricals=True, columns= ['ID1', 'CASEID', 'SREGION', 'S119', 'S108N'])\n",
      "C:\\Users\\User\\AppData\\Local\\Temp\\ipykernel_34360\\266190699.py:37: UnicodeWarning: \n",
      "One or more strings in the dta file could not be decoded using utf-8, and\n",
      "so the fallback encoding of latin-1 is being used.  This can happen when a file\n",
      "has been incorrectly encoded by Stata or some other software. You should verify\n",
      "the string values returned are correct.\n",
      "  df = pd.read_stata(f\"rec91_{anio}.dta\", convert_categoricals=True, columns= ['id1','caseid','sregion', 's119', 's108n'])\n",
      "C:\\Users\\User\\AppData\\Local\\Temp\\ipykernel_34360\\266190699.py:35: UnicodeWarning: \n",
      "One or more strings in the dta file could not be decoded using utf-8, and\n",
      "so the fallback encoding of latin-1 is being used.  This can happen when a file\n",
      "has been incorrectly encoded by Stata or some other software. You should verify\n",
      "the string values returned are correct.\n",
      "  df = pd.read_stata(f\"rec91_{anio}.dta\", convert_categoricals=True, columns= ['ID1', 'CASEID', 'SREGION', 'S119', 'S108N'])\n"
     ]
    }
   ],
   "source": [
    "os.chdir(r'C:\\Users\\User\\OneDrive - Universidad del Pacífico\\1. Documentos\\0. Bases de datos\\03. ENDES\\1. Data')\n",
    "\n",
    "# Modulo DIT\n",
    "dit = pd.DataFrame()\n",
    "for anio in range(2019,2023):\n",
    "    df = pd.read_stata(f\"dit_{anio}.dta\", convert_categoricals=True)\n",
    "    df.columns = df.columns.str.lower()\n",
    "    dit= pd.concat([dit,df], ignore_index=True)\n",
    "dit['id1'] = dit['id1'].astype(int)\n",
    "\n",
    "# Modulo REC21\n",
    "rec21 = pd.DataFrame()\n",
    "for anio in range(2019,2023):\n",
    "    try:\n",
    "        df = pd.read_stata(f\"rec21_{anio}.dta\", columns = ['ID1', 'CASEID', 'BIDX', 'B4'])\n",
    "    except:\n",
    "        df = pd.read_stata(f\"rec21_{anio}.dta\", columns = ['id1', 'caseid', 'bidx', 'b4'])\n",
    "    df.columns = df.columns.str.lower()\n",
    "    rec21 = pd.concat([rec21,df], ignore_index=True)\n",
    "\n",
    "# Modulo REC0111\n",
    "rec0111 = pd.DataFrame()\n",
    "for anio in range(2019,2023):\n",
    "    try:\n",
    "        df = pd.read_stata(f\"rec0111_{anio}.dta\", convert_categoricals=True, columns = ['ID1', 'CASEID', 'V001', 'V005', 'V012', 'V022' ,'V024' ,'V025' ,'V149' ,'V190'])\n",
    "    except:\n",
    "        df = pd.read_stata(f\"rec0111_{anio}.dta\", convert_categoricals=True, columns = ['id1','caseid', 'v001', 'v005', 'v012', 'v022' ,'v024' ,'v025' ,'v149' ,'v190'])\n",
    "    df.columns = df.columns.str.lower()\n",
    "    rec0111= pd.concat([rec0111,df], ignore_index=True)\n",
    "\n",
    "# Modulo REC91\n",
    "rec91 = pd.DataFrame()\n",
    "for anio in range(2019, 2023):\n",
    "    try:\n",
    "        df = pd.read_stata(f\"rec91_{anio}.dta\", convert_categoricals=True, columns= ['ID1', 'CASEID', 'SREGION', 'S119', 'S108N'])\n",
    "    except:\n",
    "        df = pd.read_stata(f\"rec91_{anio}.dta\", convert_categoricals=True, columns= ['id1','caseid','sregion', 's119', 's108n'])\n",
    "    df.columns = df.columns.str.lower()\n",
    "\n",
    "    # Exclude empty or all-NA columns before concatenation\n",
    "    df = df.dropna(axis=1, how='all')\n",
    "    rec91 = pd.concat([rec91, df], ignore_index=True)"
   ],
   "metadata": {
    "collapsed": false,
    "ExecuteTime": {
     "end_time": "2023-11-24T18:01:45.226414700Z",
     "start_time": "2023-11-24T18:01:43.786647800Z"
    }
   },
   "id": "30843ef145b4e9fe"
  },
  {
   "cell_type": "code",
   "execution_count": 64,
   "outputs": [],
   "source": [
    "# Merging datasets\n",
    "mergedDIT = pd.merge(dit, rec21.loc[:,['id1','caseid', 'bidx', 'b4']], how='inner', on=['id1','caseid', 'bidx'], validate=\"1:1\")\n",
    "mergedDIT = pd.merge(mergedDIT, rec0111.loc[:,['id1','caseid', 'v001', 'v005', 'v012', 'v022' ,'v024' ,'v025' ,'v149' ,'v190']], how='inner', on=['id1','caseid'], validate=\"m:1\")\n",
    "mergedDIT = pd.merge(mergedDIT, rec91.loc[:,['id1','caseid','sregion', 's119', 's108n']], how='inner', on=['id1','caseid'], validate=\"m:1\")"
   ],
   "metadata": {
    "collapsed": false,
    "ExecuteTime": {
     "end_time": "2023-11-24T20:45:50.695140700Z",
     "start_time": "2023-11-24T20:45:49.891015300Z"
    }
   },
   "id": "f830677b08cff61"
  },
  {
   "cell_type": "code",
   "execution_count": 76,
   "outputs": [],
   "source": [
    "# Generando variables de características del hogar/madre\n",
    "mergedDIT['v149_'] = mergedDIT['v149'].array.codes\n",
    "mergedDIT['educa'] = 1  # Initialize with a default value\n",
    "mergedDIT.loc[mergedDIT['v149_'] > 2, 'educa'] = 2\n",
    "mergedDIT.loc[mergedDIT['v149_'] == 5, 'educa'] = 3\n",
    "del mergedDIT['v149_']"
   ],
   "metadata": {
    "collapsed": false,
    "ExecuteTime": {
     "end_time": "2023-11-24T20:54:39.704288100Z",
     "start_time": "2023-11-24T20:54:39.692273300Z"
    }
   },
   "id": "6d85c6e5a973a70b"
  },
  {
   "cell_type": "markdown",
   "source": [
    "### Generación de variables de apego"
   ],
   "metadata": {
    "collapsed": false
   },
   "id": "ae2e7c7bb3478480"
  },
  {
   "cell_type": "code",
   "execution_count": 151,
   "outputs": [],
   "source": [
    "## Porcentaje de madres de niñas y niños entre 9 y 12 meses de edad que responde de manera inmediata y adecuada al llanto de su hija/o\n",
    "mergedDIT['sensMadre9a12'] = 0\n",
    "mergedDIT['qi478'] = mergedDIT['qi478'].values\n",
    "cond = (mergedDIT['qi478'] >= 9) & (mergedDIT['qi478'] <= 12)\n",
    "cond1 = (mergedDIT['qi478e10'] == \"Deja de hacer lo que está haciendo y la/lo atiende\") | (mergedDIT['qi478e10'] ==  \"Le pide otra persona que la(o) atienda\") | (mergedDIT['qi478e10'] == \"La (Lo) atiende aun cuando siga haciendo sus labores\")\n",
    "mergedDIT.loc[ cond & cond1 ,'sensMadre9a12'] = 1\n",
    "mergedDIT.loc[-cond,'sensMadre9a12'] = np.nan\n",
    "\n",
    "## Porcentaje de niños y niñas entre 9 y 12 meses de edad que tiene adecuada interacción madre-hijo/a como precursor del apego seguro\n",
    "mergedDIT['apego9a12'] = 0\n",
    "mergedDIT['apego9a12a'] = 0\n",
    "mergedDIT['apego9a12b'] = 0\n",
    "mergedDIT['apego9a12c'] = 0\n",
    "cond1 = (mergedDIT['qi478e7'] == \"No\") \n",
    "cond2 = (mergedDIT['qi478e8'] == \"No\") \n",
    "cond3 = (mergedDIT['qi478e9'] == \"No\")\n",
    "\n",
    "# Apego seguro - dummy\n",
    "mergedDIT.loc[ cond & cond1 & cond2 & cond3 ,'apego9a12'] = 1\n",
    "mergedDIT.loc[-cond,'apego9a12'] = np.nan\n",
    "\n",
    "# Apego seguro - categórica\n",
    "mergedDIT.loc[ cond & cond1 ,'apego9a12a'] = 1\n",
    "mergedDIT.loc[-cond,'apego9a12a'] = np.nan\n",
    "mergedDIT.loc[ cond & cond2 ,'apego9a12b'] = 1\n",
    "mergedDIT.loc[-cond,'apego9a12b'] = np.nan\n",
    "mergedDIT.loc[ cond & cond3 ,'apego9a12c'] = 1\n",
    "mergedDIT.loc[-cond,'apego9a12c'] = np.nan\n",
    "mergedDIT['apego9a12_cat'] = mergedDIT['apego9a12a'] + mergedDIT['apego9a12b'] + mergedDIT['apego9a12c']\n",
    "mergedDIT.loc[-cond,'apego9a12_cat'] = np.nan\n",
    "\n",
    "del mergedDIT['apego9a12a'] , mergedDIT['apego9a12b'] , mergedDIT['apego9a12c']"
   ],
   "metadata": {
    "collapsed": false,
    "ExecuteTime": {
     "end_time": "2023-11-24T22:52:58.074529Z",
     "start_time": "2023-11-24T22:52:58.056928400Z"
    }
   },
   "id": "504f2ff9d54d6881"
  },
  {
   "cell_type": "code",
   "execution_count": 134,
   "outputs": [
    {
     "data": {
      "text/plain": "apego9a12_cat\n3.0    2331\n2.0    1841\n1.0     678\n0.0     399\nName: count, dtype: int64"
     },
     "execution_count": 134,
     "metadata": {},
     "output_type": "execute_result"
    }
   ],
   "source": [
    "mergedDIT['apego9a12_cat'].value_counts()"
   ],
   "metadata": {
    "collapsed": false,
    "ExecuteTime": {
     "end_time": "2023-11-24T22:26:58.722789600Z",
     "start_time": "2023-11-24T22:26:58.715980300Z"
    }
   },
   "id": "ee258ec48a63e9d3"
  },
  {
   "cell_type": "markdown",
   "source": [
    "### Generando variables de comunicación efectiva"
   ],
   "metadata": {
    "collapsed": false
   },
   "id": "c53f4a3b8c4625af"
  },
  {
   "cell_type": "code",
   "execution_count": 150,
   "outputs": [],
   "source": [
    "#Porcentaje de niñas y niños de 9 a 36 meses con comunicación verbal a nivel comprensivo y expresivo apropiada para su edad\n",
    "for grupo in ['9a12','13a18', '19a23', '24a36']:\n",
    "    mergedDIT[f'comEfec{grupo}'] = 0\n",
    "    mergedDIT[f'comEfec{grupo}a'] = 0\n",
    "    mergedDIT[f'comEfec{grupo}b'] = 0\n",
    "    mergedDIT[f'comEfec{grupo}c'] = 0\n",
    "\n",
    "\n",
    "mergedDIT['qi478'] = mergedDIT['qi478'].values\n",
    "cond9a12 = (mergedDIT['qi478'] >= 9) & (mergedDIT['qi478'] <= 12) \n",
    "cond9a12a = (mergedDIT['qi478e3'] == \"Si\")\n",
    "cond9a12b = (mergedDIT['qi478e4'] == \"Si\")\n",
    "cond9a12c = (mergedDIT['qi478e5'] == \"Si\")\n",
    "cond13a18 = (mergedDIT['qi478'] >= 13) & (mergedDIT['qi478'] <= 18)\n",
    "cond13a18a = (mergedDIT['qi478f3'] == \"Si\")\n",
    "cond13a18b = (mergedDIT['qi478f4'] == \"Si\")\n",
    "cond13a18c = (mergedDIT['qi478f5'] == \"Si\")\n",
    "cond19a23 = (mergedDIT['qi478'] >= 19) & (mergedDIT['qi478'] <= 23)\n",
    "cond19a23a = (mergedDIT['qi478g1'] == \"Si\")\n",
    "cond19a23b = ((mergedDIT['qi478g2_a'] == \"Si\") & (mergedDIT['qi478g2_b'] == \"Si\") & (mergedDIT['qi478g2_c'] == \"Si\"))\n",
    "cond19a23c = (mergedDIT['qi478g3'] == \"Si\")\n",
    "cond24a36 = (mergedDIT['qi478'] >= 24) & (mergedDIT['qi478'] <= 36)\n",
    "cond24a36a = (mergedDIT['qi478h1'] == \"Si\")\n",
    "cond24a36b = (mergedDIT['qi478h2'] == \"Si\") \n",
    "cond24a36c = (mergedDIT['qi478h3'] == \"Si\")\n",
    "\n",
    "for grupo in ['9a12','13a18', '19a23', '24a36']:\n",
    "    # Comunicacion efectiva - dummy por edad\n",
    "    mergedDIT.loc[ locals()[f'cond{grupo}'] & locals()[f'cond{grupo}a'] & locals()[f'cond{grupo}b'] & locals()[f'cond{grupo}c'] ,f'comEfec{grupo}'] = 1\n",
    "    mergedDIT.loc[-locals()[f'cond{grupo}'],f'comEfec{grupo}'] = np.nan\n",
    "\n",
    "    # Comunicacion efectiva - categórica por edad\n",
    "    mergedDIT.loc[ locals()[f'cond{grupo}'] & locals()[f'cond{grupo}a'] ,f'comEfec{grupo}a'] = 1\n",
    "    mergedDIT.loc[-locals()[f'cond{grupo}'],f'comEfec{grupo}a'] = np.nan\n",
    "    mergedDIT.loc[ locals()[f'cond{grupo}'] & locals()[f'cond{grupo}b'] ,f'comEfec{grupo}b'] = 1\n",
    "    mergedDIT.loc[-locals()[f'cond{grupo}'],f'comEfec{grupo}b'] = np.nan\n",
    "    mergedDIT.loc[ locals()[f'cond{grupo}'] & locals()[f'cond{grupo}c'] ,f'comEfec{grupo}c'] = 1\n",
    "    mergedDIT.loc[-locals()[f'cond{grupo}'],f'comEfec{grupo}c'] = np.nan\n",
    "    mergedDIT[f'comEfec{grupo}_cat'] = mergedDIT[f'comEfec{grupo}a'] + mergedDIT[f'comEfec{grupo}b'] + mergedDIT[f'comEfec{grupo}c']\n",
    "    mergedDIT.loc[-locals()[f'cond{grupo}'], f'comEfec{grupo}_cat'] = np.nan\n",
    "    \n",
    "    del mergedDIT[f'comEfec{grupo}a'] , mergedDIT[f'comEfec{grupo}b'] , mergedDIT[f'comEfec{grupo}c']\n",
    "\n",
    "\n",
    "for var_name in list(locals()):\n",
    "    if var_name.startswith('cond'):\n",
    "        del locals()[var_name]"
   ],
   "metadata": {
    "collapsed": false,
    "ExecuteTime": {
     "end_time": "2023-11-24T22:52:03.914332700Z",
     "start_time": "2023-11-24T22:52:03.847404700Z"
    }
   },
   "id": "ebfcc17cf68535d1"
  },
  {
   "cell_type": "code",
   "execution_count": 153,
   "outputs": [
    {
     "data": {
      "text/plain": "                 apego9a12  apego9a12_cat  comEfec9a12  comEfec9a12_cat\napego9a12         1.000000       0.811155    -0.026716        -0.007959\napego9a12_cat     0.811155       1.000000     0.002029         0.047939\ncomEfec9a12      -0.026716       0.002029     1.000000         0.881844\ncomEfec9a12_cat  -0.007959       0.047939     0.881844         1.000000",
      "text/html": "<div>\n<style scoped>\n    .dataframe tbody tr th:only-of-type {\n        vertical-align: middle;\n    }\n\n    .dataframe tbody tr th {\n        vertical-align: top;\n    }\n\n    .dataframe thead th {\n        text-align: right;\n    }\n</style>\n<table border=\"1\" class=\"dataframe\">\n  <thead>\n    <tr style=\"text-align: right;\">\n      <th></th>\n      <th>apego9a12</th>\n      <th>apego9a12_cat</th>\n      <th>comEfec9a12</th>\n      <th>comEfec9a12_cat</th>\n    </tr>\n  </thead>\n  <tbody>\n    <tr>\n      <th>apego9a12</th>\n      <td>1.000000</td>\n      <td>0.811155</td>\n      <td>-0.026716</td>\n      <td>-0.007959</td>\n    </tr>\n    <tr>\n      <th>apego9a12_cat</th>\n      <td>0.811155</td>\n      <td>1.000000</td>\n      <td>0.002029</td>\n      <td>0.047939</td>\n    </tr>\n    <tr>\n      <th>comEfec9a12</th>\n      <td>-0.026716</td>\n      <td>0.002029</td>\n      <td>1.000000</td>\n      <td>0.881844</td>\n    </tr>\n    <tr>\n      <th>comEfec9a12_cat</th>\n      <td>-0.007959</td>\n      <td>0.047939</td>\n      <td>0.881844</td>\n      <td>1.000000</td>\n    </tr>\n  </tbody>\n</table>\n</div>"
     },
     "execution_count": 153,
     "metadata": {},
     "output_type": "execute_result"
    }
   ],
   "source": [
    "correlation_matrix = mergedDIT[['apego9a12', 'apego9a12_cat', 'comEfec9a12', 'comEfec9a12_cat']].corr()\n",
    "correlation_matrix"
   ],
   "metadata": {
    "collapsed": false,
    "ExecuteTime": {
     "end_time": "2023-11-24T22:58:22.931126300Z",
     "start_time": "2023-11-24T22:58:22.914194500Z"
    }
   },
   "id": "6f19491310792b59"
  },
  {
   "cell_type": "code",
   "execution_count": 149,
   "outputs": [
    {
     "data": {
      "text/plain": "comEfec9a12_cat\n3.0    4014\n2.0     895\n1.0     232\n0.0     108\nName: count, dtype: int64"
     },
     "execution_count": 149,
     "metadata": {},
     "output_type": "execute_result"
    }
   ],
   "source": [
    "mergedDIT['comEfec9a12_cat'].value_counts()"
   ],
   "metadata": {
    "collapsed": false,
    "ExecuteTime": {
     "end_time": "2023-11-24T22:49:32.354688700Z",
     "start_time": "2023-11-24T22:49:32.344982100Z"
    }
   },
   "id": "64beba04ff83092c"
  },
  {
   "cell_type": "code",
   "execution_count": 126,
   "outputs": [
    {
     "data": {
      "text/plain": "qi478e7\nNo                     3947\nSi                     1255\nNo responde/No sabe       2\nName: count, dtype: int64"
     },
     "execution_count": 126,
     "metadata": {},
     "output_type": "execute_result"
    }
   ],
   "source": [
    "mergedDIT['qi478e7'].value_counts()"
   ],
   "metadata": {
    "collapsed": false,
    "ExecuteTime": {
     "end_time": "2023-11-24T21:45:50.380408400Z",
     "start_time": "2023-11-24T21:45:50.350403700Z"
    }
   },
   "id": "b35eabc760aa5927"
  },
  {
   "cell_type": "code",
   "execution_count": 128,
   "outputs": [
    {
     "data": {
      "text/plain": "precursorApego9a12\n0.0    2918\n1.0    2331\nName: count, dtype: int64"
     },
     "execution_count": 128,
     "metadata": {},
     "output_type": "execute_result"
    }
   ],
   "source": [
    "mergedDIT['precursorApego9a12'].value_counts()"
   ],
   "metadata": {
    "collapsed": false,
    "ExecuteTime": {
     "end_time": "2023-11-24T21:49:25.611398500Z",
     "start_time": "2023-11-24T21:49:25.583228600Z"
    }
   },
   "id": "6d7fb66ee7533de"
  },
  {
   "cell_type": "code",
   "execution_count": null,
   "outputs": [],
   "source": [
    "# Factor de expansion\n",
    "merged_final[\"wt\"] = merged_final[\"v005\"] / 1000000\n",
    "\n",
    "# Generamos la variable EDADM\n",
    "merged_final[\"edadm\"] = merged_final[\"v008\"] - merged_final[\"b3\"]\n",
    "merged_final[\"e_0a35\"] = merged_final[\"edadm\"] < 36\n",
    "merged_final[\"e_0a59\"] = merged_final[\"edadm\"] < 60\n",
    "\n",
    "# Peso al nacer\n",
    "merged_final[\"pesonac\"] = 1\n",
    "merged_final.loc[(merged_final[\"m19\"] > 2499) & (merged_final[\"m19\"] <= 8000) & (merged_final[\"v012\"] > 14), \"pesonac\"] = 2\n",
    "merged_final.loc[merged_final[\"m19\"] == 9996 & (merged_final[\"v012\"] > 14), \"pesonac\"] = 3\n",
    "merged_final.loc[merged_final[\"m19\"] == 9998 & (merged_final[\"v012\"] > 14), \"pesonac\"] = 4\n",
    "\n",
    "# Labels for pesonac\n",
    "labels = {1: \"Menos de 2.5kg\", 2: \">=2.5 kg\", 3: \"No pesados al nacer\", 4: \"No sabe, sin informacion\"}\n",
    "merged_final[\"pesonac\"] = merged_final[\"pesonac\"].map(labels)"
   ],
   "metadata": {
    "collapsed": false
   },
   "id": "31fcdf629ae34596"
  },
  {
   "cell_type": "code",
   "execution_count": null,
   "outputs": [],
   "source": [
    "# Tabulations\n",
    "tab1 = pd.crosstab(merged_final[\"pesonac\"], merged_final[\"e_0a59\"], values=merged_final[\"wt\"], aggfunc=\"sum\")\n",
    "tab2 = pd.crosstab([merged_final[\"v463a\"], merged_final[\"pesonac\"]], merged_final[\"e_0a59\"], values=merged_final[\"wt\"], aggfunc=\"sum\")\n",
    "tab3 = pd.crosstab([merged_final[\"v190\"], merged_final[\"pesonac\"]], merged_final[\"e_0a59\"], values=merged_final[\"wt\"], aggfunc=\"sum\")\n",
    "tab4 = pd.crosstab([merged_final[\"etnia\"], merged_final[\"pesonac\"]], merged_final[\"e_0a59\"], values=merged_final[\"wt\"], aggfunc=\"sum\")\n",
    "tab5 = pd.crosstab([merged_final[\"lmaterna\"], merged_final[\"pesonac\"]], merged_final[\"e_0a59\"], values=merged_final[\"wt\"], aggfunc=\"sum\")\n",
    "tab6 = pd.crosstab([merged_final[\"v025\"], merged_final[\"pesonac\"]], merged_final[\"e_0a59\"], values=merged_final[\"wt\"], aggfunc=\"sum\")\n",
    "tab7 = pd.crosstab([merged_final[\"sregion\"], merged_final[\"pesonac\"]], merged_final[\"e_0a59\"], values=merged_final[\"wt\"], aggfunc=\"sum\")\n",
    "\n",
    "# Tamaño de la niña o niño al nacer\n",
    "merged_final[\"ch_size_birth\"] = pd.cut(merged_final[\"m18\"], bins=[-1, 2, 4, 5, 8, 9], labels=[\"Promedio o mayor\", \"Menor que promedio\", \"Muy pequeño\", \"No sabe/sin información\"], right=False)\n",
    "tab8 = pd.crosstab(merged_final[\"ch_size_birth\"], merged_final[\"e_0a59\"], values=merged_final[\"wt\"], aggfunc=\"sum\")\n",
    "tab9 = pd.crosstab([merged_final[\"v463a\"], merged_final[\"ch_size_birth\"]], merged_final[\"e_0a59\"], values=merged_final[\"wt\"], aggfunc=\"sum\")\n",
    "tab10 = pd.crosstab([merged_final[\"v190\"], merged_final[\"ch_size_birth\"]], merged_final[\"e_0a59\"], values=merged_final[\"wt\"], aggfunc=\"sum\")\n",
    "tab11 = pd.crosstab([merged_final[\"etnia\"], merged_final[\"ch_size_birth\"]], merged_final[\"e_0a59\"], values=merged_final[\"wt\"], aggfunc=\"sum\")\n",
    "tab12 = pd.crosstab([merged_final[\"lmaterna\"], merged_final[\"ch_size_birth\"]], merged_final[\"e_0a59\"], values=merged_final[\"wt\"], aggfunc=\"sum\")\n",
    "tab13 = pd.crosstab([merged_final[\"v025\"], merged_final[\"ch_size_birth\"]], merged_final[\"e_0a59\"], values=merged_final[\"wt\"], aggfunc=\"sum\")\n",
    "tab14 = pd.crosstab([merged_final[\"sregion\"], merged_final[\"ch_size_birth\"]], merged_final[\"e_0a59\"], values=merged_final[\"wt\"], aggfunc=\"sum\")\n"
   ],
   "metadata": {
    "collapsed": false
   },
   "id": "bafb90ea076a7153"
  }
 ],
 "metadata": {
  "kernelspec": {
   "display_name": "Python 3",
   "language": "python",
   "name": "python3"
  },
  "language_info": {
   "codemirror_mode": {
    "name": "ipython",
    "version": 2
   },
   "file_extension": ".py",
   "mimetype": "text/x-python",
   "name": "python",
   "nbconvert_exporter": "python",
   "pygments_lexer": "ipython2",
   "version": "2.7.6"
  }
 },
 "nbformat": 4,
 "nbformat_minor": 5
}

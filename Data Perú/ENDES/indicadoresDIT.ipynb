{
 "cells": [
  {
   "cell_type": "markdown",
   "source": [
    "# Indicadores DIT"
   ],
   "metadata": {
    "collapsed": false
   },
   "id": "32dcc349c2ec919d"
  },
  {
   "cell_type": "markdown",
   "source": [
    "## 1. Importación de librerías y bases de datos"
   ],
   "metadata": {
    "collapsed": false
   },
   "id": "e2bcbf7e12300e7d"
  },
  {
   "cell_type": "code",
   "execution_count": 1,
   "id": "initial_id",
   "metadata": {
    "collapsed": true,
    "ExecuteTime": {
     "end_time": "2023-12-01T17:37:59.199729100Z",
     "start_time": "2023-12-01T17:37:57.819044Z"
    }
   },
   "outputs": [],
   "source": [
    "#Librerías\n",
    "import pandas as pd\n",
    "import os\n",
    "import numpy as np"
   ]
  },
  {
   "cell_type": "code",
   "execution_count": 5,
   "outputs": [
    {
     "name": "stderr",
     "output_type": "stream",
     "text": [
      "C:\\Users\\User\\AppData\\Local\\Temp\\ipykernel_5788\\4166083060.py:35: UnicodeWarning: \n",
      "One or more strings in the dta file could not be decoded using utf-8, and\n",
      "so the fallback encoding of latin-1 is being used.  This can happen when a file\n",
      "has been incorrectly encoded by Stata or some other software. You should verify\n",
      "the string values returned are correct.\n",
      "  df = pd.read_stata(f\"rec91_{anio}.dta\", convert_categoricals=True, columns= ['ID1', 'CASEID', 'SREGION', 'S119', 'S108N'])\n",
      "C:\\Users\\User\\AppData\\Local\\Temp\\ipykernel_5788\\4166083060.py:37: UnicodeWarning: \n",
      "One or more strings in the dta file could not be decoded using utf-8, and\n",
      "so the fallback encoding of latin-1 is being used.  This can happen when a file\n",
      "has been incorrectly encoded by Stata or some other software. You should verify\n",
      "the string values returned are correct.\n",
      "  df = pd.read_stata(f\"rec91_{anio}.dta\", convert_categoricals=True, columns= ['id1','caseid','sregion', 's119', 's108n'])\n",
      "C:\\Users\\User\\AppData\\Local\\Temp\\ipykernel_5788\\4166083060.py:35: UnicodeWarning: \n",
      "One or more strings in the dta file could not be decoded using utf-8, and\n",
      "so the fallback encoding of latin-1 is being used.  This can happen when a file\n",
      "has been incorrectly encoded by Stata or some other software. You should verify\n",
      "the string values returned are correct.\n",
      "  df = pd.read_stata(f\"rec91_{anio}.dta\", convert_categoricals=True, columns= ['ID1', 'CASEID', 'SREGION', 'S119', 'S108N'])\n",
      "C:\\Users\\User\\AppData\\Local\\Temp\\ipykernel_5788\\4166083060.py:48: UnicodeWarning: \n",
      "One or more strings in the dta file could not be decoded using utf-8, and\n",
      "so the fallback encoding of latin-1 is being used.  This can happen when a file\n",
      "has been incorrectly encoded by Stata or some other software. You should verify\n",
      "the string values returned are correct.\n",
      "  df = pd.read_stata(f\"rec42_{anio}.dta\", convert_categoricals=True, columns= ['ID1', 'CASEID', 'V463A'])\n",
      "C:\\Users\\User\\AppData\\Local\\Temp\\ipykernel_5788\\4166083060.py:50: UnicodeWarning: \n",
      "One or more strings in the dta file could not be decoded using utf-8, and\n",
      "so the fallback encoding of latin-1 is being used.  This can happen when a file\n",
      "has been incorrectly encoded by Stata or some other software. You should verify\n",
      "the string values returned are correct.\n",
      "  df = pd.read_stata(f\"rec42_{anio}.dta\", convert_categoricals=True, columns= ['id1','caseid','v463a'])\n",
      "C:\\Users\\User\\AppData\\Local\\Temp\\ipykernel_5788\\4166083060.py:48: UnicodeWarning: \n",
      "One or more strings in the dta file could not be decoded using utf-8, and\n",
      "so the fallback encoding of latin-1 is being used.  This can happen when a file\n",
      "has been incorrectly encoded by Stata or some other software. You should verify\n",
      "the string values returned are correct.\n",
      "  df = pd.read_stata(f\"rec42_{anio}.dta\", convert_categoricals=True, columns= ['ID1', 'CASEID', 'V463A'])\n",
      "C:\\Users\\User\\AppData\\Local\\Temp\\ipykernel_5788\\4166083060.py:61: UnicodeWarning: \n",
      "One or more strings in the dta file could not be decoded using utf-8, and\n",
      "so the fallback encoding of latin-1 is being used.  This can happen when a file\n",
      "has been incorrectly encoded by Stata or some other software. You should verify\n",
      "the string values returned are correct.\n",
      "  df = pd.read_stata(f\"rec41_{anio}.dta\", convert_categoricals=True, columns= ['ID1', 'CASEID', 'MIDX','M19','M18'])\n",
      "C:\\Users\\User\\AppData\\Local\\Temp\\ipykernel_5788\\4166083060.py:64: UnicodeWarning: \n",
      "One or more strings in the dta file could not be decoded using utf-8, and\n",
      "so the fallback encoding of latin-1 is being used.  This can happen when a file\n",
      "has been incorrectly encoded by Stata or some other software. You should verify\n",
      "the string values returned are correct.\n",
      "  df = pd.read_stata(f\"rec41_{anio}.dta\", convert_categoricals=True, columns= ['id1','caseid', 'midx','m19','m18'])\n",
      "C:\\Users\\User\\AppData\\Local\\Temp\\ipykernel_5788\\4166083060.py:61: UnicodeWarning: \n",
      "One or more strings in the dta file could not be decoded using utf-8, and\n",
      "so the fallback encoding of latin-1 is being used.  This can happen when a file\n",
      "has been incorrectly encoded by Stata or some other software. You should verify\n",
      "the string values returned are correct.\n",
      "  df = pd.read_stata(f\"rec41_{anio}.dta\", convert_categoricals=True, columns= ['ID1', 'CASEID', 'MIDX','M19','M18'])\n"
     ]
    }
   ],
   "source": [
    "os.chdir(r'C:\\Users\\User\\OneDrive - Universidad del Pacífico\\1. Documentos\\0. Bases de datos\\03. ENDES\\1. Data')\n",
    "\n",
    "# Modulo DIT\n",
    "dit = pd.DataFrame()\n",
    "for anio in range(2019,2023):\n",
    "    df = pd.read_stata(f\"dit_{anio}.dta\", convert_categoricals=True)\n",
    "    df.columns = df.columns.str.lower()\n",
    "    dit= pd.concat([dit,df], ignore_index=True)\n",
    "dit['id1'] = dit['id1'].astype(int)\n",
    "\n",
    "# Modulo REC21\n",
    "rec21 = pd.DataFrame()\n",
    "for anio in range(2019,2023):\n",
    "    try:\n",
    "        df = pd.read_stata(f\"rec21_{anio}.dta\", columns = ['ID1', 'CASEID', 'BIDX', 'B3', 'B4'])\n",
    "    except:\n",
    "        df = pd.read_stata(f\"rec21_{anio}.dta\", columns = ['id1', 'caseid', 'bidx', 'b3', 'b4'])\n",
    "    df.columns = df.columns.str.lower()\n",
    "    rec21 = pd.concat([rec21,df], ignore_index=True)\n",
    "\n",
    "# Modulo REC0111\n",
    "rec0111 = pd.DataFrame()\n",
    "for anio in range(2019,2023):\n",
    "    try:\n",
    "        df = pd.read_stata(f\"rec0111_{anio}.dta\", convert_categoricals=True, columns = ['ID1', 'CASEID', 'V001', 'V005', 'V008', 'V012', 'V022' ,'V024' ,'V025' ,'V149' ,'V190'])\n",
    "    except:\n",
    "        df = pd.read_stata(f\"rec0111_{anio}.dta\", convert_categoricals=True, columns = ['id1','caseid', 'v001', 'v005', 'v008', 'v012', 'v022' ,'v024' ,'v025' ,'v149' ,'v190'])\n",
    "    df.columns = df.columns.str.lower()\n",
    "    rec0111= pd.concat([rec0111,df], ignore_index=True)\n",
    "\n",
    "# Modulo REC91\n",
    "rec91 = pd.DataFrame()\n",
    "for anio in range(2019, 2023):\n",
    "    try:\n",
    "        df = pd.read_stata(f\"rec91_{anio}.dta\", convert_categoricals=True, columns= ['ID1', 'CASEID', 'SREGION', 'S119', 'S108N'])\n",
    "    except:\n",
    "        df = pd.read_stata(f\"rec91_{anio}.dta\", convert_categoricals=True, columns= ['id1','caseid','sregion', 's119', 's108n'])\n",
    "    df.columns = df.columns.str.lower()\n",
    "\n",
    "    # Exclude empty or all-NA columns before concatenation\n",
    "    df = df.dropna(axis=1, how='all')\n",
    "    rec91 = pd.concat([rec91, df], ignore_index=True)\n",
    "\n",
    "# Modulo REC42\n",
    "rec42 = pd.DataFrame()\n",
    "for anio in range(2019, 2023):\n",
    "    try:\n",
    "        df = pd.read_stata(f\"rec42_{anio}.dta\", convert_categoricals=True, columns= ['ID1', 'CASEID', 'V463A'])\n",
    "    except:\n",
    "        df = pd.read_stata(f\"rec42_{anio}.dta\", convert_categoricals=True, columns= ['id1','caseid','v463a'])\n",
    "    df.columns = df.columns.str.lower()\n",
    "\n",
    "    # Exclude empty or all-NA columns before concatenation\n",
    "    df = df.dropna(axis=1, how='all')\n",
    "    rec42 = pd.concat([rec42, df], ignore_index=True)\n",
    "\n",
    "# Modulo REC41\n",
    "rec41 = pd.DataFrame()\n",
    "for anio in range(2019, 2023):\n",
    "    try:\n",
    "        df = pd.read_stata(f\"rec41_{anio}.dta\", convert_categoricals=True, columns= ['ID1', 'CASEID', 'MIDX','M19','M18'])\n",
    "        df\n",
    "    except:\n",
    "        df = pd.read_stata(f\"rec41_{anio}.dta\", convert_categoricals=True, columns= ['id1','caseid', 'midx','m19','m18'])\n",
    "    df.columns = df.columns.str.lower()\n",
    "    df['bidx'] = df['midx']\n",
    "    # Exclude empty or all-NA columns before concatenation\n",
    "    df = df.dropna(axis=1, how='all')\n",
    "    rec41 = pd.concat([rec41, df], ignore_index=True)\n",
    "\n",
    "\n",
    "# Modulo rech23\n",
    "rech23 = pd.DataFrame()\n",
    "for anio in range(2019, 2023):\n",
    "    try:\n",
    "        df = pd.read_stata(f\"rech23_{anio}.dta\", convert_categoricals=True, columns= ['ID1', 'HHID', 'HV270'])\n",
    "    except:\n",
    "        df = pd.read_stata(f\"rech23_{anio}.dta\", convert_categoricals=True, columns= ['id1','hhid', 'hv270'])\n",
    "    df.columns = df.columns.str.lower()\n",
    "    # Exclude empty or all-NA columns before concatenation\n",
    "    df = df.dropna(axis=1, how='all')\n",
    "    rech23 = pd.concat([rech23, df], ignore_index=True)\n",
    "\n",
    "# Modulo rech0\n",
    "rech0 = pd.DataFrame()\n",
    "for anio in range(2019, 2023):\n",
    "    try:\n",
    "        df = pd.read_stata(f\"rech0_{anio}.dta\", convert_categoricals=True, columns= ['ID1', 'HHID', 'HV001', 'HV025', 'HV040', 'HV022'])\n",
    "    except:\n",
    "        df = pd.read_stata(f\"rech0_{anio}.dta\", convert_categoricals=True, columns= ['id1','hhid', 'hv001', 'hv025', 'hv040', 'hv022'])\n",
    "    df.columns = df.columns.str.lower()\n",
    "\n",
    "    # Exclude empty or all-NA columns before concatenation\n",
    "    df = df.dropna(axis=1, how='all')\n",
    "    rech0 = pd.concat([rech0, df], ignore_index=True)\n",
    "\n",
    "# Modulo rech1\n",
    "rech1 = pd.DataFrame()\n",
    "for anio in range(2019, 2023):\n",
    "    try:\n",
    "        df = pd.read_stata(f\"rech1_{anio}.dta\", convert_categoricals=True, columns= ['ID1','HHID', 'HVIDX', 'HV103'])\n",
    "    except:\n",
    "        df = pd.read_stata(f\"rech1_{anio}.dta\", convert_categoricals=True, columns= ['id1','hhid', 'hvidx','hv103'])\n",
    "    df.columns = df.columns.str.lower()\n",
    "    df['hc0'] = df['hvidx']\n",
    "    # Exclude empty or all-NA columns before concatenation\n",
    "    df = df.dropna(axis=1, how='all')\n",
    "    rech1 = pd.concat([rech1, df], ignore_index=True)\n",
    "    \n",
    "\n",
    "# Modulo rech6\n",
    "rech6 = pd.DataFrame()\n",
    "for anio in range(2019, 2023):\n",
    "    try:\n",
    "        df = pd.read_stata(f\"rech6_{anio}.dta\", convert_categoricals=True, columns= ['ID1', 'HHID', 'HC0','HC1', 'HC53', 'HC56', 'HC57', 'HC70'])\n",
    "    except:\n",
    "        df = pd.read_stata(f\"rech6_{anio}.dta\", convert_categoricals=True, columns= ['id1','hhid', 'hc0','hc1', 'hc53', 'hc56', 'hc57', 'hc70'])\n",
    "    df.columns = df.columns.str.lower()\n",
    "\n",
    "    # Exclude empty or all-NA columns before concatenation\n",
    "    df = df.dropna(axis=1, how='all')\n",
    "    rech6 = pd.concat([rech6, df], ignore_index=True)\n",
    "    "
   ],
   "metadata": {
    "collapsed": false,
    "ExecuteTime": {
     "end_time": "2023-12-01T17:40:58.509343100Z",
     "start_time": "2023-12-01T17:40:55.008795300Z"
    }
   },
   "id": "30843ef145b4e9fe"
  },
  {
   "cell_type": "code",
   "execution_count": 6,
   "outputs": [],
   "source": [
    "# Merging datasets\n",
    "dfDIT = pd.merge(dit, rec21, how='inner', on=['id1','caseid', 'bidx'], validate=\"1:1\")\n",
    "dfDIT = pd.merge(dfDIT, rec0111, how='inner', on=['id1','caseid'], validate=\"m:1\")\n",
    "dfDIT = pd.merge(dfDIT, rec91, how='inner', on=['id1','caseid'], validate=\"m:1\")\n",
    "dfDIT = pd.merge(dfDIT, rec41, how='inner', on=['id1','caseid', 'bidx'], validate=\"1:1\")\n",
    "dfDIT = pd.merge(dfDIT, rec42, how='inner', on=['id1','caseid'], validate=\"m:1\")\n",
    "\n",
    "dfBajoPeso = pd.merge(rec0111, rec91, how='inner', on=['id1','caseid'], validate=\"1:1\")\n",
    "dfBajoPeso = pd.merge(dfBajoPeso, rec42, how='inner', on=['id1','caseid'], validate=\"1:1\")\n",
    "df = pd.merge(rec21, rec41, how='inner', on=['id1','caseid', 'bidx'], validate=\"1:1\")\n",
    "dfBajoPeso = pd.merge(dfBajoPeso, df, how='inner', on=['id1','caseid'], validate=\"1:m\")\n",
    "\n",
    "df1 = pd.merge(rech23, rech0, how='inner', on=['id1','hhid'], validate=\"1:1\")\n",
    "df2 = pd.merge(rech1, rech6, how='inner', on=['id1','hhid', 'hc0'], validate=\"1:1\")\n",
    "dfAnemiaDCI = pd.merge(df2, df1, how='inner', on=['id1','hhid'], validate=\"m:1\")\n",
    "\n",
    "\n",
    "del dit, df, rec0111, rec21, rec91, anio, rec42, rec41, df1, df2, rech0, rech1, rech23, rech6"
   ],
   "metadata": {
    "collapsed": false,
    "ExecuteTime": {
     "end_time": "2023-12-01T17:41:03.699959300Z",
     "start_time": "2023-12-01T17:41:00.299333400Z"
    }
   },
   "id": "f830677b08cff61"
  },
  {
   "cell_type": "markdown",
   "source": [
    "## 2. Generación de variables"
   ],
   "metadata": {
    "collapsed": false
   },
   "id": "dc32445ec691067a"
  },
  {
   "cell_type": "markdown",
   "source": [
    "### 2.1. Características del hogar o entorno"
   ],
   "metadata": {
    "collapsed": false
   },
   "id": "968deb577def7530"
  },
  {
   "cell_type": "code",
   "execution_count": 8,
   "outputs": [],
   "source": [
    "# Generando variables de características del hogar/madre\n",
    "\n",
    "# Educación de la madre\n",
    "dfDIT['v149_'] = dfDIT['v149'].array.codes\n",
    "dfDIT['eduComp'] = 0\n",
    "dfDIT.loc[dfDIT['v149_'] >= 2, 'eduComp'] = 1\n",
    "dfDIT.loc[dfDIT['v149_'] >= 4, 'eduComp'] = 2\n",
    "dfDIT.loc[dfDIT['v149_'] == 5, 'eduComp'] = 3\n",
    "del dfDIT['v149_']\n",
    "# Labels for eduComp\n",
    "labels = {1: \"Sin nivel educativo\", 2: \"Primaria completa\", 3: \"Secundaria completa\", 4: \"Superior\"}\n",
    "dfDIT[\"eduComp\"] = dfDIT[\"eduComp\"].map(labels)\n",
    "\n",
    "# Generamos la variable edadm (edad en meses)\n",
    "dfDIT[\"edadm\"] = dfDIT[\"v008\"] - dfDIT[\"b3\"]\n",
    "dfDIT[\"e_0a35\"] = dfDIT[\"edadm\"] < 36\n",
    "dfDIT[\"e_0a59\"] = dfDIT[\"edadm\"] < 60"
   ],
   "metadata": {
    "collapsed": false,
    "ExecuteTime": {
     "end_time": "2023-11-28T19:42:27.357320300Z",
     "start_time": "2023-11-28T19:42:27.343837500Z"
    }
   },
   "id": "6d85c6e5a973a70b"
  },
  {
   "cell_type": "markdown",
   "source": [
    "### 2.2. R1: Nacimiento saludable"
   ],
   "metadata": {
    "collapsed": false
   },
   "id": "ae2e7c7bb3478480"
  },
  {
   "cell_type": "code",
   "execution_count": 50,
   "outputs": [],
   "source": [
    "# Peso al nacer\n",
    "dfDIT[\"pesonac\"] = 1\n",
    "dfDIT.loc[(dfDIT[\"m19\"] == 'No se pesó al nacer'), 'm19'] = 9996\n",
    "dfDIT.loc[(dfDIT[\"m19\"] == 'No sabe'), 'm19'] = 9998\n",
    "dfDIT.loc[(dfDIT[\"m19\"] > 2499) & (dfDIT[\"m19\"] <= 8000) & (dfDIT[\"v012\"] > 14), \"pesonac\"] = 2\n",
    "dfDIT.loc[dfDIT[\"m19\"] == 9996 & (dfDIT[\"v012\"] > 14), \"pesonac\"] = 3\n",
    "dfDIT.loc[dfDIT[\"m19\"] == 9998 & (dfDIT[\"v012\"] > 14), \"pesonac\"] = 4\n",
    "\n",
    "# Labels for pesonac\n",
    "labels = {1: \"Menos de 2.5kg\", 2: \">=2.5 kg\", 3: \"No pesados al nacer\", 4: \"No sabe, sin informacion\"}\n",
    "dfDIT[\"pesonac\"] = dfDIT[\"pesonac\"].map(labels)\n",
    "\n",
    "# Nacimiento prematuro --> \n",
    "# Q220A Duración del embarazo\n",
    "# QULT5 Es un nacimiento en ultimos 5 años\n",
    "\n",
    "# Prevalencia de anemia en mujeres gestantes\n",
    "# - Denominador. Constituido por el total gestantes que al momento de la aplicación de la encuesta cumplen con la definición de pernoctaron en el hogar la noche anterior a la encuesta.\n",
    "# - Numerador. Constituido por gestantes que cumplen con la definición del denominador y presentan anemia."
   ],
   "metadata": {
    "collapsed": false,
    "ExecuteTime": {
     "end_time": "2023-11-28T20:12:23.637809100Z",
     "start_time": "2023-11-28T20:12:23.610460900Z"
    }
   },
   "id": "55aac44de667a679"
  },
  {
   "cell_type": "code",
   "execution_count": 60,
   "outputs": [
    {
     "data": {
      "text/plain": "pesonac\n>=2.5 kg          59021\nMenos de 2.5kg     6089\nName: count, dtype: int64"
     },
     "execution_count": 60,
     "metadata": {},
     "output_type": "execute_result"
    }
   ],
   "source": [
    "dfDIT[\"pesonac\"].value_counts()"
   ],
   "metadata": {
    "collapsed": false,
    "ExecuteTime": {
     "end_time": "2023-11-28T20:26:28.202441600Z",
     "start_time": "2023-11-28T20:26:28.162528800Z"
    }
   },
   "id": "62ae8d9605478eda"
  },
  {
   "cell_type": "markdown",
   "source": [
    "### 2.3. R2: Apego seguro "
   ],
   "metadata": {
    "collapsed": false
   },
   "id": "649c966d24bc529f"
  },
  {
   "cell_type": "code",
   "execution_count": 151,
   "outputs": [],
   "source": [
    "## Porcentaje de madres de niñas y niños entre 9 y 12 meses de edad que responde de manera inmediata y adecuada al llanto de su hija/o\n",
    "dfDIT['sensMadre9a12'] = 0\n",
    "dfDIT['qi478'] = dfDIT['qi478'].values\n",
    "cond = (dfDIT['qi478'] >= 9) & (dfDIT['qi478'] <= 12)\n",
    "cond1 = (dfDIT['qi478e10'] == \"Deja de hacer lo que está haciendo y la/lo atiende\") | (dfDIT['qi478e10'] ==  \"Le pide otra persona que la(o) atienda\") | (dfDIT['qi478e10'] == \"La (Lo) atiende aun cuando siga haciendo sus labores\")\n",
    "dfDIT.loc[ cond & cond1 ,'sensMadre9a12'] = 1\n",
    "dfDIT.loc[-cond,'sensMadre9a12'] = np.nan\n",
    "\n",
    "## Porcentaje de niños y niñas entre 9 y 12 meses de edad que tiene adecuada interacción madre-hijo/a como precursor del apego seguro\n",
    "dfDIT['apego9a12'] = 0\n",
    "dfDIT['apego9a12a'] = 0\n",
    "dfDIT['apego9a12b'] = 0\n",
    "dfDIT['apego9a12c'] = 0\n",
    "cond1 = (dfDIT['qi478e7'] == \"No\") \n",
    "cond2 = (dfDIT['qi478e8'] == \"No\") \n",
    "cond3 = (dfDIT['qi478e9'] == \"No\")\n",
    "\n",
    "# Apego seguro - dummy\n",
    "dfDIT.loc[ cond & cond1 & cond2 & cond3 ,'apego9a12'] = 1\n",
    "dfDIT.loc[-cond,'apego9a12'] = np.nan\n",
    "\n",
    "# Apego seguro - categórica\n",
    "dfDIT.loc[ cond & cond1 ,'apego9a12a'] = 1\n",
    "dfDIT.loc[-cond,'apego9a12a'] = np.nan\n",
    "dfDIT.loc[ cond & cond2 ,'apego9a12b'] = 1\n",
    "dfDIT.loc[-cond,'apego9a12b'] = np.nan\n",
    "dfDIT.loc[ cond & cond3 ,'apego9a12c'] = 1\n",
    "dfDIT.loc[-cond,'apego9a12c'] = np.nan\n",
    "dfDIT['apego9a12_cat'] = dfDIT['apego9a12a'] + dfDIT['apego9a12b'] + dfDIT['apego9a12c']\n",
    "dfDIT.loc[-cond,'apego9a12_cat'] = np.nan\n",
    "\n",
    "del dfDIT['apego9a12a'] , dfDIT['apego9a12b'] , dfDIT['apego9a12c']"
   ],
   "metadata": {
    "collapsed": false,
    "ExecuteTime": {
     "end_time": "2023-11-24T22:52:58.074529Z",
     "start_time": "2023-11-24T22:52:58.056928400Z"
    }
   },
   "id": "504f2ff9d54d6881"
  },
  {
   "cell_type": "code",
   "execution_count": null,
   "outputs": [],
   "source": [
    "# Porcentaje de niñas y niños entre 24 y 71 meses de edad cuya madre no ejerce conductas de castigo físico hacia su hija/o\n",
    "# - Numerador: Número niñas y niños niños de 24 a 71 meses cuyas madres participaron de la encuesta y declararon que no ejercen conductas de castigo físico hacia su hija/o.\n",
    "# - Denominador: Número niñas y niños niños de 24 a 71 meses cuyas madres participaron de la encuesta y respondieron la pregunta sobre si ejercen conductas de castigo físico hacia su hija/o."
   ],
   "metadata": {
    "collapsed": false
   },
   "id": "9303c25780ae2bdb"
  },
  {
   "cell_type": "code",
   "execution_count": 134,
   "outputs": [
    {
     "data": {
      "text/plain": "apego9a12_cat\n3.0    2331\n2.0    1841\n1.0     678\n0.0     399\nName: count, dtype: int64"
     },
     "execution_count": 134,
     "metadata": {},
     "output_type": "execute_result"
    }
   ],
   "source": [
    "dfDIT['apego9a12_cat'].value_counts()"
   ],
   "metadata": {
    "collapsed": false,
    "ExecuteTime": {
     "end_time": "2023-11-24T22:26:58.722789600Z",
     "start_time": "2023-11-24T22:26:58.715980300Z"
    }
   },
   "id": "ee258ec48a63e9d3"
  },
  {
   "cell_type": "markdown",
   "source": [
    "### 2.4. R3: Adecuado estado nutricional \n"
   ],
   "metadata": {
    "collapsed": false
   },
   "id": "bbf36248c6c8bd58"
  },
  {
   "cell_type": "code",
   "execution_count": 41,
   "outputs": [
    {
     "ename": "TypeError",
     "evalue": "Cannot perform 'rand_' with a dtyped [object] array and scalar of type [bool]",
     "output_type": "error",
     "traceback": [
      "\u001B[1;31m---------------------------------------------------------------------------\u001B[0m",
      "\u001B[1;31mTypeError\u001B[0m                                 Traceback (most recent call last)",
      "File \u001B[1;32m~\\AppData\\Local\\Programs\\Python\\Python39\\lib\\site-packages\\pandas\\core\\ops\\array_ops.py:311\u001B[0m, in \u001B[0;36mna_logical_op\u001B[1;34m(x, y, op)\u001B[0m\n\u001B[0;32m    302\u001B[0m \u001B[38;5;28;01mtry\u001B[39;00m:\n\u001B[0;32m    303\u001B[0m     \u001B[38;5;66;03m# For exposition, write:\u001B[39;00m\n\u001B[0;32m    304\u001B[0m     \u001B[38;5;66;03m#  yarr = isinstance(y, np.ndarray)\u001B[39;00m\n\u001B[1;32m   (...)\u001B[0m\n\u001B[0;32m    309\u001B[0m     \u001B[38;5;66;03m# Then Cases where this goes through without raising include:\u001B[39;00m\n\u001B[0;32m    310\u001B[0m     \u001B[38;5;66;03m#  (xint or xbool) and (yint or bool)\u001B[39;00m\n\u001B[1;32m--> 311\u001B[0m     result \u001B[38;5;241m=\u001B[39m \u001B[43mop\u001B[49m\u001B[43m(\u001B[49m\u001B[43mx\u001B[49m\u001B[43m,\u001B[49m\u001B[43m \u001B[49m\u001B[43my\u001B[49m\u001B[43m)\u001B[49m\n\u001B[0;32m    312\u001B[0m \u001B[38;5;28;01mexcept\u001B[39;00m \u001B[38;5;167;01mTypeError\u001B[39;00m:\n",
      "File \u001B[1;32m~\\AppData\\Local\\Programs\\Python\\Python39\\lib\\site-packages\\pandas\\core\\roperator.py:54\u001B[0m, in \u001B[0;36mrand_\u001B[1;34m(left, right)\u001B[0m\n\u001B[0;32m     53\u001B[0m \u001B[38;5;28;01mdef\u001B[39;00m \u001B[38;5;21mrand_\u001B[39m(left, right):\n\u001B[1;32m---> 54\u001B[0m     \u001B[38;5;28;01mreturn\u001B[39;00m \u001B[43moperator\u001B[49m\u001B[38;5;241;43m.\u001B[39;49m\u001B[43mand_\u001B[49m\u001B[43m(\u001B[49m\u001B[43mright\u001B[49m\u001B[43m,\u001B[49m\u001B[43m \u001B[49m\u001B[43mleft\u001B[49m\u001B[43m)\u001B[49m\n",
      "\u001B[1;31mTypeError\u001B[0m: unsupported operand type(s) for &: 'int' and 'float'",
      "\nDuring handling of the above exception, another exception occurred:\n",
      "\u001B[1;31mTypeError\u001B[0m                                 Traceback (most recent call last)",
      "File \u001B[1;32m~\\AppData\\Local\\Programs\\Python\\Python39\\lib\\site-packages\\pandas\\core\\ops\\array_ops.py:325\u001B[0m, in \u001B[0;36mna_logical_op\u001B[1;34m(x, y, op)\u001B[0m\n\u001B[0;32m    324\u001B[0m \u001B[38;5;28;01mtry\u001B[39;00m:\n\u001B[1;32m--> 325\u001B[0m     result \u001B[38;5;241m=\u001B[39m \u001B[43mlibops\u001B[49m\u001B[38;5;241;43m.\u001B[39;49m\u001B[43mscalar_binop\u001B[49m\u001B[43m(\u001B[49m\u001B[43mx\u001B[49m\u001B[43m,\u001B[49m\u001B[43m \u001B[49m\u001B[43my\u001B[49m\u001B[43m,\u001B[49m\u001B[43m \u001B[49m\u001B[43mop\u001B[49m\u001B[43m)\u001B[49m\n\u001B[0;32m    326\u001B[0m \u001B[38;5;28;01mexcept\u001B[39;00m (\n\u001B[0;32m    327\u001B[0m     \u001B[38;5;167;01mTypeError\u001B[39;00m,\n\u001B[0;32m    328\u001B[0m     \u001B[38;5;167;01mValueError\u001B[39;00m,\n\u001B[1;32m   (...)\u001B[0m\n\u001B[0;32m    331\u001B[0m     \u001B[38;5;167;01mNotImplementedError\u001B[39;00m,\n\u001B[0;32m    332\u001B[0m ) \u001B[38;5;28;01mas\u001B[39;00m err:\n",
      "File \u001B[1;32m~\\AppData\\Local\\Programs\\Python\\Python39\\lib\\site-packages\\pandas\\_libs\\ops.pyx:210\u001B[0m, in \u001B[0;36mpandas._libs.ops.scalar_binop\u001B[1;34m()\u001B[0m\n",
      "File \u001B[1;32m~\\AppData\\Local\\Programs\\Python\\Python39\\lib\\site-packages\\pandas\\core\\roperator.py:54\u001B[0m, in \u001B[0;36mrand_\u001B[1;34m(left, right)\u001B[0m\n\u001B[0;32m     53\u001B[0m \u001B[38;5;28;01mdef\u001B[39;00m \u001B[38;5;21mrand_\u001B[39m(left, right):\n\u001B[1;32m---> 54\u001B[0m     \u001B[38;5;28;01mreturn\u001B[39;00m \u001B[43moperator\u001B[49m\u001B[38;5;241;43m.\u001B[39;49m\u001B[43mand_\u001B[49m\u001B[43m(\u001B[49m\u001B[43mright\u001B[49m\u001B[43m,\u001B[49m\u001B[43m \u001B[49m\u001B[43mleft\u001B[49m\u001B[43m)\u001B[49m\n",
      "\u001B[1;31mTypeError\u001B[0m: unsupported operand type(s) for &: 'bool' and 'float'",
      "\nThe above exception was the direct cause of the following exception:\n",
      "\u001B[1;31mTypeError\u001B[0m                                 Traceback (most recent call last)",
      "Cell \u001B[1;32mIn[41], line 18\u001B[0m\n\u001B[0;32m     16\u001B[0m dfAnemiaDCI[\u001B[38;5;124m'\u001B[39m\u001B[38;5;124mdesn_sev\u001B[39m\u001B[38;5;124m'\u001B[39m] \u001B[38;5;241m=\u001B[39m pd\u001B[38;5;241m.\u001B[39mSeries()\n\u001B[0;32m     17\u001B[0m dfAnemiaDCI\u001B[38;5;241m.\u001B[39mloc[(dfAnemiaDCI[\u001B[38;5;124m'\u001B[39m\u001B[38;5;124mhc70\u001B[39m\u001B[38;5;124m'\u001B[39m] \u001B[38;5;241m<\u001B[39m \u001B[38;5;241m-\u001B[39m\u001B[38;5;241m300\u001B[39m) \u001B[38;5;241m&\u001B[39m (dfAnemiaDCI[\u001B[38;5;124m'\u001B[39m\u001B[38;5;124mhv103\u001B[39m\u001B[38;5;124m'\u001B[39m] \u001B[38;5;241m==\u001B[39m \u001B[38;5;124m'\u001B[39m\u001B[38;5;124mSí\u001B[39m\u001B[38;5;124m'\u001B[39m), \u001B[38;5;124m'\u001B[39m\u001B[38;5;124mdesn_sev\u001B[39m\u001B[38;5;124m'\u001B[39m] \u001B[38;5;241m=\u001B[39m \u001B[38;5;241m1\u001B[39m\n\u001B[1;32m---> 18\u001B[0m dfAnemiaDCI\u001B[38;5;241m.\u001B[39mloc[(dfAnemiaDCI[\u001B[38;5;124m'\u001B[39m\u001B[38;5;124mhc70\u001B[39m\u001B[38;5;124m'\u001B[39m] \u001B[38;5;241m>\u001B[39m\u001B[38;5;241m=\u001B[39m \u001B[38;5;241;43m-\u001B[39;49m\u001B[38;5;241;43m300\u001B[39;49m\u001B[43m \u001B[49m\u001B[38;5;241;43m&\u001B[39;49m\u001B[43m \u001B[49m\u001B[43mdfAnemiaDCI\u001B[49m\u001B[43m[\u001B[49m\u001B[38;5;124;43m'\u001B[39;49m\u001B[38;5;124;43mhc70\u001B[39;49m\u001B[38;5;124;43m'\u001B[39;49m\u001B[43m]\u001B[49m \u001B[38;5;241m<\u001B[39m \u001B[38;5;241m601\u001B[39m) \u001B[38;5;241m&\u001B[39m (dfAnemiaDCI[\u001B[38;5;124m'\u001B[39m\u001B[38;5;124mhv103\u001B[39m\u001B[38;5;124m'\u001B[39m] \u001B[38;5;241m==\u001B[39m \u001B[38;5;124m'\u001B[39m\u001B[38;5;124mSí\u001B[39m\u001B[38;5;124m'\u001B[39m), \u001B[38;5;124m'\u001B[39m\u001B[38;5;124mdesn_sev\u001B[39m\u001B[38;5;124m'\u001B[39m] \u001B[38;5;241m=\u001B[39m \u001B[38;5;241m0\u001B[39m\n\u001B[0;32m     20\u001B[0m \u001B[38;5;66;03m# Labels for desn_sev \"desnutricion cronica severa OMS\"\u001B[39;00m\n\u001B[0;32m     21\u001B[0m labels \u001B[38;5;241m=\u001B[39m {\u001B[38;5;241m0\u001B[39m: \u001B[38;5;124m\"\u001B[39m\u001B[38;5;124mSin desnutricion cronica severa\u001B[39m\u001B[38;5;124m\"\u001B[39m, \u001B[38;5;241m1\u001B[39m: \u001B[38;5;124m\"\u001B[39m\u001B[38;5;124mCon desnutricion cronica severa\u001B[39m\u001B[38;5;124m\"\u001B[39m}\n",
      "File \u001B[1;32m~\\AppData\\Local\\Programs\\Python\\Python39\\lib\\site-packages\\pandas\\core\\ops\\common.py:81\u001B[0m, in \u001B[0;36m_unpack_zerodim_and_defer.<locals>.new_method\u001B[1;34m(self, other)\u001B[0m\n\u001B[0;32m     77\u001B[0m             \u001B[38;5;28;01mreturn\u001B[39;00m \u001B[38;5;28mNotImplemented\u001B[39m\n\u001B[0;32m     79\u001B[0m other \u001B[38;5;241m=\u001B[39m item_from_zerodim(other)\n\u001B[1;32m---> 81\u001B[0m \u001B[38;5;28;01mreturn\u001B[39;00m \u001B[43mmethod\u001B[49m\u001B[43m(\u001B[49m\u001B[38;5;28;43mself\u001B[39;49m\u001B[43m,\u001B[49m\u001B[43m \u001B[49m\u001B[43mother\u001B[49m\u001B[43m)\u001B[49m\n",
      "File \u001B[1;32m~\\AppData\\Local\\Programs\\Python\\Python39\\lib\\site-packages\\pandas\\core\\arraylike.py:74\u001B[0m, in \u001B[0;36mOpsMixin.__rand__\u001B[1;34m(self, other)\u001B[0m\n\u001B[0;32m     72\u001B[0m \u001B[38;5;129m@unpack_zerodim_and_defer\u001B[39m(\u001B[38;5;124m\"\u001B[39m\u001B[38;5;124m__rand__\u001B[39m\u001B[38;5;124m\"\u001B[39m)\n\u001B[0;32m     73\u001B[0m \u001B[38;5;28;01mdef\u001B[39;00m \u001B[38;5;21m__rand__\u001B[39m(\u001B[38;5;28mself\u001B[39m, other):\n\u001B[1;32m---> 74\u001B[0m     \u001B[38;5;28;01mreturn\u001B[39;00m \u001B[38;5;28;43mself\u001B[39;49m\u001B[38;5;241;43m.\u001B[39;49m\u001B[43m_logical_method\u001B[49m\u001B[43m(\u001B[49m\u001B[43mother\u001B[49m\u001B[43m,\u001B[49m\u001B[43m \u001B[49m\u001B[43mroperator\u001B[49m\u001B[38;5;241;43m.\u001B[39;49m\u001B[43mrand_\u001B[49m\u001B[43m)\u001B[49m\n",
      "File \u001B[1;32m~\\AppData\\Local\\Programs\\Python\\Python39\\lib\\site-packages\\pandas\\core\\series.py:6107\u001B[0m, in \u001B[0;36mSeries._logical_method\u001B[1;34m(self, other, op)\u001B[0m\n\u001B[0;32m   6104\u001B[0m lvalues \u001B[38;5;241m=\u001B[39m \u001B[38;5;28mself\u001B[39m\u001B[38;5;241m.\u001B[39m_values\n\u001B[0;32m   6105\u001B[0m rvalues \u001B[38;5;241m=\u001B[39m extract_array(other, extract_numpy\u001B[38;5;241m=\u001B[39m\u001B[38;5;28;01mTrue\u001B[39;00m, extract_range\u001B[38;5;241m=\u001B[39m\u001B[38;5;28;01mTrue\u001B[39;00m)\n\u001B[1;32m-> 6107\u001B[0m res_values \u001B[38;5;241m=\u001B[39m \u001B[43mops\u001B[49m\u001B[38;5;241;43m.\u001B[39;49m\u001B[43mlogical_op\u001B[49m\u001B[43m(\u001B[49m\u001B[43mlvalues\u001B[49m\u001B[43m,\u001B[49m\u001B[43m \u001B[49m\u001B[43mrvalues\u001B[49m\u001B[43m,\u001B[49m\u001B[43m \u001B[49m\u001B[43mop\u001B[49m\u001B[43m)\u001B[49m\n\u001B[0;32m   6108\u001B[0m \u001B[38;5;28;01mreturn\u001B[39;00m \u001B[38;5;28mself\u001B[39m\u001B[38;5;241m.\u001B[39m_construct_result(res_values, name\u001B[38;5;241m=\u001B[39mres_name)\n",
      "File \u001B[1;32m~\\AppData\\Local\\Programs\\Python\\Python39\\lib\\site-packages\\pandas\\core\\ops\\array_ops.py:401\u001B[0m, in \u001B[0;36mlogical_op\u001B[1;34m(left, right, op)\u001B[0m\n\u001B[0;32m    397\u001B[0m \u001B[38;5;66;03m# For int vs int `^`, `|`, `&` are bitwise operators and return\u001B[39;00m\n\u001B[0;32m    398\u001B[0m \u001B[38;5;66;03m#   integer dtypes.  Otherwise these are boolean ops\u001B[39;00m\n\u001B[0;32m    399\u001B[0m filler \u001B[38;5;241m=\u001B[39m fill_int \u001B[38;5;28;01mif\u001B[39;00m is_self_int_dtype \u001B[38;5;129;01mand\u001B[39;00m is_other_int_dtype \u001B[38;5;28;01melse\u001B[39;00m fill_bool\n\u001B[1;32m--> 401\u001B[0m res_values \u001B[38;5;241m=\u001B[39m \u001B[43mna_logical_op\u001B[49m\u001B[43m(\u001B[49m\u001B[43mlvalues\u001B[49m\u001B[43m,\u001B[49m\u001B[43m \u001B[49m\u001B[43mrvalues\u001B[49m\u001B[43m,\u001B[49m\u001B[43m \u001B[49m\u001B[43mop\u001B[49m\u001B[43m)\u001B[49m\n\u001B[0;32m    402\u001B[0m \u001B[38;5;66;03m# error: Cannot call function of unknown type\u001B[39;00m\n\u001B[0;32m    403\u001B[0m res_values \u001B[38;5;241m=\u001B[39m filler(res_values)  \u001B[38;5;66;03m# type: ignore[operator]\u001B[39;00m\n",
      "File \u001B[1;32m~\\AppData\\Local\\Programs\\Python\\Python39\\lib\\site-packages\\pandas\\core\\ops\\array_ops.py:334\u001B[0m, in \u001B[0;36mna_logical_op\u001B[1;34m(x, y, op)\u001B[0m\n\u001B[0;32m    326\u001B[0m         \u001B[38;5;28;01mexcept\u001B[39;00m (\n\u001B[0;32m    327\u001B[0m             \u001B[38;5;167;01mTypeError\u001B[39;00m,\n\u001B[0;32m    328\u001B[0m             \u001B[38;5;167;01mValueError\u001B[39;00m,\n\u001B[1;32m   (...)\u001B[0m\n\u001B[0;32m    331\u001B[0m             \u001B[38;5;167;01mNotImplementedError\u001B[39;00m,\n\u001B[0;32m    332\u001B[0m         ) \u001B[38;5;28;01mas\u001B[39;00m err:\n\u001B[0;32m    333\u001B[0m             typ \u001B[38;5;241m=\u001B[39m \u001B[38;5;28mtype\u001B[39m(y)\u001B[38;5;241m.\u001B[39m\u001B[38;5;18m__name__\u001B[39m\n\u001B[1;32m--> 334\u001B[0m             \u001B[38;5;28;01mraise\u001B[39;00m \u001B[38;5;167;01mTypeError\u001B[39;00m(\n\u001B[0;32m    335\u001B[0m                 \u001B[38;5;124mf\u001B[39m\u001B[38;5;124m\"\u001B[39m\u001B[38;5;124mCannot perform \u001B[39m\u001B[38;5;124m'\u001B[39m\u001B[38;5;132;01m{\u001B[39;00mop\u001B[38;5;241m.\u001B[39m\u001B[38;5;18m__name__\u001B[39m\u001B[38;5;132;01m}\u001B[39;00m\u001B[38;5;124m'\u001B[39m\u001B[38;5;124m with a dtyped [\u001B[39m\u001B[38;5;132;01m{\u001B[39;00mx\u001B[38;5;241m.\u001B[39mdtype\u001B[38;5;132;01m}\u001B[39;00m\u001B[38;5;124m] array \u001B[39m\u001B[38;5;124m\"\u001B[39m\n\u001B[0;32m    336\u001B[0m                 \u001B[38;5;124mf\u001B[39m\u001B[38;5;124m\"\u001B[39m\u001B[38;5;124mand scalar of type [\u001B[39m\u001B[38;5;132;01m{\u001B[39;00mtyp\u001B[38;5;132;01m}\u001B[39;00m\u001B[38;5;124m]\u001B[39m\u001B[38;5;124m\"\u001B[39m\n\u001B[0;32m    337\u001B[0m             ) \u001B[38;5;28;01mfrom\u001B[39;00m \u001B[38;5;21;01merr\u001B[39;00m\n\u001B[0;32m    339\u001B[0m \u001B[38;5;28;01mreturn\u001B[39;00m result\u001B[38;5;241m.\u001B[39mreshape(x\u001B[38;5;241m.\u001B[39mshape)\n",
      "\u001B[1;31mTypeError\u001B[0m: Cannot perform 'rand_' with a dtyped [object] array and scalar of type [bool]"
     ]
    }
   ],
   "source": [
    "# Prevalencia de desnutrición crónica en niños y niñas menores de 60 meses\n",
    "dfAnemiaDCI['desnwho'] = pd.Series(dtype=float)\n",
    "dfAnemiaDCI.loc[(dfAnemiaDCI['hc70'] == 'Altura fuera de los límites plausibles.'), 'hc70'] = 9996\n",
    "dfAnemiaDCI.loc[(dfAnemiaDCI['hc70'] == 'Edad en días fuera de límites plausibles'), 'hc70'] = 9997\n",
    "dfAnemiaDCI.loc[(dfAnemiaDCI['hc70'] == 'Casos marcados'), 'hc70'] = 9998\n",
    "dfAnemiaDCI['hc70'] = dfAnemiaDCI['hc70'].values\n",
    "dfAnemiaDCI.loc[(dfAnemiaDCI['hc70'] < -200) & (dfAnemiaDCI['hv103'] =='Sí'), 'desnwho'] = 1\n",
    "dfAnemiaDCI.loc[(dfAnemiaDCI['hc70'] >= -200) & (dfAnemiaDCI['hc70'] < 601) & (dfAnemiaDCI['hv103'] =='Sí'), 'desnwho'] = 0\n",
    "dfAnemiaDCI.loc[(dfAnemiaDCI['hc70'] == 9996) | (dfAnemiaDCI['hc70'] == 9997) | (dfAnemiaDCI['hc70'] == 9998), 'desnwho'] = np.nan\n",
    "\n",
    "# Labels for desnwho \"desnutricion cronica total OMS\"\n",
    "labels = {0: \"Sin desnutricion cronica\", 1: \"Con desnutricion cronica\"}\n",
    "dfAnemiaDCI[\"desnwho\"] = dfAnemiaDCI[\"desnwho\"].map(labels)\n",
    "\n",
    "# Prevalencia de desnutrición crónica severa en niños y niñas menores de 60 meses\n",
    "dfAnemiaDCI['desn_sev'] = pd.Series()\n",
    "dfAnemiaDCI.loc[(dfAnemiaDCI['hc70'] < -300) & (dfAnemiaDCI['hv103'] == 'Sí'), 'desn_sev'] = 1\n",
    "dfAnemiaDCI.loc[(dfAnemiaDCI['hc70'] >= -300 & dfAnemiaDCI['hc70'] < 601) & (dfAnemiaDCI['hv103'] == 'Sí'), 'desn_sev'] = 0\n",
    "\n",
    "# Labels for desn_sev \"desnutricion cronica severa OMS\"\n",
    "labels = {0: \"Sin desnutricion cronica severa\", 1: \"Con desnutricion cronica severa\"}\n",
    "dfAnemiaDCI[\"desn_sev\"] = dfAnemiaDCI[\"desn_sev\"].map(labels)\n",
    "\n",
    "\n"
   ],
   "metadata": {
    "collapsed": false,
    "ExecuteTime": {
     "end_time": "2023-12-01T20:05:00.400550800Z",
     "start_time": "2023-12-01T20:05:00.250558100Z"
    }
   },
   "id": "be71ac567513a46e"
  },
  {
   "cell_type": "code",
   "execution_count": 37,
   "outputs": [
    {
     "data": {
      "text/plain": "desnwho\n0.0    67302\n1.0     9861\nName: count, dtype: int64"
     },
     "execution_count": 37,
     "metadata": {},
     "output_type": "execute_result"
    }
   ],
   "source": [
    "dfAnemiaDCI['desnwho'].value_counts()"
   ],
   "metadata": {
    "collapsed": false,
    "ExecuteTime": {
     "end_time": "2023-12-01T19:31:48.935293300Z",
     "start_time": "2023-12-01T19:31:48.903505500Z"
    }
   },
   "id": "365569b4cfb0eaf6"
  },
  {
   "cell_type": "code",
   "execution_count": null,
   "outputs": [],
   "source": [
    "# Prevalencia de anemia en niños y niñas de 6 a 23 meses\n",
    "dfAnemiaDCI['alt'] = dfAnemiaDCI['hv040']/1000 * 3.3\n",
    "#Se ajusta el nivel de hemoglobina segun la altitud (alt)\n",
    "dfAnemiaDCI['haj'] = dfAnemiaDCI['hc53']/10 -(-0.032*dfAnemiaDCI['alt'] + 0.022*dfAnemiaDCI['alt']*dfAnemiaDCI['alt'])\n",
    "dfAnemiaDCI['anemia'] = pd.Series()\n",
    "dfAnemiaDCI.loc[(dfAnemiaDCI['haj']>1   & dfAnemiaDCI['haj']<11) &  dfAnemiaDCI['hv103']==1 & (dfAnemiaDCI['hc1']>5 & dfAnemiaDCI['hc1']<36), 'anemia'] = 1\n",
    "dfAnemiaDCI.loc[(dfAnemiaDCI['haj']>=11   & dfAnemiaDCI['haj']<94) &  dfAnemiaDCI['hv103']==1 & (dfAnemiaDCI['hc1']>5 & dfAnemiaDCI['hc1']<36), 'anemia'] = 1\n",
    "\n",
    "# Labels for anemia \n",
    "labels = {0: \"No tiene anemia\", 1: \"Tiene anemia\"}\n",
    "dfDIT[\"anemia\"] = dfDIT[\"anemia\"].map(labels)\n",
    "\n",
    "\n",
    "# Niveles de anemia\n",
    "dfAnemiaDCI['nivAnemia'] = pd.Series()\n",
    "dfAnemiaDCI.loc[(dfAnemiaDCI['hv103']==1) & (dfAnemiaDCI['hc1']>5 & dfAnemiaDCI['hc1']<36),'nivAnemia'] = dfAnemiaDCI['hc57']\n"
   ],
   "metadata": {
    "collapsed": false
   },
   "id": "9dec10ac1b765bf9"
  },
  {
   "cell_type": "code",
   "execution_count": null,
   "outputs": [],
   "source": [
    "\n",
    "# Prevalencia de sobrepeso y obesidad en menores 36 a 59 meses de edad\n",
    "# - Denominador o universo. Constituido por todos los niños y niñas entre 36 y 60 meses de edad que al momento de la aplicación de la encuesta cumplen con la definición de residente habitual del hogar. Se incluye a los niños y niñas: i) presentes en el hogar independiente de la presencia o ausencia de la madre; ii) con valores validos de la talla y peso al momento de aplicar la encuesta; iii) con valores del índice antropométrico en el rango de aceptable (-6<z<6).\n",
    "# - Numerador. Constituido por todos los niños y niñas entre 36 y 60 meses que, además de cumplir con los criterios definidos en el denominador, presentan sobrepeso."
   ],
   "metadata": {
    "collapsed": false
   },
   "id": "4b62accad71865fb"
  },
  {
   "cell_type": "markdown",
   "source": [
    "### 2.5. R4: Comunicación verbal efectiva"
   ],
   "metadata": {
    "collapsed": false
   },
   "id": "c53f4a3b8c4625af"
  },
  {
   "cell_type": "code",
   "execution_count": 150,
   "outputs": [],
   "source": [
    "#Porcentaje de niñas y niños de 9 a 36 meses con comunicación verbal a nivel comprensivo y expresivo apropiada para su edad\n",
    "for grupo in ['9a12','13a18', '19a23', '24a36']:\n",
    "    dfDIT[f'comEfec{grupo}'] = 0\n",
    "    dfDIT[f'comEfec{grupo}a'] = 0\n",
    "    dfDIT[f'comEfec{grupo}b'] = 0\n",
    "    dfDIT[f'comEfec{grupo}c'] = 0\n",
    "\n",
    "\n",
    "dfDIT['qi478'] = dfDIT['qi478'].values\n",
    "cond9a12 = (dfDIT['qi478'] >= 9) & (dfDIT['qi478'] <= 12) \n",
    "cond9a12a = (dfDIT['qi478e3'] == \"Si\")\n",
    "cond9a12b = (dfDIT['qi478e4'] == \"Si\")\n",
    "cond9a12c = (dfDIT['qi478e5'] == \"Si\")\n",
    "cond13a18 = (dfDIT['qi478'] >= 13) & (dfDIT['qi478'] <= 18)\n",
    "cond13a18a = (dfDIT['qi478f3'] == \"Si\")\n",
    "cond13a18b = (dfDIT['qi478f4'] == \"Si\")\n",
    "cond13a18c = (dfDIT['qi478f5'] == \"Si\")\n",
    "cond19a23 = (dfDIT['qi478'] >= 19) & (dfDIT['qi478'] <= 23)\n",
    "cond19a23a = (dfDIT['qi478g1'] == \"Si\")\n",
    "cond19a23b = ((dfDIT['qi478g2_a'] == \"Si\") & (dfDIT['qi478g2_b'] == \"Si\") & (dfDIT['qi478g2_c'] == \"Si\"))\n",
    "cond19a23c = (dfDIT['qi478g3'] == \"Si\")\n",
    "cond24a36 = (dfDIT['qi478'] >= 24) & (dfDIT['qi478'] <= 36)\n",
    "cond24a36a = (dfDIT['qi478h1'] == \"Si\")\n",
    "cond24a36b = (dfDIT['qi478h2'] == \"Si\") \n",
    "cond24a36c = (dfDIT['qi478h3'] == \"Si\")\n",
    "\n",
    "for grupo in ['9a12','13a18', '19a23', '24a36']:\n",
    "    # Comunicacion efectiva - dummy por edad\n",
    "    dfDIT.loc[ locals()[f'cond{grupo}'] & locals()[f'cond{grupo}a'] & locals()[f'cond{grupo}b'] & locals()[f'cond{grupo}c'] ,f'comEfec{grupo}'] = 1\n",
    "    dfDIT.loc[-locals()[f'cond{grupo}'],f'comEfec{grupo}'] = np.nan\n",
    "\n",
    "    # Comunicacion efectiva - categórica por edad\n",
    "    dfDIT.loc[ locals()[f'cond{grupo}'] & locals()[f'cond{grupo}a'] ,f'comEfec{grupo}a'] = 1\n",
    "    dfDIT.loc[-locals()[f'cond{grupo}'],f'comEfec{grupo}a'] = np.nan\n",
    "    dfDIT.loc[ locals()[f'cond{grupo}'] & locals()[f'cond{grupo}b'] ,f'comEfec{grupo}b'] = 1\n",
    "    dfDIT.loc[-locals()[f'cond{grupo}'],f'comEfec{grupo}b'] = np.nan\n",
    "    dfDIT.loc[ locals()[f'cond{grupo}'] & locals()[f'cond{grupo}c'] ,f'comEfec{grupo}c'] = 1\n",
    "    dfDIT.loc[-locals()[f'cond{grupo}'],f'comEfec{grupo}c'] = np.nan\n",
    "    dfDIT[f'comEfec{grupo}_cat'] = dfDIT[f'comEfec{grupo}a'] + dfDIT[f'comEfec{grupo}b'] + dfDIT[f'comEfec{grupo}c']\n",
    "    dfDIT.loc[-locals()[f'cond{grupo}'], f'comEfec{grupo}_cat'] = np.nan\n",
    "    \n",
    "    del dfDIT[f'comEfec{grupo}a'] , dfDIT[f'comEfec{grupo}b'] , dfDIT[f'comEfec{grupo}c']\n",
    "\n",
    "\n",
    "for var_name in list(locals()):\n",
    "    if var_name.startswith('cond'):\n",
    "        del locals()[var_name]"
   ],
   "metadata": {
    "collapsed": false,
    "ExecuteTime": {
     "end_time": "2023-11-24T22:52:03.914332700Z",
     "start_time": "2023-11-24T22:52:03.847404700Z"
    }
   },
   "id": "ebfcc17cf68535d1"
  },
  {
   "cell_type": "code",
   "execution_count": null,
   "outputs": [],
   "source": [
    "# Porcentaje de madres de niñas y niños entre 9 y 18 meses de edad que verbaliza las acciones que realiza con su hija/o mientras las desarrolla\n",
    "# - Numerador: Número de madres de niñas y niños de 9 a 18 meses que participaron de la encuesta y declararon que sí verbalizan las acciones que realiza con su hija/o mientras las desarrolla.\n",
    "# - Denominador: Número de madres de niñas y niños de 9 a 18 meses que participaron de la encuesta y respondieron la pregunta sobre si verbalizan las acciones que realiza con su hija/o mientras las desarrolla."
   ],
   "metadata": {
    "collapsed": false
   },
   "id": "2bc15fe4445cadd1"
  },
  {
   "cell_type": "code",
   "execution_count": null,
   "outputs": [],
   "source": [
    "# Porcentaje de niñas y niños entre 19 y 36 meses de edad que participa de forma frecuente en conversaciones con adultos\n",
    "# - Numerador: Número de niñas y niños de 19 a 36 meses cuyas madres participaron de la encuesta y declararon que su hija/o sí participa de forma frecuente en las conversaciones con adultos.\n",
    "# - Denominador: Número de niñas y niños de 19 a 36 meses cuyas madres participaron de la encuesta y respondieron la pregunta sobre si su hija/o participa de forma frecuente en las conversaciones con adultos."
   ],
   "metadata": {
    "collapsed": false
   },
   "id": "ec1d6c561a742f0e"
  },
  {
   "cell_type": "markdown",
   "source": [
    "### 2.6. R5: Camina solo"
   ],
   "metadata": {
    "collapsed": false
   },
   "id": "fb6ceae0181ee974"
  },
  {
   "cell_type": "code",
   "execution_count": null,
   "outputs": [],
   "source": [
    "# Porcentaje de niñas y niñas entre 15 a 18 meses que caminan por propia iniciativa sin necesidad de detenerse para lograr el equilibrio\n",
    "# A: Número de niñas y niños de 15 a 18 meses cuya madre reporta que la/el niña/o camina solo con soltura.\n",
    "# B: Número de niñas y niños de 15 a 18 meses con información completa en el tramo 2.\n",
    "\n",
    "# Porcentaje de niñas y niños de 9 a 12 meses de edad que tiene, en el hogar, un espacio físico para desplazarse/caminar libremente\n",
    "# - Numerador: Número de niñas y niños niños de 9 a 12 meses cuyas madres participaron de la encuesta y declararon que su hija/o sí tiene un espacio con piso firme y sin objetos en el que pueda desplazarse/caminar libremente.\n",
    "# - Denominador: Número de niñas y niños niños de 9 a 12 meses cuyas madres participaron de la encuesta y respondieron la pregunta sobre si su hija/o tiene un espacio sin objetos en el que pueda desplazarse/caminar libremente.\n",
    "\n",
    "# Porcentaje de niñas y niños de 13 a 18 meses de edad que tiene, en el hogar, un espacio de juego libre de peligros para su integridad física\n",
    "# - Numerador: Número de niñas y niños niños de 13 a 18 meses cuyas madres participaron de la encuesta y declararon que su hija/o sí tiene un espacio de juego libre de peligros.\n",
    "# - Denominador: Número de niñas y niños niños de 13 a 18 meses cuyas madres participaron de la encuesta y respondieron la pregunta sobre si su hija/o tiene de juego libre de peligros."
   ],
   "metadata": {
    "collapsed": false
   },
   "id": "de0ee9412c5992c1"
  },
  {
   "cell_type": "markdown",
   "source": [
    "### 2.7. R6: Regulación y control de emociones"
   ],
   "metadata": {
    "collapsed": false
   },
   "id": "22b111197e6d7a4e"
  },
  {
   "cell_type": "code",
   "execution_count": null,
   "outputs": [],
   "source": [
    "# Porcentaje de niñas y niños de 24 a 71 meses que regula sus emociones y comportamientos en situación de frustración y establecimiento de límites\n",
    "# A: Número de niñas y niños de 24 a 71 meses cuya madre reporta que no lloran, gritan o hacen berrinche la mayor parte del tiempo\n",
    "# B: Número de niñas y niños de 24 a 71 meses cuya madre reporta que esperan tranquilos cuando quieren algo y ellas les dicen que esperen\n",
    "# C: Número de niñas y niños de 24 a 71 meses cuya madre reporta que no se hacen daño o agreden a sí mismos o a los demás cuándo quieren algo y ellas les dicen que NO\n",
    "\n"
   ],
   "metadata": {
    "collapsed": false
   },
   "id": "80bf5ce6eb4aa205"
  },
  {
   "cell_type": "markdown",
   "source": [
    "### 2.8. R7: Función simbólica"
   ],
   "metadata": {
    "collapsed": false
   },
   "id": "20b80aa2b67fc694"
  },
  {
   "cell_type": "code",
   "execution_count": null,
   "outputs": [],
   "source": [
    "# Porcentaje de niñas y niños de 55 a 71 meses de edad que representan sus vivencias a través del juego y el dibujo\n",
    "# A: Número de niñas y niños de 55 a 71 meses cuyas madres reportan que pueden dibujar una figura humana con detalles\n",
    "# B: Número de niñas y niños de 55 a 71 meses cuya madre reporta que representan sus vivencias a través del juego\n",
    "\n",
    "\n",
    "# Porcentaje de niñas y niños entre 24 y 71 meses de edad que tienen en casa materiales de juego estructurados y no estructurados\n",
    "# - Numerador: Número de niñas y niños niños de 24 a 71 meses cuyas madres participaron de la encuesta y declararon que su hija/o sí tienen en casa materiales de juego estructuraos y no estructurados.\n",
    "# - Denominador: Número de niñas y niños niños de 24 a 71 meses cuyas madres participaron de la encuesta y respondieron la pregunta sobre si su hija/o tienen en casa materiales de juego estructuraos y no estructurados."
   ],
   "metadata": {
    "collapsed": false
   },
   "id": "79e8ec3eda62154c"
  },
  {
   "cell_type": "markdown",
   "source": [
    "## 3. Tabulaciones"
   ],
   "metadata": {
    "collapsed": false
   },
   "id": "e803708e614587ea"
  },
  {
   "cell_type": "code",
   "execution_count": 153,
   "outputs": [
    {
     "data": {
      "text/plain": "                 apego9a12  apego9a12_cat  comEfec9a12  comEfec9a12_cat\napego9a12         1.000000       0.811155    -0.026716        -0.007959\napego9a12_cat     0.811155       1.000000     0.002029         0.047939\ncomEfec9a12      -0.026716       0.002029     1.000000         0.881844\ncomEfec9a12_cat  -0.007959       0.047939     0.881844         1.000000",
      "text/html": "<div>\n<style scoped>\n    .dataframe tbody tr th:only-of-type {\n        vertical-align: middle;\n    }\n\n    .dataframe tbody tr th {\n        vertical-align: top;\n    }\n\n    .dataframe thead th {\n        text-align: right;\n    }\n</style>\n<table border=\"1\" class=\"dataframe\">\n  <thead>\n    <tr style=\"text-align: right;\">\n      <th></th>\n      <th>apego9a12</th>\n      <th>apego9a12_cat</th>\n      <th>comEfec9a12</th>\n      <th>comEfec9a12_cat</th>\n    </tr>\n  </thead>\n  <tbody>\n    <tr>\n      <th>apego9a12</th>\n      <td>1.000000</td>\n      <td>0.811155</td>\n      <td>-0.026716</td>\n      <td>-0.007959</td>\n    </tr>\n    <tr>\n      <th>apego9a12_cat</th>\n      <td>0.811155</td>\n      <td>1.000000</td>\n      <td>0.002029</td>\n      <td>0.047939</td>\n    </tr>\n    <tr>\n      <th>comEfec9a12</th>\n      <td>-0.026716</td>\n      <td>0.002029</td>\n      <td>1.000000</td>\n      <td>0.881844</td>\n    </tr>\n    <tr>\n      <th>comEfec9a12_cat</th>\n      <td>-0.007959</td>\n      <td>0.047939</td>\n      <td>0.881844</td>\n      <td>1.000000</td>\n    </tr>\n  </tbody>\n</table>\n</div>"
     },
     "execution_count": 153,
     "metadata": {},
     "output_type": "execute_result"
    }
   ],
   "source": [
    "correlation_matrix = dfDIT[['apego9a12', 'apego9a12_cat', 'comEfec9a12', 'comEfec9a12_cat']].corr()\n",
    "correlation_matrix"
   ],
   "metadata": {
    "collapsed": false,
    "ExecuteTime": {
     "end_time": "2023-11-24T22:58:22.931126300Z",
     "start_time": "2023-11-24T22:58:22.914194500Z"
    }
   },
   "id": "6f19491310792b59"
  },
  {
   "cell_type": "code",
   "execution_count": 149,
   "outputs": [
    {
     "data": {
      "text/plain": "comEfec9a12_cat\n3.0    4014\n2.0     895\n1.0     232\n0.0     108\nName: count, dtype: int64"
     },
     "execution_count": 149,
     "metadata": {},
     "output_type": "execute_result"
    }
   ],
   "source": [
    "dfDIT['comEfec9a12_cat'].value_counts()"
   ],
   "metadata": {
    "collapsed": false,
    "ExecuteTime": {
     "end_time": "2023-11-24T22:49:32.354688700Z",
     "start_time": "2023-11-24T22:49:32.344982100Z"
    }
   },
   "id": "64beba04ff83092c"
  },
  {
   "cell_type": "code",
   "execution_count": 126,
   "outputs": [
    {
     "data": {
      "text/plain": "qi478e7\nNo                     3947\nSi                     1255\nNo responde/No sabe       2\nName: count, dtype: int64"
     },
     "execution_count": 126,
     "metadata": {},
     "output_type": "execute_result"
    }
   ],
   "source": [
    "dfDIT['qi478e7'].value_counts()"
   ],
   "metadata": {
    "collapsed": false,
    "ExecuteTime": {
     "end_time": "2023-11-24T21:45:50.380408400Z",
     "start_time": "2023-11-24T21:45:50.350403700Z"
    }
   },
   "id": "b35eabc760aa5927"
  },
  {
   "cell_type": "code",
   "execution_count": 128,
   "outputs": [
    {
     "data": {
      "text/plain": "precursorApego9a12\n0.0    2918\n1.0    2331\nName: count, dtype: int64"
     },
     "execution_count": 128,
     "metadata": {},
     "output_type": "execute_result"
    }
   ],
   "source": [
    "dfDIT['precursorApego9a12'].value_counts()"
   ],
   "metadata": {
    "collapsed": false,
    "ExecuteTime": {
     "end_time": "2023-11-24T21:49:25.611398500Z",
     "start_time": "2023-11-24T21:49:25.583228600Z"
    }
   },
   "id": "6d7fb66ee7533de"
  },
  {
   "cell_type": "code",
   "execution_count": null,
   "outputs": [],
   "source": [
    "# Factor de expansion\n",
    "merged_final[\"wt\"] = merged_final[\"v005\"] / 1000000\n",
    "\n",
    "# Tabulations\n",
    "tab1 = pd.crosstab(merged_final[\"pesonac\"], merged_final[\"e_0a59\"], values=merged_final[\"wt\"], aggfunc=\"sum\")\n",
    "tab2 = pd.crosstab([merged_final[\"v463a\"], merged_final[\"pesonac\"]], merged_final[\"e_0a59\"], values=merged_final[\"wt\"], aggfunc=\"sum\")\n",
    "tab3 = pd.crosstab([merged_final[\"v190\"], merged_final[\"pesonac\"]], merged_final[\"e_0a59\"], values=merged_final[\"wt\"], aggfunc=\"sum\")\n",
    "tab4 = pd.crosstab([merged_final[\"etnia\"], merged_final[\"pesonac\"]], merged_final[\"e_0a59\"], values=merged_final[\"wt\"], aggfunc=\"sum\")\n",
    "tab5 = pd.crosstab([merged_final[\"lmaterna\"], merged_final[\"pesonac\"]], merged_final[\"e_0a59\"], values=merged_final[\"wt\"], aggfunc=\"sum\")\n",
    "tab6 = pd.crosstab([merged_final[\"v025\"], merged_final[\"pesonac\"]], merged_final[\"e_0a59\"], values=merged_final[\"wt\"], aggfunc=\"sum\")\n",
    "tab7 = pd.crosstab([merged_final[\"sregion\"], merged_final[\"pesonac\"]], merged_final[\"e_0a59\"], values=merged_final[\"wt\"], aggfunc=\"sum\")\n",
    "\n",
    "# Tamaño de la niña o niño al nacer\n",
    "merged_final[\"ch_size_birth\"] = pd.cut(merged_final[\"m18\"], bins=[-1, 2, 4, 5, 8, 9], labels=[\"Promedio o mayor\", \"Menor que promedio\", \"Muy pequeño\", \"No sabe/sin información\"], right=False)\n",
    "tab8 = pd.crosstab(merged_final[\"ch_size_birth\"], merged_final[\"e_0a59\"], values=merged_final[\"wt\"], aggfunc=\"sum\")\n",
    "tab9 = pd.crosstab([merged_final[\"v463a\"], merged_final[\"ch_size_birth\"]], merged_final[\"e_0a59\"], values=merged_final[\"wt\"], aggfunc=\"sum\")\n",
    "tab10 = pd.crosstab([merged_final[\"v190\"], merged_final[\"ch_size_birth\"]], merged_final[\"e_0a59\"], values=merged_final[\"wt\"], aggfunc=\"sum\")\n",
    "tab11 = pd.crosstab([merged_final[\"etnia\"], merged_final[\"ch_size_birth\"]], merged_final[\"e_0a59\"], values=merged_final[\"wt\"], aggfunc=\"sum\")\n",
    "tab12 = pd.crosstab([merged_final[\"lmaterna\"], merged_final[\"ch_size_birth\"]], merged_final[\"e_0a59\"], values=merged_final[\"wt\"], aggfunc=\"sum\")\n",
    "tab13 = pd.crosstab([merged_final[\"v025\"], merged_final[\"ch_size_birth\"]], merged_final[\"e_0a59\"], values=merged_final[\"wt\"], aggfunc=\"sum\")\n",
    "tab14 = pd.crosstab([merged_final[\"sregion\"], merged_final[\"ch_size_birth\"]], merged_final[\"e_0a59\"], values=merged_final[\"wt\"], aggfunc=\"sum\")\n"
   ],
   "metadata": {
    "collapsed": false
   },
   "id": "bafb90ea076a7153"
  }
 ],
 "metadata": {
  "kernelspec": {
   "display_name": "Python 3",
   "language": "python",
   "name": "python3"
  },
  "language_info": {
   "codemirror_mode": {
    "name": "ipython",
    "version": 2
   },
   "file_extension": ".py",
   "mimetype": "text/x-python",
   "name": "python",
   "nbconvert_exporter": "python",
   "pygments_lexer": "ipython2",
   "version": "2.7.6"
  }
 },
 "nbformat": 4,
 "nbformat_minor": 5
}

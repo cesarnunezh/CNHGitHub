{
 "cells": [
  {
   "cell_type": "code",
   "execution_count": 1,
   "id": "3b3babbadbbb4db5",
   "metadata": {
    "collapsed": true,
    "ExecuteTime": {
     "end_time": "2023-09-20T19:32:55.394467Z",
     "start_time": "2023-09-20T19:32:52.552342800Z"
    }
   },
   "outputs": [],
   "source": [
    "#Imports\n",
    "import pandas as pd\n",
    "import os\n",
    "import time\n",
    "import dask.dataframe as dd"
   ]
  },
  {
   "cell_type": "code",
   "execution_count": 2,
   "outputs": [],
   "source": [
    "path = r'C:\\Users\\User\\OneDrive - Universidad del Pacífico\\1. Documentos\\0. Bases de datos\\01. Datos Abiertos - MEF\\1. Data'"
   ],
   "metadata": {
    "collapsed": false,
    "ExecuteTime": {
     "end_time": "2023-09-20T19:32:58.210840Z",
     "start_time": "2023-09-20T19:32:58.188779600Z"
    }
   },
   "id": "9d5d7ad29e35ddd3"
  },
  {
   "cell_type": "code",
   "execution_count": 4,
   "outputs": [
    {
     "data": {
      "text/plain": "   ANO_EJE  MES_EJE TIPO_GOBIERNO TIPO_GOBIERNO_NOMBRE  SECTOR  \\\n0     2021        0             M    GOBIERNOS LOCALES       0   \n1     2021        0             M    GOBIERNOS LOCALES       0   \n2     2021        0             M    GOBIERNOS LOCALES       0   \n3     2021        0             M    GOBIERNOS LOCALES       0   \n4     2021        0             M    GOBIERNOS LOCALES       0   \n\n    SECTOR_NOMBRE  PLIEGO                            PLIEGO_NOMBRE  SEC_EJEC  \\\n0  GOBIERNO LOCAL       0  MUNICIPALIDAD PROVINCIAL DE CHACHAPOYAS    300001   \n1  GOBIERNO LOCAL       0  MUNICIPALIDAD PROVINCIAL DE CHACHAPOYAS    300001   \n2  GOBIERNO LOCAL       0  MUNICIPALIDAD PROVINCIAL DE CHACHAPOYAS    300001   \n3  GOBIERNO LOCAL       0  MUNICIPALIDAD PROVINCIAL DE CHACHAPOYAS    300001   \n4  GOBIERNO LOCAL       0  MUNICIPALIDAD PROVINCIAL DE CHACHAPOYAS    300001   \n\n   EJECUTORA  ...                     ESPECIFICA_NOMBRE  ESPECIFICA_DET  \\\n0          1  ...                       OTROS SERVICIOS              99   \n1          1  ...  CONTRATO ADMINISTRATIVO DE SERVICIOS               1   \n2          1  ...  CONTRATO ADMINISTRATIVO DE SERVICIOS               2   \n3          1  ...  CONTRATO ADMINISTRATIVO DE SERVICIOS               4   \n4          1  ...  CONTRATO ADMINISTRATIVO DE SERVICIOS               5   \n\n                  ESPECIFICA_DET_NOMBRE  MONTO_PIA MONTO_PIM  \\\n0                    SERVICIOS DIVERSOS     203833         0   \n1  CONTRATO ADMINISTRATIVO DE SERVICIOS          0     36000   \n2    CONTRIBUCIONES A ESSALUD DE C.A.S.          0      1525   \n3                  AGUINALDOS DE C.A.S.          0       600   \n4          VACACIONES TRUNCAS DE C.A.S.          0      5934   \n\n   MONTO_CERTIFICADO MONTO_COMPROMETIDO_ANUAL  MONTO_COMPROMETIDO  \\\n0                  0                        0                   0   \n1                  0                        0                   0   \n2                  0                        0                   0   \n3                  0                        0                   0   \n4                  0                        0                   0   \n\n   MONTO_DEVENGADO MONTO_GIRADO  \n0                0            0  \n1                0            0  \n2                0            0  \n3                0            0  \n4                0            0  \n\n[5 rows x 62 columns]",
      "text/html": "<div>\n<style scoped>\n    .dataframe tbody tr th:only-of-type {\n        vertical-align: middle;\n    }\n\n    .dataframe tbody tr th {\n        vertical-align: top;\n    }\n\n    .dataframe thead th {\n        text-align: right;\n    }\n</style>\n<table border=\"1\" class=\"dataframe\">\n  <thead>\n    <tr style=\"text-align: right;\">\n      <th></th>\n      <th>ANO_EJE</th>\n      <th>MES_EJE</th>\n      <th>TIPO_GOBIERNO</th>\n      <th>TIPO_GOBIERNO_NOMBRE</th>\n      <th>SECTOR</th>\n      <th>SECTOR_NOMBRE</th>\n      <th>PLIEGO</th>\n      <th>PLIEGO_NOMBRE</th>\n      <th>SEC_EJEC</th>\n      <th>EJECUTORA</th>\n      <th>...</th>\n      <th>ESPECIFICA_NOMBRE</th>\n      <th>ESPECIFICA_DET</th>\n      <th>ESPECIFICA_DET_NOMBRE</th>\n      <th>MONTO_PIA</th>\n      <th>MONTO_PIM</th>\n      <th>MONTO_CERTIFICADO</th>\n      <th>MONTO_COMPROMETIDO_ANUAL</th>\n      <th>MONTO_COMPROMETIDO</th>\n      <th>MONTO_DEVENGADO</th>\n      <th>MONTO_GIRADO</th>\n    </tr>\n  </thead>\n  <tbody>\n    <tr>\n      <th>0</th>\n      <td>2021</td>\n      <td>0</td>\n      <td>M</td>\n      <td>GOBIERNOS LOCALES</td>\n      <td>0</td>\n      <td>GOBIERNO LOCAL</td>\n      <td>0</td>\n      <td>MUNICIPALIDAD PROVINCIAL DE CHACHAPOYAS</td>\n      <td>300001</td>\n      <td>1</td>\n      <td>...</td>\n      <td>OTROS SERVICIOS</td>\n      <td>99</td>\n      <td>SERVICIOS DIVERSOS</td>\n      <td>203833</td>\n      <td>0</td>\n      <td>0</td>\n      <td>0</td>\n      <td>0</td>\n      <td>0</td>\n      <td>0</td>\n    </tr>\n    <tr>\n      <th>1</th>\n      <td>2021</td>\n      <td>0</td>\n      <td>M</td>\n      <td>GOBIERNOS LOCALES</td>\n      <td>0</td>\n      <td>GOBIERNO LOCAL</td>\n      <td>0</td>\n      <td>MUNICIPALIDAD PROVINCIAL DE CHACHAPOYAS</td>\n      <td>300001</td>\n      <td>1</td>\n      <td>...</td>\n      <td>CONTRATO ADMINISTRATIVO DE SERVICIOS</td>\n      <td>1</td>\n      <td>CONTRATO ADMINISTRATIVO DE SERVICIOS</td>\n      <td>0</td>\n      <td>36000</td>\n      <td>0</td>\n      <td>0</td>\n      <td>0</td>\n      <td>0</td>\n      <td>0</td>\n    </tr>\n    <tr>\n      <th>2</th>\n      <td>2021</td>\n      <td>0</td>\n      <td>M</td>\n      <td>GOBIERNOS LOCALES</td>\n      <td>0</td>\n      <td>GOBIERNO LOCAL</td>\n      <td>0</td>\n      <td>MUNICIPALIDAD PROVINCIAL DE CHACHAPOYAS</td>\n      <td>300001</td>\n      <td>1</td>\n      <td>...</td>\n      <td>CONTRATO ADMINISTRATIVO DE SERVICIOS</td>\n      <td>2</td>\n      <td>CONTRIBUCIONES A ESSALUD DE C.A.S.</td>\n      <td>0</td>\n      <td>1525</td>\n      <td>0</td>\n      <td>0</td>\n      <td>0</td>\n      <td>0</td>\n      <td>0</td>\n    </tr>\n    <tr>\n      <th>3</th>\n      <td>2021</td>\n      <td>0</td>\n      <td>M</td>\n      <td>GOBIERNOS LOCALES</td>\n      <td>0</td>\n      <td>GOBIERNO LOCAL</td>\n      <td>0</td>\n      <td>MUNICIPALIDAD PROVINCIAL DE CHACHAPOYAS</td>\n      <td>300001</td>\n      <td>1</td>\n      <td>...</td>\n      <td>CONTRATO ADMINISTRATIVO DE SERVICIOS</td>\n      <td>4</td>\n      <td>AGUINALDOS DE C.A.S.</td>\n      <td>0</td>\n      <td>600</td>\n      <td>0</td>\n      <td>0</td>\n      <td>0</td>\n      <td>0</td>\n      <td>0</td>\n    </tr>\n    <tr>\n      <th>4</th>\n      <td>2021</td>\n      <td>0</td>\n      <td>M</td>\n      <td>GOBIERNOS LOCALES</td>\n      <td>0</td>\n      <td>GOBIERNO LOCAL</td>\n      <td>0</td>\n      <td>MUNICIPALIDAD PROVINCIAL DE CHACHAPOYAS</td>\n      <td>300001</td>\n      <td>1</td>\n      <td>...</td>\n      <td>CONTRATO ADMINISTRATIVO DE SERVICIOS</td>\n      <td>5</td>\n      <td>VACACIONES TRUNCAS DE C.A.S.</td>\n      <td>0</td>\n      <td>5934</td>\n      <td>0</td>\n      <td>0</td>\n      <td>0</td>\n      <td>0</td>\n      <td>0</td>\n    </tr>\n  </tbody>\n</table>\n<p>5 rows × 62 columns</p>\n</div>"
     },
     "execution_count": 4,
     "metadata": {},
     "output_type": "execute_result"
    }
   ],
   "source": [
    "daskdd = dd.read_csv(path + '/2021-Gasto.csv')\n",
    "daskdd.head()"
   ],
   "metadata": {
    "collapsed": false,
    "ExecuteTime": {
     "end_time": "2023-09-20T19:33:25.680132900Z",
     "start_time": "2023-09-20T19:33:24.761138900Z"
    }
   },
   "id": "d4b13aaa00192818"
  },
  {
   "cell_type": "code",
   "execution_count": 8,
   "outputs": [
    {
     "data": {
      "text/plain": "ANO_EJE                      int64\nMES_EJE                      int64\nTIPO_GOBIERNO               object\nTIPO_GOBIERNO_NOMBRE        object\nSECTOR                       int64\n                             ...  \nMONTO_CERTIFICADO            int64\nMONTO_COMPROMETIDO_ANUAL     int64\nMONTO_COMPROMETIDO           int64\nMONTO_DEVENGADO              int64\nMONTO_GIRADO                 int64\nLength: 62, dtype: object"
     },
     "execution_count": 8,
     "metadata": {},
     "output_type": "execute_result"
    }
   ],
   "source": [
    "daskdd.npartitions\n",
    "daskdd.dtypes"
   ],
   "metadata": {
    "collapsed": false,
    "ExecuteTime": {
     "end_time": "2023-09-20T19:34:18.226143400Z",
     "start_time": "2023-09-20T19:34:18.211051100Z"
    }
   },
   "id": "77c7538fdde50c38"
  },
  {
   "cell_type": "code",
   "execution_count": null,
   "outputs": [],
   "source": [
    "\n",
    "daskdd = daskdd[daskdd['TIPO_GOBIERNO']==\"M\"]\n",
    "daskdd = daskdd[daskdd['PROVINCIA_EJECUTORA_NOMBRE']==\"SATIPO\"]\n",
    "daskdd = daskdd[daskdd['TIPO_ACT_PROY']==2]\n",
    "daskdd.head()\n",
    "\n",
    "unique_values = daskdd['PROVINCIA_EJECUTORA_NOMBRE'].unique"
   ],
   "metadata": {
    "collapsed": false
   },
   "id": "initial_id"
  }
 ],
 "metadata": {
  "kernelspec": {
   "display_name": "Python 3",
   "language": "python",
   "name": "python3"
  },
  "language_info": {
   "codemirror_mode": {
    "name": "ipython",
    "version": 2
   },
   "file_extension": ".py",
   "mimetype": "text/x-python",
   "name": "python",
   "nbconvert_exporter": "python",
   "pygments_lexer": "ipython2",
   "version": "2.7.6"
  }
 },
 "nbformat": 4,
 "nbformat_minor": 5
}

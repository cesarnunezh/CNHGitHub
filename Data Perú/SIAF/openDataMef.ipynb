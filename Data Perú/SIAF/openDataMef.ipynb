{
 "cells": [
  {
   "cell_type": "code",
   "execution_count": 3,
   "id": "3b3babbadbbb4db5",
   "metadata": {
    "collapsed": true,
    "ExecuteTime": {
     "end_time": "2024-03-26T18:04:32.502926100Z",
     "start_time": "2024-03-26T18:04:31.073627400Z"
    }
   },
   "outputs": [],
   "source": [
    "#Imports\n",
    "import pandas as pd\n",
    "import os\n",
    "import time\n",
    "import dask.dataframe as dd"
   ]
  },
  {
   "cell_type": "code",
   "execution_count": 4,
   "outputs": [],
   "source": [
    "path = r'C:\\Users\\User\\OneDrive - Universidad del Pacífico\\1. Documentos\\0. Bases de datos\\01. Datos Abiertos - MEF\\1. Data'"
   ],
   "metadata": {
    "collapsed": false,
    "ExecuteTime": {
     "end_time": "2024-03-26T18:04:34.738491900Z",
     "start_time": "2024-03-26T18:04:34.715318800Z"
    }
   },
   "id": "9d5d7ad29e35ddd3"
  },
  {
   "cell_type": "code",
   "execution_count": 6,
   "outputs": [
    {
     "ename": "ValueError",
     "evalue": "Mismatched dtypes found in `pd.read_csv`/`pd.read_table`.\n\n+--------------+--------+----------+\n| Column       | Found  | Expected |\n+--------------+--------+----------+\n| TIPO_RECURSO | object | int64    |\n+--------------+--------+----------+\n\nThe following columns also raised exceptions on conversion:\n\n- TIPO_RECURSO\n  ValueError(\"invalid literal for int() with base 10: 'F'\")\n\nUsually this is due to dask's dtype inference failing, and\n*may* be fixed by specifying dtypes manually by adding:\n\ndtype={'TIPO_RECURSO': 'object'}\n\nto the call to `read_csv`/`read_table`.",
     "output_type": "error",
     "traceback": [
      "\u001B[1;31m---------------------------------------------------------------------------\u001B[0m",
      "\u001B[1;31mValueError\u001B[0m                                Traceback (most recent call last)",
      "Cell \u001B[1;32mIn[6], line 2\u001B[0m\n\u001B[0;32m      1\u001B[0m daskdd \u001B[38;5;241m=\u001B[39m dd\u001B[38;5;241m.\u001B[39mread_csv(path \u001B[38;5;241m+\u001B[39m \u001B[38;5;124m'\u001B[39m\u001B[38;5;124m/2022-Gasto.csv\u001B[39m\u001B[38;5;124m'\u001B[39m)\n\u001B[1;32m----> 2\u001B[0m \u001B[43mdaskdd\u001B[49m\u001B[38;5;241;43m.\u001B[39;49m\u001B[43mhead\u001B[49m\u001B[43m(\u001B[49m\u001B[43m)\u001B[49m\n",
      "File \u001B[1;32m~\\AppData\\Local\\Programs\\Python\\Python311\\Lib\\site-packages\\dask_expr\\_collection.py:600\u001B[0m, in \u001B[0;36mFrameBase.head\u001B[1;34m(self, n, npartitions, compute)\u001B[0m\n\u001B[0;32m    598\u001B[0m out \u001B[38;5;241m=\u001B[39m new_collection(expr\u001B[38;5;241m.\u001B[39mHead(\u001B[38;5;28mself\u001B[39m, n\u001B[38;5;241m=\u001B[39mn, npartitions\u001B[38;5;241m=\u001B[39mnpartitions))\n\u001B[0;32m    599\u001B[0m \u001B[38;5;28;01mif\u001B[39;00m compute:\n\u001B[1;32m--> 600\u001B[0m     out \u001B[38;5;241m=\u001B[39m \u001B[43mout\u001B[49m\u001B[38;5;241;43m.\u001B[39;49m\u001B[43mcompute\u001B[49m\u001B[43m(\u001B[49m\u001B[43m)\u001B[49m\n\u001B[0;32m    601\u001B[0m \u001B[38;5;28;01mreturn\u001B[39;00m out\n",
      "File \u001B[1;32m~\\AppData\\Local\\Programs\\Python\\Python311\\Lib\\site-packages\\dask_expr\\_collection.py:453\u001B[0m, in \u001B[0;36mFrameBase.compute\u001B[1;34m(self, fuse, **kwargs)\u001B[0m\n\u001B[0;32m    451\u001B[0m     out \u001B[38;5;241m=\u001B[39m out\u001B[38;5;241m.\u001B[39mrepartition(npartitions\u001B[38;5;241m=\u001B[39m\u001B[38;5;241m1\u001B[39m)\n\u001B[0;32m    452\u001B[0m out \u001B[38;5;241m=\u001B[39m out\u001B[38;5;241m.\u001B[39moptimize(fuse\u001B[38;5;241m=\u001B[39mfuse)\n\u001B[1;32m--> 453\u001B[0m \u001B[38;5;28;01mreturn\u001B[39;00m \u001B[43mDaskMethodsMixin\u001B[49m\u001B[38;5;241;43m.\u001B[39;49m\u001B[43mcompute\u001B[49m\u001B[43m(\u001B[49m\u001B[43mout\u001B[49m\u001B[43m,\u001B[49m\u001B[43m \u001B[49m\u001B[38;5;241;43m*\u001B[39;49m\u001B[38;5;241;43m*\u001B[39;49m\u001B[43mkwargs\u001B[49m\u001B[43m)\u001B[49m\n",
      "File \u001B[1;32m~\\AppData\\Local\\Programs\\Python\\Python311\\Lib\\site-packages\\dask\\base.py:375\u001B[0m, in \u001B[0;36mDaskMethodsMixin.compute\u001B[1;34m(self, **kwargs)\u001B[0m\n\u001B[0;32m    351\u001B[0m \u001B[38;5;28;01mdef\u001B[39;00m \u001B[38;5;21mcompute\u001B[39m(\u001B[38;5;28mself\u001B[39m, \u001B[38;5;241m*\u001B[39m\u001B[38;5;241m*\u001B[39mkwargs):\n\u001B[0;32m    352\u001B[0m \u001B[38;5;250m    \u001B[39m\u001B[38;5;124;03m\"\"\"Compute this dask collection\u001B[39;00m\n\u001B[0;32m    353\u001B[0m \n\u001B[0;32m    354\u001B[0m \u001B[38;5;124;03m    This turns a lazy Dask collection into its in-memory equivalent.\u001B[39;00m\n\u001B[1;32m   (...)\u001B[0m\n\u001B[0;32m    373\u001B[0m \u001B[38;5;124;03m    dask.compute\u001B[39;00m\n\u001B[0;32m    374\u001B[0m \u001B[38;5;124;03m    \"\"\"\u001B[39;00m\n\u001B[1;32m--> 375\u001B[0m     (result,) \u001B[38;5;241m=\u001B[39m \u001B[43mcompute\u001B[49m\u001B[43m(\u001B[49m\u001B[38;5;28;43mself\u001B[39;49m\u001B[43m,\u001B[49m\u001B[43m \u001B[49m\u001B[43mtraverse\u001B[49m\u001B[38;5;241;43m=\u001B[39;49m\u001B[38;5;28;43;01mFalse\u001B[39;49;00m\u001B[43m,\u001B[49m\u001B[43m \u001B[49m\u001B[38;5;241;43m*\u001B[39;49m\u001B[38;5;241;43m*\u001B[39;49m\u001B[43mkwargs\u001B[49m\u001B[43m)\u001B[49m\n\u001B[0;32m    376\u001B[0m     \u001B[38;5;28;01mreturn\u001B[39;00m result\n",
      "File \u001B[1;32m~\\AppData\\Local\\Programs\\Python\\Python311\\Lib\\site-packages\\dask\\base.py:661\u001B[0m, in \u001B[0;36mcompute\u001B[1;34m(traverse, optimize_graph, scheduler, get, *args, **kwargs)\u001B[0m\n\u001B[0;32m    658\u001B[0m     postcomputes\u001B[38;5;241m.\u001B[39mappend(x\u001B[38;5;241m.\u001B[39m__dask_postcompute__())\n\u001B[0;32m    660\u001B[0m \u001B[38;5;28;01mwith\u001B[39;00m shorten_traceback():\n\u001B[1;32m--> 661\u001B[0m     results \u001B[38;5;241m=\u001B[39m \u001B[43mschedule\u001B[49m\u001B[43m(\u001B[49m\u001B[43mdsk\u001B[49m\u001B[43m,\u001B[49m\u001B[43m \u001B[49m\u001B[43mkeys\u001B[49m\u001B[43m,\u001B[49m\u001B[43m \u001B[49m\u001B[38;5;241;43m*\u001B[39;49m\u001B[38;5;241;43m*\u001B[39;49m\u001B[43mkwargs\u001B[49m\u001B[43m)\u001B[49m\n\u001B[0;32m    663\u001B[0m \u001B[38;5;28;01mreturn\u001B[39;00m repack([f(r, \u001B[38;5;241m*\u001B[39ma) \u001B[38;5;28;01mfor\u001B[39;00m r, (f, a) \u001B[38;5;129;01min\u001B[39;00m \u001B[38;5;28mzip\u001B[39m(results, postcomputes)])\n",
      "File \u001B[1;32m~\\AppData\\Local\\Programs\\Python\\Python311\\Lib\\site-packages\\dask_expr\\_expr.py:3570\u001B[0m, in \u001B[0;36mFused._execute_task\u001B[1;34m(graph, name, *deps)\u001B[0m\n\u001B[0;32m   3568\u001B[0m \u001B[38;5;28;01mfor\u001B[39;00m i, dep \u001B[38;5;129;01min\u001B[39;00m \u001B[38;5;28menumerate\u001B[39m(deps):\n\u001B[0;32m   3569\u001B[0m     graph[\u001B[38;5;124m\"\u001B[39m\u001B[38;5;124m_\u001B[39m\u001B[38;5;124m\"\u001B[39m \u001B[38;5;241m+\u001B[39m \u001B[38;5;28mstr\u001B[39m(i)] \u001B[38;5;241m=\u001B[39m dep\n\u001B[1;32m-> 3570\u001B[0m \u001B[38;5;28;01mreturn\u001B[39;00m \u001B[43mdask\u001B[49m\u001B[38;5;241;43m.\u001B[39;49m\u001B[43mcore\u001B[49m\u001B[38;5;241;43m.\u001B[39;49m\u001B[43mget\u001B[49m\u001B[43m(\u001B[49m\u001B[43mgraph\u001B[49m\u001B[43m,\u001B[49m\u001B[43m \u001B[49m\u001B[43mname\u001B[49m\u001B[43m)\u001B[49m\n",
      "File \u001B[1;32m~\\AppData\\Local\\Programs\\Python\\Python311\\Lib\\site-packages\\dask\\dataframe\\io\\csv.py:142\u001B[0m, in \u001B[0;36mCSVFunctionWrapper.__call__\u001B[1;34m(self, part)\u001B[0m\n\u001B[0;32m    139\u001B[0m         rest_kwargs[\u001B[38;5;124m\"\u001B[39m\u001B[38;5;124musecols\u001B[39m\u001B[38;5;124m\"\u001B[39m] \u001B[38;5;241m=\u001B[39m columns\n\u001B[0;32m    141\u001B[0m \u001B[38;5;66;03m# Call `pandas_read_text`\u001B[39;00m\n\u001B[1;32m--> 142\u001B[0m df \u001B[38;5;241m=\u001B[39m \u001B[43mpandas_read_text\u001B[49m\u001B[43m(\u001B[49m\n\u001B[0;32m    143\u001B[0m \u001B[43m    \u001B[49m\u001B[38;5;28;43mself\u001B[39;49m\u001B[38;5;241;43m.\u001B[39;49m\u001B[43mreader\u001B[49m\u001B[43m,\u001B[49m\n\u001B[0;32m    144\u001B[0m \u001B[43m    \u001B[49m\u001B[43mblock\u001B[49m\u001B[43m,\u001B[49m\n\u001B[0;32m    145\u001B[0m \u001B[43m    \u001B[49m\u001B[38;5;28;43mself\u001B[39;49m\u001B[38;5;241;43m.\u001B[39;49m\u001B[43mheader\u001B[49m\u001B[43m,\u001B[49m\n\u001B[0;32m    146\u001B[0m \u001B[43m    \u001B[49m\u001B[43mrest_kwargs\u001B[49m\u001B[43m,\u001B[49m\n\u001B[0;32m    147\u001B[0m \u001B[43m    \u001B[49m\u001B[38;5;28;43mself\u001B[39;49m\u001B[38;5;241;43m.\u001B[39;49m\u001B[43mdtypes\u001B[49m\u001B[43m,\u001B[49m\n\u001B[0;32m    148\u001B[0m \u001B[43m    \u001B[49m\u001B[43mcolumns\u001B[49m\u001B[43m,\u001B[49m\n\u001B[0;32m    149\u001B[0m \u001B[43m    \u001B[49m\u001B[43mwrite_header\u001B[49m\u001B[43m,\u001B[49m\n\u001B[0;32m    150\u001B[0m \u001B[43m    \u001B[49m\u001B[38;5;28;43mself\u001B[39;49m\u001B[38;5;241;43m.\u001B[39;49m\u001B[43menforce\u001B[49m\u001B[43m,\u001B[49m\n\u001B[0;32m    151\u001B[0m \u001B[43m    \u001B[49m\u001B[43mpath_info\u001B[49m\u001B[43m,\u001B[49m\n\u001B[0;32m    152\u001B[0m \u001B[43m\u001B[49m\u001B[43m)\u001B[49m\n\u001B[0;32m    153\u001B[0m \u001B[38;5;28;01mif\u001B[39;00m project_after_read:\n\u001B[0;32m    154\u001B[0m     \u001B[38;5;28;01mreturn\u001B[39;00m df[\u001B[38;5;28mself\u001B[39m\u001B[38;5;241m.\u001B[39mcolumns]\n",
      "File \u001B[1;32m~\\AppData\\Local\\Programs\\Python\\Python311\\Lib\\site-packages\\dask\\dataframe\\io\\csv.py:197\u001B[0m, in \u001B[0;36mpandas_read_text\u001B[1;34m(reader, b, header, kwargs, dtypes, columns, write_header, enforce, path)\u001B[0m\n\u001B[0;32m    195\u001B[0m df \u001B[38;5;241m=\u001B[39m reader(bio, \u001B[38;5;241m*\u001B[39m\u001B[38;5;241m*\u001B[39mkwargs)\n\u001B[0;32m    196\u001B[0m \u001B[38;5;28;01mif\u001B[39;00m dtypes:\n\u001B[1;32m--> 197\u001B[0m     \u001B[43mcoerce_dtypes\u001B[49m\u001B[43m(\u001B[49m\u001B[43mdf\u001B[49m\u001B[43m,\u001B[49m\u001B[43m \u001B[49m\u001B[43mdtypes\u001B[49m\u001B[43m)\u001B[49m\n\u001B[0;32m    199\u001B[0m \u001B[38;5;28;01mif\u001B[39;00m enforce \u001B[38;5;129;01mand\u001B[39;00m columns \u001B[38;5;129;01mand\u001B[39;00m (\u001B[38;5;28mlist\u001B[39m(df\u001B[38;5;241m.\u001B[39mcolumns) \u001B[38;5;241m!=\u001B[39m \u001B[38;5;28mlist\u001B[39m(columns)):\n\u001B[0;32m    200\u001B[0m     \u001B[38;5;28;01mraise\u001B[39;00m \u001B[38;5;167;01mValueError\u001B[39;00m(\u001B[38;5;124m\"\u001B[39m\u001B[38;5;124mColumns do not match\u001B[39m\u001B[38;5;124m\"\u001B[39m, df\u001B[38;5;241m.\u001B[39mcolumns, columns)\n",
      "File \u001B[1;32m~\\AppData\\Local\\Programs\\Python\\Python311\\Lib\\site-packages\\dask\\dataframe\\io\\csv.py:298\u001B[0m, in \u001B[0;36mcoerce_dtypes\u001B[1;34m(df, dtypes)\u001B[0m\n\u001B[0;32m    294\u001B[0m rule \u001B[38;5;241m=\u001B[39m \u001B[38;5;124m\"\u001B[39m\u001B[38;5;130;01m\\n\u001B[39;00m\u001B[38;5;130;01m\\n\u001B[39;00m\u001B[38;5;132;01m%s\u001B[39;00m\u001B[38;5;130;01m\\n\u001B[39;00m\u001B[38;5;130;01m\\n\u001B[39;00m\u001B[38;5;124m\"\u001B[39m \u001B[38;5;241m%\u001B[39m (\u001B[38;5;124m\"\u001B[39m\u001B[38;5;124m-\u001B[39m\u001B[38;5;124m\"\u001B[39m \u001B[38;5;241m*\u001B[39m \u001B[38;5;241m61\u001B[39m)\n\u001B[0;32m    295\u001B[0m msg \u001B[38;5;241m=\u001B[39m \u001B[38;5;124m\"\u001B[39m\u001B[38;5;124mMismatched dtypes found in `pd.read_csv`/`pd.read_table`.\u001B[39m\u001B[38;5;130;01m\\n\u001B[39;00m\u001B[38;5;130;01m\\n\u001B[39;00m\u001B[38;5;132;01m%s\u001B[39;00m\u001B[38;5;124m\"\u001B[39m \u001B[38;5;241m%\u001B[39m (\n\u001B[0;32m    296\u001B[0m     rule\u001B[38;5;241m.\u001B[39mjoin(\u001B[38;5;28mfilter\u001B[39m(\u001B[38;5;28;01mNone\u001B[39;00m, [dtype_msg, date_msg]))\n\u001B[0;32m    297\u001B[0m )\n\u001B[1;32m--> 298\u001B[0m \u001B[38;5;28;01mraise\u001B[39;00m \u001B[38;5;167;01mValueError\u001B[39;00m(msg)\n",
      "\u001B[1;31mValueError\u001B[0m: Mismatched dtypes found in `pd.read_csv`/`pd.read_table`.\n\n+--------------+--------+----------+\n| Column       | Found  | Expected |\n+--------------+--------+----------+\n| TIPO_RECURSO | object | int64    |\n+--------------+--------+----------+\n\nThe following columns also raised exceptions on conversion:\n\n- TIPO_RECURSO\n  ValueError(\"invalid literal for int() with base 10: 'F'\")\n\nUsually this is due to dask's dtype inference failing, and\n*may* be fixed by specifying dtypes manually by adding:\n\ndtype={'TIPO_RECURSO': 'object'}\n\nto the call to `read_csv`/`read_table`."
     ]
    }
   ],
   "source": [
    "daskdd = dd.read_csv(path + '/2022-Gasto.csv')\n",
    "daskdd.head()"
   ],
   "metadata": {
    "collapsed": false,
    "ExecuteTime": {
     "end_time": "2024-03-27T16:19:29.244584600Z",
     "start_time": "2024-03-27T16:19:27.484364800Z"
    }
   },
   "id": "d4b13aaa00192818"
  },
  {
   "cell_type": "code",
   "execution_count": 8,
   "outputs": [
    {
     "data": {
      "text/plain": "ANO_EJE                      int64\nMES_EJE                      int64\nTIPO_GOBIERNO               object\nTIPO_GOBIERNO_NOMBRE        object\nSECTOR                       int64\n                             ...  \nMONTO_CERTIFICADO            int64\nMONTO_COMPROMETIDO_ANUAL     int64\nMONTO_COMPROMETIDO           int64\nMONTO_DEVENGADO              int64\nMONTO_GIRADO                 int64\nLength: 62, dtype: object"
     },
     "execution_count": 8,
     "metadata": {},
     "output_type": "execute_result"
    }
   ],
   "source": [
    "daskdd.npartitions\n",
    "daskdd.dtypes"
   ],
   "metadata": {
    "collapsed": false,
    "ExecuteTime": {
     "end_time": "2023-09-20T19:34:18.226143400Z",
     "start_time": "2023-09-20T19:34:18.211051100Z"
    }
   },
   "id": "77c7538fdde50c38"
  },
  {
   "cell_type": "code",
   "execution_count": null,
   "outputs": [],
   "source": [
    "\n",
    "daskdd = daskdd[daskdd['TIPO_GOBIERNO']==\"M\"]\n",
    "daskdd = daskdd[daskdd['PROVINCIA_EJECUTORA_NOMBRE']==\"SATIPO\"]\n",
    "daskdd = daskdd[daskdd['TIPO_ACT_PROY']==2]\n",
    "daskdd.head()\n",
    "\n",
    "unique_values = daskdd['PROVINCIA_EJECUTORA_NOMBRE'].unique"
   ],
   "metadata": {
    "collapsed": false
   },
   "id": "initial_id"
  }
 ],
 "metadata": {
  "kernelspec": {
   "display_name": "Python 3",
   "language": "python",
   "name": "python3"
  },
  "language_info": {
   "codemirror_mode": {
    "name": "ipython",
    "version": 2
   },
   "file_extension": ".py",
   "mimetype": "text/x-python",
   "name": "python",
   "nbconvert_exporter": "python",
   "pygments_lexer": "ipython2",
   "version": "2.7.6"
  }
 },
 "nbformat": 4,
 "nbformat_minor": 5
}

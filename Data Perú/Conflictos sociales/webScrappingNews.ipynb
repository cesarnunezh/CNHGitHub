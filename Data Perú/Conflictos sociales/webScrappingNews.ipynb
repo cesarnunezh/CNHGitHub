{
 "cells": [
  {
   "cell_type": "code",
   "execution_count": 28,
   "id": "initial_id",
   "metadata": {
    "collapsed": true,
    "ExecuteTime": {
     "end_time": "2024-04-11T19:52:45.032128300Z",
     "start_time": "2024-04-11T19:52:45.015760800Z"
    }
   },
   "outputs": [],
   "source": [
    "import pandas as pd\n",
    "import os\n",
    "import requests\n",
    "from bs4 import BeautifulSoup\n",
    "import time"
   ]
  },
  {
   "cell_type": "code",
   "outputs": [
    {
     "name": "stdout",
     "output_type": "stream",
     "text": [
      "Error al obtener la página: 503\n"
     ]
    }
   ],
   "source": [
    "listLink = []\n",
    "\n",
    "dic1 = {'rio+blanco': 22, \n",
    "        'empresa+minera': 4, \n",
    "        'comunidad+campesina+yanta' : 1, \n",
    "        'rondas+campesinas+huancabamba': 2,\n",
    "        'rondas+campesinas+ayabaca': 2,\n",
    "        'alcalde+carmen+frontera': 1}\n",
    "\n",
    "keyList = list(dic1.keys())\n",
    "valList = list(dic1.values())\n",
    "\n",
    "for i, search in enumerate(keyList):\n",
    "    for page in range(1,int(valList[i])):\n",
    "    \n",
    "        url = f'https://noticiaspiura30.pe/page/{page}/?s={search}'\n",
    "        response = requests.get(url)\n",
    "        \n",
    "        # Verificamos si la solicitud fue exitosa (código de estado 200)\n",
    "        if response.status_code == 200:\n",
    "            # Parseamos el contenido HTML de la página usando BeautifulSoup\n",
    "            soup = BeautifulSoup(response.text, 'html.parser')\n",
    "        \n",
    "            section_searchpage = soup.find('section', id='search-page')\n",
    "            \n",
    "            # Encontramos todos los elementos HTML que contienen las noticias\n",
    "            noticias = section_searchpage.find_all('span', class_='text')\n",
    "            noticias2 = section_searchpage.find_all('a')\n",
    "        \n",
    "            # Iteramos sobre las noticias encontradas e imprimimos su título y contenido\n",
    "            for noticia in noticias2:\n",
    "                link = noticia.attrs.get('href') \n",
    "                listLink.append(link)\n",
    "        \n",
    "            time.sleep(3)\n",
    "        \n",
    "        else:\n",
    "            print(\"Error al obtener la página:\", response.status_code)"
   ],
   "metadata": {
    "collapsed": false,
    "ExecuteTime": {
     "end_time": "2024-04-11T20:03:03.351507100Z",
     "start_time": "2024-04-11T19:53:26.989625100Z"
    }
   },
   "id": "137e2bb597539600",
   "execution_count": 29
  },
  {
   "cell_type": "code",
   "outputs": [],
   "source": [
    "listLink2 = [s for s in listLink2 if not (s.startswith('https://noticiaspiura30.pe/page') or s.startswith('https://noticiaspiura30.pe/?s'))]"
   ],
   "metadata": {
    "collapsed": false,
    "ExecuteTime": {
     "end_time": "2024-04-11T20:57:01.799269200Z",
     "start_time": "2024-04-11T20:57:01.790591100Z"
    }
   },
   "id": "a794f474732bbdde",
   "execution_count": 30
  },
  {
   "cell_type": "code",
   "outputs": [],
   "source": [
    "urls = []\n",
    "titles = []\n",
    "excerpts = []\n",
    "dates = []\n",
    "contents = []\n",
    "\n",
    "for ln in listLink2:\n",
    "    url = ln\n",
    "    response = requests.get(url)\n",
    "   \n",
    "    # Verificamos si la solicitud fue exitosa (código de estado 200)\n",
    "    if response.status_code == 200:\n",
    "        # Parseamos el contenido HTML de la página usando BeautifulSoup\n",
    "        soup = BeautifulSoup(response.text, 'html.parser')\n",
    "    \n",
    "        titular = soup.find('h1', itemprop='mainEntityOfPage').get_text()\n",
    "        titularExt = soup.find('p', class_='post-excerpt').get_text()\n",
    "        fechaNoticia = soup.find('span', itemprop='dateCreated').get_text()\n",
    "        contenidoNoticia = soup.find('div', class_='article-post-content').get_text()\n",
    "\n",
    "        # Append data to lists\n",
    "        urls.append(url)\n",
    "        titles.append(titular)\n",
    "        excerpts.append(titularExt)\n",
    "        dates.append(fechaNoticia)\n",
    "        contents.append(contenidoNoticia)\n",
    "    else:\n",
    "        print(\"Error al obtener la página:\", response.status_code)\n",
    "\n",
    "df = pd.DataFrame({\n",
    "    'URL': urls,\n",
    "    'Title': titles,\n",
    "    'Excerpt': excerpts,\n",
    "    'Date': dates,\n",
    "    'Content': contents\n",
    "})\n",
    "\n",
    "df = df.drop_duplicates()"
   ],
   "metadata": {
    "collapsed": false,
    "ExecuteTime": {
     "end_time": "2024-04-11T21:21:32.144434500Z",
     "start_time": "2024-04-11T21:21:11.476419600Z"
    }
   },
   "id": "554348f5ab16654a",
   "execution_count": 32
  },
  {
   "cell_type": "code",
   "outputs": [],
   "source": [
    "# del 1 al 35\n",
    "# https://eltiempo.pe/page/35/?s=rio+blanco&et_blog"
   ],
   "metadata": {
    "collapsed": false
   },
   "id": "38e5ba6a0e045dfa"
  },
  {
   "cell_type": "code",
   "outputs": [],
   "source": [
    "# del 1 al 82\n",
    "# https://walac.pe/page/2/?s=rio+blanco"
   ],
   "metadata": {
    "collapsed": false
   },
   "id": "fab297db34dbc2ed"
  },
  {
   "cell_type": "code",
   "outputs": [],
   "source": [
    "# del 1 al 38\n",
    "# https://lahora.pe/page/38/?s=rio+blanco"
   ],
   "metadata": {
    "collapsed": false
   },
   "id": "34b30387fe357a9f"
  },
  {
   "cell_type": "code",
   "outputs": [],
   "source": [
    "# del 1 al 28678 range(0,28678,13)\n",
    "# https://elregionalpiura.com.pe/index.php/region-piura?start=91"
   ],
   "metadata": {
    "collapsed": false
   },
   "id": "ce81ee192afe63d7"
  },
  {
   "cell_type": "code",
   "outputs": [],
   "source": [
    "# del 1 al 66\n",
    "# https://www.cutivalu.pe/page/3/?s=rio+blanco"
   ],
   "metadata": {
    "collapsed": false
   },
   "id": "33bfc571bf443fa7"
  }
 ],
 "metadata": {
  "kernelspec": {
   "display_name": "Python 3",
   "language": "python",
   "name": "python3"
  },
  "language_info": {
   "codemirror_mode": {
    "name": "ipython",
    "version": 2
   },
   "file_extension": ".py",
   "mimetype": "text/x-python",
   "name": "python",
   "nbconvert_exporter": "python",
   "pygments_lexer": "ipython2",
   "version": "2.7.6"
  }
 },
 "nbformat": 4,
 "nbformat_minor": 5
}

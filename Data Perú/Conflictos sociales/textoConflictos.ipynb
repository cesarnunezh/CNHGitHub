{
 "cells": [
  {
   "cell_type": "code",
   "execution_count": 1,
   "id": "initial_id",
   "metadata": {
    "collapsed": true,
    "ExecuteTime": {
     "end_time": "2023-10-13T19:47:27.622676200Z",
     "start_time": "2023-10-13T19:47:26.051857200Z"
    }
   },
   "outputs": [],
   "source": [
    "import PyPDF2\n",
    "import pandas as pd\n",
    "from unidecode import unidecode\n",
    "import re"
   ]
  },
  {
   "cell_type": "code",
   "execution_count": 2,
   "outputs": [],
   "source": [
    "folder_path = \"C:/Users/User/Documents/GitHub/CNHGitHub/Data Perú/Conflictos sociales/pdf_reports_conflictos_sociales/\"\n",
    "#folder_path = \"D:/1. Documentos/0. Bases de datos/0. Dofiles y Scripts/CNH_rep/Data Perú/Conflictos sociales/pdf_reports_conflictos_sociales/\"\n",
    "\n",
    "def extraeTextoPdf(pdfPath, textIni, textFin):\n",
    "    with open(pdfPath, 'rb') as pdfFile:\n",
    "        # Create a PDF reader object\n",
    "        pdfReader = PyPDF2.PdfReader(pdfFile)\n",
    "    \n",
    "        # Iterate through each page in the PDF\n",
    "        contPagesIni = 0\n",
    "        for pageNum in range(len(pdfReader.pages)):\n",
    "            # Extract text from the current page\n",
    "            page = pdfReader.pages[pageNum]\n",
    "            testText = page.extract_text()\n",
    "            if textIni in testText:\n",
    "                break\n",
    "            else:\n",
    "                contPagesIni += 1\n",
    "\n",
    "        contPagesFin = 0\n",
    "        for pageNum in range(len(pdfReader.pages)):\n",
    "            # Extract text from the current page\n",
    "            page = pdfReader.pages[pageNum]\n",
    "            testText = page.extract_text()\n",
    "            if textFin in testText:\n",
    "                break\n",
    "            else:\n",
    "                contPagesFin += 1\n",
    "        \n",
    "        # Initialize a variable to store the extracted text\n",
    "        extracted_text1 = ''\n",
    "        for pageNum in range(contPagesIni,contPagesFin +1):\n",
    "            # Extract text from the current page\n",
    "            page2 = pdfReader.pages[pageNum]\n",
    "            extracted_text1 += page2.extract_text()\n",
    "\n",
    "        patron = re.compile(f'{textIni}(.*?){textFin}', re.DOTALL)\n",
    "    \n",
    "        resultado = patron.search(extracted_text1)\n",
    "        extracted_text = resultado.group(1)\n",
    "    \n",
    "    return extracted_text\n",
    "       "
   ],
   "metadata": {
    "collapsed": false,
    "ExecuteTime": {
     "end_time": "2023-10-13T19:47:28.685706700Z",
     "start_time": "2023-10-13T19:47:28.672091600Z"
    }
   },
   "id": "1d27947fcf7b366a"
  },
  {
   "cell_type": "code",
   "execution_count": null,
   "outputs": [],
   "source": [
    "# 35-49 | Desde: 1. Conflictos activos | TOTAL\n",
    "# 50-51 | Desde: 1.1. Conflictos activos | Hasta: TOTAL\n",
    "# 52-89 | Desde: 1.1 Conflictos activos | Hasta: TOTAL\n",
    "# 90-125 | Desde: Detalle de los conflictos sociales en un departamento: | Hasta: Detalle de los conflictos sociales en más de un departamento:\n",
    "# 126-134 | Desde: 4.1 CONFLICTOS | Hasta: 4.2 CONFLICTOS\n",
    "# 135-140 | Desde: 5.1 CONFLICTOS | Hasta: 5.2 CONFLICTOS\n",
    "# 141-171 | Desde: 5.1 CONFLICTOS | Hasta: 4.2 CONFLICTOS SOCIALES\n",
    "# 172-234 | Desde: 5.1 CONFLICTOS | Hasta: 5.2 CONFLICTOS SOCIALES\n"
   ],
   "metadata": {
    "collapsed": false
   },
   "id": "e2152950dcdabcdb"
  },
  {
   "cell_type": "code",
   "execution_count": 73,
   "outputs": [
    {
     "ename": "IndexError",
     "evalue": "sequence index out of range",
     "output_type": "error",
     "traceback": [
      "\u001B[1;31m---------------------------------------------------------------------------\u001B[0m",
      "\u001B[1;31mIndexError\u001B[0m                                Traceback (most recent call last)",
      "Cell \u001B[1;32mIn[73], line 5\u001B[0m\n\u001B[0;32m      2\u001B[0m pdfPath \u001B[38;5;241m=\u001B[39m folder_path \u001B[38;5;241m+\u001B[39m \u001B[38;5;124m'\u001B[39m\u001B[38;5;124m156_201_7.pdf\u001B[39m\u001B[38;5;124m'\u001B[39m\n\u001B[0;32m      4\u001B[0m \u001B[38;5;66;03m# En un solo departamento\u001B[39;00m\n\u001B[1;32m----> 5\u001B[0m conflictosActivos1 \u001B[38;5;241m=\u001B[39m \u001B[43mextraeTextoPdf\u001B[49m\u001B[43m(\u001B[49m\u001B[43mpdfPath\u001B[49m\u001B[43m \u001B[49m\u001B[38;5;241;43m=\u001B[39;49m\u001B[43m \u001B[49m\u001B[43mpdfPath\u001B[49m\u001B[43m,\u001B[49m\u001B[43m \u001B[49m\u001B[43mtextIni\u001B[49m\u001B[43m \u001B[49m\u001B[38;5;241;43m=\u001B[39;49m\u001B[43m \u001B[49m\u001B[38;5;124;43m\"\u001B[39;49m\u001B[38;5;124;43m5.1 CONFLICTOS ACTIVOS\u001B[39;49m\u001B[38;5;124;43m\"\u001B[39;49m\u001B[43m,\u001B[49m\u001B[43m \u001B[49m\u001B[43mtextFin\u001B[49m\u001B[38;5;241;43m=\u001B[39;49m\u001B[43m \u001B[49m\u001B[38;5;124;43m\"\u001B[39;49m\u001B[38;5;124;43m5.2 CONFLICTOS\u001B[39;49m\u001B[38;5;124;43m\"\u001B[39;49m\u001B[43m)\u001B[49m\n\u001B[0;32m      7\u001B[0m \u001B[38;5;66;03m# En más de un departamento\u001B[39;00m\n\u001B[0;32m      8\u001B[0m \u001B[38;5;66;03m#conflictosActivos2  = extraeTextoPdf(pdfPath = pdfPath, textIni = \"5.2 CONFLICTOS\", textFin= \"5.3 CONFLICTOS\")\u001B[39;00m\n\u001B[0;32m      9\u001B[0m \n\u001B[1;32m   (...)\u001B[0m\n\u001B[0;32m     13\u001B[0m \u001B[38;5;66;03m# Latentes\u001B[39;00m\n\u001B[0;32m     14\u001B[0m \u001B[38;5;66;03m#conflictosLatentes = extraeTextoPdf(pdfPath = pdfPath, textIni = \"VI. DETALLE DE LOS CONFLI\", textFin= \"6.1 CONFLICTOS\")\u001B[39;00m\n",
      "Cell \u001B[1;32mIn[2], line 34\u001B[0m, in \u001B[0;36mextraeTextoPdf\u001B[1;34m(pdfPath, textIni, textFin)\u001B[0m\n\u001B[0;32m     31\u001B[0m extracted_text1 \u001B[38;5;241m=\u001B[39m \u001B[38;5;124m'\u001B[39m\u001B[38;5;124m'\u001B[39m\n\u001B[0;32m     32\u001B[0m \u001B[38;5;28;01mfor\u001B[39;00m pageNum \u001B[38;5;129;01min\u001B[39;00m \u001B[38;5;28mrange\u001B[39m(contPagesIni,contPagesFin \u001B[38;5;241m+\u001B[39m\u001B[38;5;241m1\u001B[39m):\n\u001B[0;32m     33\u001B[0m     \u001B[38;5;66;03m# Extract text from the current page\u001B[39;00m\n\u001B[1;32m---> 34\u001B[0m     page2 \u001B[38;5;241m=\u001B[39m \u001B[43mpdfReader\u001B[49m\u001B[38;5;241;43m.\u001B[39;49m\u001B[43mpages\u001B[49m\u001B[43m[\u001B[49m\u001B[43mpageNum\u001B[49m\u001B[43m]\u001B[49m\n\u001B[0;32m     35\u001B[0m     extracted_text1 \u001B[38;5;241m+\u001B[39m\u001B[38;5;241m=\u001B[39m page2\u001B[38;5;241m.\u001B[39mextract_text()\n\u001B[0;32m     37\u001B[0m patron \u001B[38;5;241m=\u001B[39m re\u001B[38;5;241m.\u001B[39mcompile(\u001B[38;5;124mf\u001B[39m\u001B[38;5;124m'\u001B[39m\u001B[38;5;132;01m{\u001B[39;00mtextIni\u001B[38;5;132;01m}\u001B[39;00m\u001B[38;5;124m(.*?)\u001B[39m\u001B[38;5;132;01m{\u001B[39;00mtextFin\u001B[38;5;132;01m}\u001B[39;00m\u001B[38;5;124m'\u001B[39m, re\u001B[38;5;241m.\u001B[39mDOTALL)\n",
      "File \u001B[1;32m~\\AppData\\Local\\Programs\\Python\\Python311\\Lib\\site-packages\\PyPDF2\\_page.py:2077\u001B[0m, in \u001B[0;36m_VirtualList.__getitem__\u001B[1;34m(self, index)\u001B[0m\n\u001B[0;32m   2075\u001B[0m     index \u001B[38;5;241m=\u001B[39m len_self \u001B[38;5;241m+\u001B[39m index\n\u001B[0;32m   2076\u001B[0m \u001B[38;5;28;01mif\u001B[39;00m index \u001B[38;5;241m<\u001B[39m \u001B[38;5;241m0\u001B[39m \u001B[38;5;129;01mor\u001B[39;00m index \u001B[38;5;241m>\u001B[39m\u001B[38;5;241m=\u001B[39m len_self:\n\u001B[1;32m-> 2077\u001B[0m     \u001B[38;5;28;01mraise\u001B[39;00m \u001B[38;5;167;01mIndexError\u001B[39;00m(\u001B[38;5;124m\"\u001B[39m\u001B[38;5;124msequence index out of range\u001B[39m\u001B[38;5;124m\"\u001B[39m)\n\u001B[0;32m   2078\u001B[0m \u001B[38;5;28;01mreturn\u001B[39;00m \u001B[38;5;28mself\u001B[39m\u001B[38;5;241m.\u001B[39mget_function(index)\n",
      "\u001B[1;31mIndexError\u001B[0m: sequence index out of range"
     ]
    }
   ],
   "source": [
    "# Open the PDF file in read-binary mode\n",
    "pdfPath = folder_path + '156_201_7.pdf'\n",
    "\n",
    "# En un solo departamento\n",
    "conflictosActivos1 = extraeTextoPdf(pdfPath = pdfPath, textIni = \"5.1 CONFLICTOS ACTIVOS\", textFin= \"5.2 CONFLICTOS\")\n",
    "#4.2 CONFLICTOS\n",
    "# En más de un departamento\n",
    "#conflictosActivos2  = extraeTextoPdf(pdfPath = pdfPath, textIni = \"5.2 CONFLICTOS\", textFin= \"5.3 CONFLICTOS\")\n",
    "\n",
    "# Reactivados\n",
    "#conflictosReactivados = extraeTextoPdf(pdfPath = pdfPath, textIni = \"5.3 CONFLICTOS\", textFin= \"VI. DETALLE DE LOS CONFLI\")\n",
    "\n",
    "# Latentes\n",
    "#conflictosLatentes = extraeTextoPdf(pdfPath = pdfPath, textIni = \"VI. DETALLE DE LOS CONFLI\", textFin= \"6.1 CONFLICTOS\")\n"
   ],
   "metadata": {
    "collapsed": false,
    "ExecuteTime": {
     "end_time": "2023-10-13T21:11:52.836280900Z",
     "start_time": "2023-10-13T21:11:45.545949700Z"
    }
   },
   "id": "80c0f472939ad7b6"
  },
  {
   "cell_type": "code",
   "execution_count": 69,
   "outputs": [
    {
     "name": "stdout",
     "output_type": "stream",
     "text": [
      "290305\n",
      "285675\n"
     ]
    }
   ],
   "source": [
    "print(len(conflictosActivos1))\n",
    "encabezados = [\"Reporte Mensual de Conflictos Sociales N.° 233 – Julio 2023\", \"ADJUNTÍA PARA LA  PREVENCIÓN DE CONFLICTOS SOCIALES Y LA GOBERNABILIDAD – DEFENSORÍA DEL PUEBL O\", \"ADJUNTÍA PARA LA PREVENCIÓN DE CONFLICTOS SOCIALES Y LA GOBERNABILIDAD – DEFENSORÍA DEL PUEBLO\"]\n",
    "for word in encabezados:\n",
    "    conflictosActivos1 = conflictosActivos1.replace(word, \"\")\n",
    "\n",
    "conflictosActivos1 = unidecode(conflictosActivos1)\n",
    "print(len(conflictosActivos1))\n"
   ],
   "metadata": {
    "collapsed": false,
    "ExecuteTime": {
     "end_time": "2023-10-13T21:09:46.066167600Z",
     "start_time": "2023-10-13T21:09:46.031014400Z"
    }
   },
   "id": "8c680577c60b30b7"
  },
  {
   "cell_type": "code",
   "execution_count": 70,
   "outputs": [],
   "source": [
    "departamentosPeru = [\n",
    "    \"Amazonas\",\n",
    "    \"Ancash\",\n",
    "    \"Apurimac\",\n",
    "    \"Arequipa\",\n",
    "    \"Ayacucho\",\n",
    "    \"Cajamarca\",\n",
    "    \"Callao\",\n",
    "    \"Cusco\",\n",
    "    \"Huancavelica\",\n",
    "    \"Huanuco\",\n",
    "    \"Ica\",\n",
    "    \"Junin\",\n",
    "    \"La Libertad\",\n",
    "    \"Lambayeque\",\n",
    "    \"Lima\",\n",
    "    \"Loreto\",\n",
    "    \"Madre de Dios\",\n",
    "    \"Moquegua\",\n",
    "    \"Pasco\",\n",
    "    \"Piura\",\n",
    "    \"Puno\",\n",
    "    \"San Martin\",\n",
    "    \"Tacna\",\n",
    "    \"Tumbes\",\n",
    "    \"Ucayali\"\n",
    "]"
   ],
   "metadata": {
    "collapsed": false,
    "ExecuteTime": {
     "end_time": "2023-10-13T21:09:49.511605400Z",
     "start_time": "2023-10-13T21:09:49.508090600Z"
    }
   },
   "id": "5104a3bffcbd87c9"
  },
  {
   "cell_type": "code",
   "execution_count": 71,
   "outputs": [],
   "source": [
    "results = {}\n",
    "\n",
    "# Identificar si los departamentos tienen conflictos\n",
    "dptos = []\n",
    "for dpto in departamentosPeru:\n",
    "    try:\n",
    "        encuentra = conflictosActivos1.index(dpto + \"  \")\n",
    "        dptos.append(dpto)\n",
    "    except:\n",
    "        continue\n",
    "\n",
    "del encuentra\n",
    "\n",
    "# Agrupación por dptos\n",
    "nDpto = 0\n",
    "for dpto in dptos:\n",
    "    if dpto == dptos[-1]:\n",
    "        inicio = conflictosActivos1.index(dptos[nDpto] + \"  \")\n",
    "        fin = len(conflictosActivos1)\n",
    "        results[dpto] = {conflictosActivos1[inicio + len(dptos[nDpto] + \"  \")+1 :fin]}\n",
    "    else:\n",
    "        inicio = conflictosActivos1.index(dptos[nDpto] + \"  \")\n",
    "        fin = conflictosActivos1.index(dptos[nDpto + 1] + \"  \")\n",
    "        results[dpto] = {conflictosActivos1[inicio + len(dptos[nDpto] + \"  \")+1 :fin]}\n",
    "        nDpto = nDpto + 1\n",
    "\n",
    "    stopWords=[\"Tipo:\",\"Ingreso como caso nuevo:\", \"Caso:\",\"Ubicacion:\",\"Actores primarios:\", \"Actores secundarios:\",\"Actores terciarios:\",\"NOHAYDIALOGO\", \"HAY DIALOGO\"]\n",
    "    textoDpto = list(results[dpto])[0]\n",
    "\n",
    "    textoDpto = textoDpto.replace(\"Descripcion  Hechos del mes\", \"\")\n",
    "    textoDpto = textoDpto.replace(\"Hechos del mes  Hechos del mes\", \"\")\n",
    "    textoDpto = textoDpto.replace(\"CASO NUEVO\", \"\")\n",
    "    textoDpto = textoDpto.replace(\"Caso :\", \"Caso:\")\n",
    "    textoDpto = textoDpto.replace(\"Tipo :\", \"Tipo:\")\n",
    "    textoDpto = textoDpto.replace(\"Actores primarios :\", \"Actores primarios:\")\n",
    "    textoDpto = textoDpto.replace(\"Actore s primarios:\", \"Actores primarios:\")\n",
    "    textoDpto = textoDpto.replace(\"Actores p rimarios:\", \"Actores primarios:\")\n",
    "    textoDpto = textoDpto.replace(\"Actores pr imarios:\", \"Actores primarios:\")\n",
    "    textoDpto = textoDpto.replace(\"Actores pri marios :\", \"Actores primarios:\")\n",
    "    textoDpto = textoDpto.replace(\"Actores primari os:\", \"Actores primarios:\")\n",
    "    textoDpto = textoDpto.replace(\"Actores primar ios:\", \"Actores primarios:\")\n",
    "    textoDpto = textoDpto.replace(\"Actores secundarios :\", \"Actores secundarios:\")\n",
    "    textoDpto = textoDpto.replace(\"Actores  secundarios:\", \"Actores secundarios:\")\n",
    "    textoDpto = textoDpto.replace(\"Actores secunda rios:\", \"Actores secundarios:\")\n",
    "    textoDpto = textoDpto.replace(\"Actores secu ndarios:\", \"Actores secundarios:\")\n",
    "    textoDpto = textoDpto.replace(\"Actor es secundarios:\", \"Actores secundarios:\")\n",
    "    textoDpto = textoDpto.replace(\"Actores secundari os:\", \"Actores secundarios:\")\n",
    "    textoDpto = textoDpto.replace(\"Actores terciarios :\", \"Actores terciarios:\")\n",
    "    textoDpto = textoDpto.replace(\"Actores Terciarios:\", \"Actores terciarios:\")\n",
    "    textoDpto = textoDpto.replace(\"Actores tercia rios:\", \"Actores terciarios:\")\n",
    "    textoDpto = textoDpto.replace(\"Actores terc iarios:\", \"Actores terciarios:\")\n",
    "    textoDpto = textoDpto.replace(\"Actores te rciarios:\", \"Actores terciarios:\")\n",
    "    textoDpto = textoDpto.replace(\"Actor es terciarios:\", \"Actores terciarios:\")\n",
    "    textoDpto = textoDpto.replace(\"Actor es terciarios:\", \"Actores terciarios:\")\n",
    "    textoDpto = textoDpto.replace(\"Actor terciario :\", \"Actores terciarios:\")\n",
    "    textoDpto = textoDpto.replace(\"Actores t erciarios:\", \"Actores terciarios:\")\n",
    "    textoDpto = textoDpto.replace(\"Ubicacion :\", \"Ubicacion:\")\n",
    "    textoDpto = textoDpto.replace(\"Ubicaci on:\", \"Ubicacion:\")\n",
    "    textoDpto = textoDpto.replace(\"Ubicac ion:\", \"Ubicacion:\")\n",
    "    textoDpto = textoDpto.replace(\"Ingreso co mo caso nuevo:\", \"Ingreso como caso nuevo:\")\n",
    "    textoDpto = textoDpto.replace(\"Ingre so como caso nuevo:\", \"Ingreso como caso nuevo:\")\n",
    "    textoDpto = textoDpto.replace(\"Ingreso como caso nuevo :\", \"Ingreso como caso nuevo:\")\n",
    "    textoDpto = textoDpto.replace(\"Ingreso  como caso nuevo:\", \"Ingreso como caso nuevo:\")\n",
    "    textoDpto = textoDpto.replace(\"Ingreso como caso  nuevo:\", \"Ingreso como caso nuevo:\")\n",
    "    textoDpto = textoDpto.replace(\"NO HAY DIALOGO\", \"NOHAYDIALOGO\")\n",
    "    \n",
    "    \n",
    "    texto = textoDpto\n",
    "    texto = texto.split(\"Tipo:\")\n",
    "    texto = texto[1:]\n",
    "    texto = [\"Tipo:\" + elem for elem in texto]\n",
    "    \n",
    "    cont = 0\n",
    "    for tex in texto:\n",
    "        texConf = texto[cont]\n",
    "        for word in stopWords:\n",
    "            if word == \"NOHAYDIALOGO\" :\n",
    "                texConf = texConf.replace(word, \"|\" + \"Dialogo: NOHAYDIALOGO\" + \"|\")\n",
    "            elif word == \"HAY DIALOGO\":\n",
    "                texConf = texConf.replace(word, \"|\" + \"Dialogo: HAYDIALOGO\" + \"|\")\n",
    "            elif word == \"Actores primarios:\" or word == \"Actores secundarios:\" or word == \"Actores terciarios:\":\n",
    "                texConf = texConf.replace(word, \"|\" + word)\n",
    "            else:\n",
    "                texConf = texConf.replace(word, \"|\" + word)\n",
    "        texConf = texConf.split(\"|\")\n",
    "        texConf = texConf[1:]\n",
    "        texto[cont] = texConf\n",
    "        cont = cont +1\n",
    "    \n",
    "    results[dpto] = texto\n",
    "\n",
    "resultsIncomp = {}\n",
    "\n",
    "dptoList = []\n",
    "tipoList = []\n",
    "ingresoList = []\n",
    "casoList = []\n",
    "ubiList = []\n",
    "actPrimList = []\n",
    "actSecList = []\n",
    "actTerList = []\n",
    "dialogList = []\n",
    "detalleList = []\n",
    "\n",
    "for dpto in dptos:\n",
    "    listConf = results[dpto]\n",
    "    results[dpto] = [sorted(conf) for conf in listConf if len(conf) == 9]\n",
    "    resultsIncomp[dpto] = [sorted(conf) for conf in listConf if len(conf) != 9]\n",
    "    listConf = results[dpto]\n",
    "\n",
    "    for conf in listConf:\n",
    "        dptoList.append(dpto)\n",
    "        detalleList.append(conf[0])\n",
    "        actPrimList.append(conf[1])\n",
    "        actSecList.append(conf[2])\n",
    "        actTerList.append(conf[3])\n",
    "        casoList.append(conf[4])\n",
    "        dialogList.append(conf[5])\n",
    "        ingresoList.append(conf[6])\n",
    "        tipoList.append(conf[7])\n",
    "        ubiList.append(conf[8])\n",
    "\n",
    "listas = [dptoList, tipoList, ingresoList ,casoList, ubiList, actPrimList, actSecList, actTerList, dialogList, detalleList]\n",
    "keyList = [\"Dpto\", \"Tipo\", \"Ingreso como caso nuevo\", \"Caso\", \"Ubicacion\",\"Actores primarios\", \"Actores secundarios\", \"Actores terciarios\",\"Dialogo\", \"Detalle del mes\"]\n",
    "\n",
    "patrones = [\":  \", \": \"]\n",
    "\n",
    "for i, lista in enumerate(listas):\n",
    "    for patron in patrones:\n",
    "        col = keyList[i] + patron\n",
    "        listas[i] = [tex.replace(col,\"\") for tex in lista]\n",
    "\n",
    "patrones = [\".  \\n\", \". \\n\", \" . \\n\", \".   \\n\", \"  \\n\", \": \"]\n",
    "\n",
    "for patron in patrones:\n",
    "    for i, lista in enumerate(listas):\n",
    "        listas[i] = [tex.replace(patron,\"\") for tex in lista]\n",
    "\n",
    "diccionario = {key: lista for key, lista in zip(keyList, listas)}\n",
    "data = pd.DataFrame(diccionario)\n"
   ],
   "metadata": {
    "collapsed": false,
    "ExecuteTime": {
     "end_time": "2023-10-13T21:09:51.816619900Z",
     "start_time": "2023-10-13T21:09:51.795709300Z"
    }
   },
   "id": "6a6e7811c36a5853"
  },
  {
   "cell_type": "code",
   "execution_count": null,
   "outputs": [],
   "source": [
    "#Conflicto en Arequipa no tiene actores secundarios --> print(results[\"Arequipa\"][31])\n",
    "#Conflicto en Cajamarca no tiene actores secundarios --> print(results[\"Cajamarca\"][13])\n",
    "#Conflicto en Cusco no tiene actores secundarios --> print(results[\"Cusco\"][4])\n",
    "#Conflicto en Cusco no tiene actores terciarios --> print(results[\"Cusco\"][112])\n",
    "#Conflicto en Lambayeque no tiene actores terciarios --> print(results[\"Lambayeque\"][13])\n",
    "#Conflicto en Moquegua no tiene actores terciarios --> print(results[\"Moquegua\"][05])\n",
    "#Conflicto en Piura no tiene actores terciarios --> print(results[\"Piura\"][50])\n",
    "#Conflicto en Puno no tiene actores terciarios --> print(results[\"Puno\"][32])"
   ],
   "metadata": {
    "collapsed": false
   },
   "id": "3d7eb2792f801ea3"
  }
 ],
 "metadata": {
  "kernelspec": {
   "display_name": "Python 3",
   "language": "python",
   "name": "python3"
  },
  "language_info": {
   "codemirror_mode": {
    "name": "ipython",
    "version": 2
   },
   "file_extension": ".py",
   "mimetype": "text/x-python",
   "name": "python",
   "nbconvert_exporter": "python",
   "pygments_lexer": "ipython2",
   "version": "2.7.6"
  }
 },
 "nbformat": 4,
 "nbformat_minor": 5
}

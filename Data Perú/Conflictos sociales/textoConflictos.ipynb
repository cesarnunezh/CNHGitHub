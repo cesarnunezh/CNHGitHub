{
 "cells": [
  {
   "cell_type": "code",
   "execution_count": 1,
   "id": "initial_id",
   "metadata": {
    "collapsed": true,
    "ExecuteTime": {
     "end_time": "2023-10-11T03:21:17.339387Z",
     "start_time": "2023-10-11T03:21:15.201147500Z"
    }
   },
   "outputs": [],
   "source": [
    "import PyPDF2\n",
    "import pandas as pd\n",
    "from unidecode import unidecode\n",
    "import re"
   ]
  },
  {
   "cell_type": "code",
   "execution_count": 4,
   "outputs": [],
   "source": [
    "#folder_path = \"C:/Users/User/Documents/GitHub/CNHGitHub/Data Perú/Conflictos sociales/pdf_reports_conflictos_sociales/\"\n",
    "folder_path = \"D:/1. Documentos/0. Bases de datos/0. Dofiles y Scripts/CNH_rep/Data Perú/Conflictos sociales/pdf_reports_conflictos_sociales/\"\n",
    "\n",
    "def extraeTextoPdf(pdfPath, textIni, textFin):\n",
    "    with open(pdfPath, 'rb') as pdfFile:\n",
    "        # Create a PDF reader object\n",
    "        pdfReader = PyPDF2.PdfReader(pdfFile)\n",
    "    \n",
    "        # Iterate through each page in the PDF\n",
    "        contPagesIni = 0\n",
    "        for pageNum in range(len(pdfReader.pages)):\n",
    "            # Extract text from the current page\n",
    "            page = pdfReader.pages[pageNum]\n",
    "            testText = page.extract_text()\n",
    "            if textIni in testText:\n",
    "                break\n",
    "            else:\n",
    "                contPagesIni += 1\n",
    "\n",
    "        contPagesFin = 0\n",
    "        for pageNum in range(len(pdfReader.pages)):\n",
    "            # Extract text from the current page\n",
    "            page = pdfReader.pages[pageNum]\n",
    "            testText = page.extract_text()\n",
    "            if textFin in testText:\n",
    "                break\n",
    "            else:\n",
    "                contPagesFin += 1\n",
    "        \n",
    "        # Initialize a variable to store the extracted text\n",
    "        extracted_text1 = ''\n",
    "        for pageNum in range(contPagesIni,contPagesFin +1):\n",
    "            # Extract text from the current page\n",
    "            page2 = pdfReader.pages[pageNum]\n",
    "            extracted_text1 += page2.extract_text()\n",
    "\n",
    "        patron = re.compile(f'{textIni}(.*?){textFin}', re.DOTALL)\n",
    "    \n",
    "        resultado = patron.search(extracted_text1)\n",
    "        extracted_text = resultado.group(1)\n",
    "    \n",
    "    return extracted_text\n",
    "       "
   ],
   "metadata": {
    "collapsed": false,
    "ExecuteTime": {
     "end_time": "2023-10-11T03:38:30.372500300Z",
     "start_time": "2023-10-11T03:38:30.354729400Z"
    }
   },
   "id": "1d27947fcf7b366a"
  },
  {
   "cell_type": "code",
   "execution_count": 5,
   "outputs": [],
   "source": [
    "# Open the PDF file in read-binary mode\n",
    "pdfPath = folder_path + '234_202_3.pdf'\n",
    "\n",
    "# En un solo departamento\n",
    "conflictosActivos1 = extraeTextoPdf(pdfPath = pdfPath, textIni = \"5.1 CONFLICTOS ACTIVOS\", textFin= \"5.2 CONFLICTOS\")\n",
    "\n",
    "# En más de un departamento\n",
    "conflictosActivos2  = extraeTextoPdf(pdfPath = pdfPath, textIni = \"5.2 CONFLICTOS\", textFin= \"5.3 CONFLICTOS\")\n",
    "\n",
    "# Reactivados\n",
    "conflictosReactivados = extraeTextoPdf(pdfPath = pdfPath, textIni = \"5.3 CONFLICTOS\", textFin= \"VI. DETALLE DE LOS CONFLI\")\n",
    "\n",
    "# Latentes\n",
    "conflictosLatentes = extraeTextoPdf(pdfPath = pdfPath, textIni = \"VI. DETALLE DE LOS CONFLI\", textFin= \"6.1 CONFLICTOS\")\n"
   ],
   "metadata": {
    "collapsed": false,
    "ExecuteTime": {
     "end_time": "2023-10-11T03:39:22.959415200Z",
     "start_time": "2023-10-11T03:38:33.768157600Z"
    }
   },
   "id": "80c0f472939ad7b6"
  },
  {
   "cell_type": "code",
   "execution_count": 6,
   "outputs": [],
   "source": [
    "encabezados = [\"Reporte Mensual de Conflictos Sociales N.° 234 – Agosto 2023\", \"ADJUNTÍA PARA LA  PREVENCIÓN DE CONFLICTOS SOCIALES Y LA GOBERNABILIDAD – DEFENSORÍA DEL PUEBL O\"]\n",
    "for word in encabezados:\n",
    "    conflictosActivos1 = conflictosActivos1.replace(word, \"\")\n",
    "\n",
    "conflictosActivos1 = unidecode(conflictosActivos1)"
   ],
   "metadata": {
    "collapsed": false,
    "ExecuteTime": {
     "end_time": "2023-10-11T03:55:49.284960100Z",
     "start_time": "2023-10-11T03:55:49.209661700Z"
    }
   },
   "id": "8c680577c60b30b7"
  },
  {
   "cell_type": "code",
   "execution_count": 7,
   "outputs": [],
   "source": [
    "departamentosPeru = [\n",
    "    \"Amazonas\",\n",
    "    \"Ancash\",\n",
    "    \"Apurimac\",\n",
    "    \"Arequipa\",\n",
    "    \"Ayacucho\",\n",
    "    \"Cajamarca\",\n",
    "    \"Callao\",\n",
    "    \"Cusco\",\n",
    "    \"Huancavelica\",\n",
    "    \"Huanuco\",\n",
    "    \"Ica\",\n",
    "    \"Junin\",\n",
    "    \"La Libertad\",\n",
    "    \"Lambayeque\",\n",
    "    \"Lima\",\n",
    "    \"Loreto\",\n",
    "    \"Madre de Dios\",\n",
    "    \"Moquegua\",\n",
    "    \"Pasco\",\n",
    "    \"Piura\",\n",
    "    \"Puno\",\n",
    "    \"San Martin\",\n",
    "    \"Tacna\",\n",
    "    \"Tumbes\",\n",
    "    \"Ucayali\"\n",
    "]"
   ],
   "metadata": {
    "collapsed": false,
    "ExecuteTime": {
     "end_time": "2023-10-11T03:55:53.114436300Z",
     "start_time": "2023-10-11T03:55:53.096815100Z"
    }
   },
   "id": "5104a3bffcbd87c9"
  },
  {
   "cell_type": "code",
   "execution_count": 8,
   "outputs": [],
   "source": [
    "results = {}\n",
    "\n",
    "# Identificar si los departamentos tienen conflictos\n",
    "dptos = []\n",
    "for dpto in departamentosPeru:\n",
    "    try:\n",
    "        encuentra = conflictosActivos1.index(dpto + \"  \")\n",
    "        dptos.append(dpto)\n",
    "    except:\n",
    "        continue\n",
    "\n",
    "# Agrupación por dptos\n",
    "nDpto = 0\n",
    "for dpto in dptos:\n",
    "    if dpto == dptos[-1]:\n",
    "        inicio = conflictosActivos1.index(dptos[nDpto] + \"  \")\n",
    "        fin = len(conflictosActivos1)\n",
    "        results[dpto] = {conflictosActivos1[inicio + len(dptos[nDpto] + \"  \")+1 :fin]}\n",
    "    else:\n",
    "        inicio = conflictosActivos1.index(dptos[nDpto] + \"  \")\n",
    "        fin = conflictosActivos1.index(dptos[nDpto + 1] + \"  \")\n",
    "        results[dpto] = {conflictosActivos1[inicio + len(dptos[nDpto] + \"  \")+1 :fin]}\n",
    "        nDpto = nDpto + 1\n",
    "\n",
    "    stopWords=[\"Tipo:\",\"Ingreso como caso nuevo:\", \"Caso:\",\"Ubicacion:\",\"Actores primarios:\", \"Actores secundarios:\",\"Actores terciarios:\",\"NOHAYDIALOGO\", \"HAY DIALOGO\"]\n",
    "    textoDpto = list(results[dpto])[0]\n",
    "\n",
    "    textoDpto = textoDpto.replace(\"Descripcion  Hechos del mes\", \"\")\n",
    "    textoDpto = textoDpto.replace(\"Hechos del mes  Hechos del mes\", \"\")\n",
    "    textoDpto = textoDpto.replace(\"CASO NUEVO\", \"\")\n",
    "    textoDpto = textoDpto.replace(\"Caso :\", \"Caso:\")\n",
    "    textoDpto = textoDpto.replace(\"Tipo :\", \"Tipo:\")\n",
    "    textoDpto = textoDpto.replace(\"Actores primarios :\", \"Actores primarios:\")\n",
    "    textoDpto = textoDpto.replace(\"Actore s primarios:\", \"Actores primarios:\")\n",
    "    textoDpto = textoDpto.replace(\"Actores p rimarios:\", \"Actores primarios:\")\n",
    "    textoDpto = textoDpto.replace(\"Actores pr imarios:\", \"Actores primarios:\")\n",
    "    textoDpto = textoDpto.replace(\"Actores pri marios :\", \"Actores primarios:\")\n",
    "    textoDpto = textoDpto.replace(\"Actores primari os:\", \"Actores primarios:\")\n",
    "    textoDpto = textoDpto.replace(\"Actores primar ios:\", \"Actores primarios:\")\n",
    "    textoDpto = textoDpto.replace(\"Actores secundarios :\", \"Actores secundarios:\")\n",
    "    textoDpto = textoDpto.replace(\"Actores  secundarios:\", \"Actores secundarios:\")\n",
    "    textoDpto = textoDpto.replace(\"Actores secunda rios:\", \"Actores secundarios:\")\n",
    "    textoDpto = textoDpto.replace(\"Actores secu ndarios:\", \"Actores secundarios:\")\n",
    "    textoDpto = textoDpto.replace(\"Actor es secundarios:\", \"Actores secundarios:\")\n",
    "    textoDpto = textoDpto.replace(\"Actores secundari os:\", \"Actores secundarios:\")\n",
    "    textoDpto = textoDpto.replace(\"Actores terciarios :\", \"Actores terciarios:\")\n",
    "    textoDpto = textoDpto.replace(\"Actores Terciarios:\", \"Actores terciarios:\")\n",
    "    textoDpto = textoDpto.replace(\"Actores tercia rios:\", \"Actores terciarios:\")\n",
    "    textoDpto = textoDpto.replace(\"Actores terc iarios:\", \"Actores terciarios:\")\n",
    "    textoDpto = textoDpto.replace(\"Actores te rciarios:\", \"Actores terciarios:\")\n",
    "    textoDpto = textoDpto.replace(\"Actor es terciarios:\", \"Actores terciarios:\")\n",
    "    textoDpto = textoDpto.replace(\"Actor es terciarios:\", \"Actores terciarios:\")\n",
    "    textoDpto = textoDpto.replace(\"Actor terciario :\", \"Actores terciarios:\")\n",
    "    textoDpto = textoDpto.replace(\"Actores t erciarios:\", \"Actores terciarios:\")\n",
    "    textoDpto = textoDpto.replace(\"Ubicacion :\", \"Ubicacion:\")\n",
    "    textoDpto = textoDpto.replace(\"Ubicaci on:\", \"Ubicacion:\")\n",
    "    textoDpto = textoDpto.replace(\"Ubicac ion:\", \"Ubicacion:\")\n",
    "    textoDpto = textoDpto.replace(\"Ingreso co mo caso nuevo:\", \"Ingreso como caso nuevo:\")\n",
    "    textoDpto = textoDpto.replace(\"Ingre so como caso nuevo:\", \"Ingreso como caso nuevo:\")\n",
    "    textoDpto = textoDpto.replace(\"Ingreso como caso nuevo :\", \"Ingreso como caso nuevo:\")\n",
    "    textoDpto = textoDpto.replace(\"Ingreso  como caso nuevo:\", \"Ingreso como caso nuevo:\")\n",
    "    textoDpto = textoDpto.replace(\"Ingreso como caso  nuevo:\", \"Ingreso como caso nuevo:\")\n",
    "    textoDpto = textoDpto.replace(\"NO HAY DIALOGO\", \"NOHAYDIALOGO\")\n",
    "    \n",
    "    \n",
    "    texto = textoDpto\n",
    "    texto = texto.split(\"Tipo:\")\n",
    "    texto = texto[1:]\n",
    "    texto = [\"Tipo:\" + elem for elem in texto]\n",
    "    \n",
    "    cont = 0\n",
    "    for tex in texto:\n",
    "        texConf = texto[cont]\n",
    "        for word in stopWords:\n",
    "            if word == \"NOHAYDIALOGO\" :\n",
    "                texConf = texConf.replace(word, \"|\" + \"Dialogo: NOHAYDIALOGO\" + \"|\")\n",
    "            elif word == \"HAY DIALOGO\":\n",
    "                texConf = texConf.replace(word, \"|\" + \"Dialogo: HAYDIALOGO\" + \"|\")\n",
    "            elif word == \"Actores primarios:\" or word == \"Actores secundarios:\" or word == \"Actores terciarios:\":\n",
    "                texConf = texConf.replace(word, \"|\" + word)\n",
    "            else:\n",
    "                texConf = texConf.replace(word, \"|\" + word)\n",
    "        texConf = texConf.split(\"|\")\n",
    "        texConf = texConf[1:]\n",
    "        texto[cont] = texConf\n",
    "        cont = cont +1\n",
    "    \n",
    "    results[dpto] = texto\n",
    "\n",
    "\n",
    "resultsIncomp = {}\n",
    "\n",
    "dptoList = []\n",
    "tipoList = []\n",
    "ingresoList = []\n",
    "casoList = []\n",
    "ubiList = []\n",
    "actPrimList = []\n",
    "actSecList = []\n",
    "actTerList = []\n",
    "dialogList = []\n",
    "detalleList = []\n",
    "\n",
    "for dpto in dptos:\n",
    "    listConf = results[dpto]\n",
    "    results[dpto] = [sorted(conf) for conf in listConf if len(conf) == 9]\n",
    "    resultsIncomp[dpto] = [sorted(conf) for conf in listConf if len(conf) != 9]\n",
    "    listConf = results[dpto]\n",
    "\n",
    "    for conf in listConf:\n",
    "        dptoList.append(dpto)\n",
    "        detalleList.append(conf[0])\n",
    "        actPrimList.append(conf[1])\n",
    "        actSecList.append(conf[2])\n",
    "        actTerList.append(conf[3])\n",
    "        casoList.append(conf[4])\n",
    "        dialogList.append(conf[5])\n",
    "        ingresoList.append(conf[6])\n",
    "        tipoList.append(conf[7])\n",
    "        ubiList.append(conf[8])\n",
    "\n",
    "\n",
    "listas = [dptoList, tipoList, ingresoList ,casoList, ubiList, actPrimList, actSecList, actTerList, dialogList, detalleList]\n",
    "keyList = [\"Dpto\", \"Tipo\", \"Ingreso como caso nuevo\", \"Caso\", \"Ubicacion\",\"Actores primarios\", \"Actores secundarios\", \"Actores terciarios\",\"Diálogo\", \"Detalle del mes\"]\n",
    "diccionario = {key: lista for key, lista in zip(keyList, listas)}\n",
    "data = pd.DataFrame(diccionario)\n",
    "\n"
   ],
   "metadata": {
    "collapsed": false,
    "ExecuteTime": {
     "end_time": "2023-10-11T03:56:00.836672300Z",
     "start_time": "2023-10-11T03:56:00.801801100Z"
    }
   },
   "id": "6a6e7811c36a5853"
  },
  {
   "cell_type": "code",
   "execution_count": 8,
   "outputs": [],
   "source": [],
   "metadata": {
    "collapsed": false,
    "ExecuteTime": {
     "end_time": "2023-10-10T23:16:59.699727700Z",
     "start_time": "2023-10-10T23:16:57.936587Z"
    }
   },
   "id": "8bf8630060fbedf1"
  },
  {
   "cell_type": "code",
   "execution_count": 56,
   "outputs": [
    {
     "name": "stdout",
     "output_type": "stream",
     "text": [
      "Actores primarios: Coordinadora Regional de los Pueblos \n",
      "Indigenas de AIDESEP Atalaya (CORPIAA), Organizacion \n",
      "Indigena de la Region Atalaya  (OIRA), Federacion Asheninka \n",
      "de la Cuenca del Rio Unini (FACRU), Organizacion Indigena \n",
      "Yines de la Provincia de Atalaya (OIYPA), Federacion \n",
      "Ashaninka Bajo Urubamba (FABU), Federacion de \n",
      "Comunidades Nativas del Distrito de Sepahua (FECONADIS), \n",
      "Federacion d e Comunidades Nativas Asheninkas de la \n",
      "Provincia de Atalaya (FECONAPA),Federacion de Mujeres \n",
      "Indigenas de la Provincia de Atalaya (FEMIPA),Union Regional \n",
      "de Pueblos Indigenas de la Amazonia (URPIA),Confederacion \n"
     ]
    }
   ],
   "source": [
    "#Conflicto en Arequipa no tiene actores secundarios --> print(results[\"Arequipa\"][31])\n",
    "#Conflicto en Cajamarca no tiene actores secundarios --> print(results[\"Cajamarca\"][13])\n",
    "#Conflicto en Cusco no tiene actores secundarios --> print(results[\"Cusco\"][4])\n",
    "#Conflicto en Cusco no tiene actores terciarios --> print(results[\"Cusco\"][112])\n",
    "#Conflicto en Lambayeque no tiene actores terciarios --> print(results[\"Lambayeque\"][13])\n",
    "#Conflicto en Moquegua no tiene actores terciarios --> print(results[\"Moquegua\"][05])\n",
    "#Conflicto en Piura no tiene actores terciarios --> print(results[\"Piura\"][50])\n",
    "#Conflicto en Puno no tiene actores terciarios --> print(results[\"Puno\"][32])"
   ],
   "metadata": {
    "collapsed": false,
    "ExecuteTime": {
     "end_time": "2023-10-10T18:06:25.150443200Z",
     "start_time": "2023-10-10T18:06:25.123809500Z"
    }
   },
   "id": "3d7eb2792f801ea3"
  },
  {
   "cell_type": "code",
   "execution_count": 10,
   "outputs": [],
   "source": [],
   "metadata": {
    "collapsed": false,
    "ExecuteTime": {
     "start_time": "2023-10-10T17:03:24.532871800Z"
    }
   },
   "id": "e2e30737ef6b5317"
  }
 ],
 "metadata": {
  "kernelspec": {
   "display_name": "Python 3",
   "language": "python",
   "name": "python3"
  },
  "language_info": {
   "codemirror_mode": {
    "name": "ipython",
    "version": 2
   },
   "file_extension": ".py",
   "mimetype": "text/x-python",
   "name": "python",
   "nbconvert_exporter": "python",
   "pygments_lexer": "ipython2",
   "version": "2.7.6"
  }
 },
 "nbformat": 4,
 "nbformat_minor": 5
}

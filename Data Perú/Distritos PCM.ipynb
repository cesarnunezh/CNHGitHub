{
 "cells": [
  {
   "cell_type": "code",
   "execution_count": 6,
   "outputs": [],
   "source": [
    "import os\n",
    "import pytesseract"
   ],
   "metadata": {
    "collapsed": false,
    "ExecuteTime": {
     "end_time": "2023-08-24T21:09:35.624583400Z",
     "start_time": "2023-08-24T21:09:34.809499400Z"
    }
   },
   "id": "6c05c9d272466db4"
  },
  {
   "cell_type": "code",
   "execution_count": 12,
   "outputs": [],
   "source": [
    "os.chdir(\"C:/Users/User/Downloads/\")\n",
    "folder_path = \"C:/Users/User/Downloads/ilovepdf_extracted-pages/\"\n",
    "pdf_path = folder_path + 'RV_N_005-2019-PCM-DVGT-47.pdf'\n",
    "\n"
   ],
   "metadata": {
    "collapsed": false,
    "ExecuteTime": {
     "end_time": "2023-08-24T21:16:32.910085300Z",
     "start_time": "2023-08-24T21:16:32.892450900Z"
    }
   },
   "id": "de331c83dd1db49c"
  },
  {
   "cell_type": "code",
   "execution_count": 13,
   "outputs": [],
   "source": [
    "import re\n",
    "import pandas as pd\n",
    "from tabula import read_pdf\n",
    "\n",
    "# Process OCR output to identify tables\n",
    "table_data = []\n",
    "\n",
    "for ocr_text in ocr_output:\n",
    "    # Process each page's OCR output to identify tables\n",
    "    # You might need to adapt this code to your specific case\n",
    "    # Use regular expressions or other methods to identify tables in the text\n",
    "    table_text = ...  # Extracted table text\n",
    "    table_data.append(table_text)\n",
    "\n",
    "# Convert extracted data to a pandas DataFrame\n",
    "df_list = []\n",
    "\n",
    "for table_text in table_data:\n",
    "    df = read_pdf(table_text, pages='all')  # Use tabula to parse tables\n",
    "    df_list.append(df)\n",
    "\n",
    "combined_df = pd.concat(df_list, ignore_index=True)"
   ],
   "metadata": {
    "collapsed": false,
    "ExecuteTime": {
     "end_time": "2023-08-24T21:16:35.377817800Z",
     "start_time": "2023-08-24T21:16:34.670394200Z"
    }
   },
   "id": "fd31b5a7bf5ac4fc"
  }
 ],
 "metadata": {
  "kernelspec": {
   "display_name": "Python 3",
   "language": "python",
   "name": "python3"
  },
  "language_info": {
   "codemirror_mode": {
    "name": "ipython",
    "version": 2
   },
   "file_extension": ".py",
   "mimetype": "text/x-python",
   "name": "python",
   "nbconvert_exporter": "python",
   "pygments_lexer": "ipython2",
   "version": "2.7.6"
  }
 },
 "nbformat": 4,
 "nbformat_minor": 5
}

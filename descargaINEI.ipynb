{
 "cells": [
  {
   "cell_type": "code",
   "execution_count": 30,
   "id": "d90b956888cbc61b",
   "metadata": {
    "collapsed": false,
    "ExecuteTime": {
     "end_time": "2024-07-16T20:56:53.043999100Z",
     "start_time": "2024-07-16T20:56:53.035185900Z"
    }
   },
   "outputs": [],
   "source": [
    "import requests\n",
    "import zipfile\n",
    "import os\n",
    "import shutil\n",
    "from jedi.api import file_name"
   ]
  },
  {
   "cell_type": "code",
   "outputs": [],
   "source": [
    "def copiar_archivos(origen, destino, sufijo):\n",
    "    # Verificar si la carpeta de destino existe, si no, crearla\n",
    "    if not os.path.exists(destino):\n",
    "        os.makedirs(destino)\n",
    "\n",
    "    # Recorrer todos los archivos en la carpeta de origen\n",
    "    for archivo_nombre in os.listdir(origen):\n",
    "        # Crear las rutas completas para el archivo de origen y destino\n",
    "        ruta_archivo_origen = os.path.join(origen, archivo_nombre)\n",
    "        ruta_archivo_destino = os.path.join(destino, archivo_nombre)\n",
    "\n",
    "        # Verificar si es un archivo (y no una carpeta) y si empieza con el prefijo\n",
    "        if os.path.isfile(ruta_archivo_origen) and archivo_nombre.endswith(sufijo):\n",
    "            # Copiar el archivo\n",
    "            shutil.copy2(ruta_archivo_origen, ruta_archivo_destino)\n",
    "            print(f'Archivo copiado: {ruta_archivo_origen} a {ruta_archivo_destino}')\n",
    "        else:\n",
    "            print(f'Omitido: {ruta_archivo_origen}')"
   ],
   "metadata": {
    "collapsed": false,
    "ExecuteTime": {
     "end_time": "2024-07-16T20:56:54.315937700Z",
     "start_time": "2024-07-16T20:56:54.306105200Z"
    }
   },
   "id": "f51a64f6dbec88bc",
   "execution_count": 31
  },
  {
   "cell_type": "code",
   "outputs": [],
   "source": [
    "extract_dir = r'C:\\Users\\User\\Downloads\\DENAPRES'\n",
    "\n",
    "listEncuestas = ['626', '684', '736', '761', '785', '903']\n",
    "listModulos = {'903' : ['1815', '1816'],\n",
    "               '785': ['1727', '1728'],\n",
    "               '761': ['1675', '1676'],\n",
    "               '736': ['1618', '1619'],\n",
    "               '684': ['1490', '1491'],\n",
    "               '626': ['1370', '1371']}"
   ],
   "metadata": {
    "collapsed": false,
    "ExecuteTime": {
     "end_time": "2024-07-16T20:56:56.052993200Z",
     "start_time": "2024-07-16T20:56:56.043590500Z"
    }
   },
   "id": "48d223c76fd82ef7",
   "execution_count": 32
  },
  {
   "cell_type": "code",
   "outputs": [
    {
     "name": "stdout",
     "output_type": "stream",
     "text": [
      "Archivo extraído en: C:\\Users\\User\\Downloads\\DENAPRES\n",
      "Archivo extraído en: C:\\Users\\User\\Downloads\\DENAPRES\n",
      "Archivo extraído en: C:\\Users\\User\\Downloads\\DENAPRES\n",
      "Archivo extraído en: C:\\Users\\User\\Downloads\\DENAPRES\n",
      "Archivo extraído en: C:\\Users\\User\\Downloads\\DENAPRES\n",
      "Archivo extraído en: C:\\Users\\User\\Downloads\\DENAPRES\n",
      "Archivo extraído en: C:\\Users\\User\\Downloads\\DENAPRES\n",
      "Archivo extraído en: C:\\Users\\User\\Downloads\\DENAPRES\n",
      "Archivo extraído en: C:\\Users\\User\\Downloads\\DENAPRES\n",
      "Archivo extraído en: C:\\Users\\User\\Downloads\\DENAPRES\n",
      "Archivo extraído en: C:\\Users\\User\\Downloads\\DENAPRES\n",
      "Archivo extraído en: C:\\Users\\User\\Downloads\\DENAPRES\n"
     ]
    }
   ],
   "source": [
    "for encuesta in listEncuestas:\n",
    "    for mod in listModulos[encuesta]:\n",
    "        url = f'https://proyectos.inei.gob.pe/iinei/srienaho/descarga/SPSS/{encuesta}-Modulo{mod}.zip'\n",
    "        zip_path = f'C:/Users/User/Downloads/{encuesta}-Modulo{mod}.zip'\n",
    "\n",
    "        # Descargar el archivo ZIP\n",
    "        response = requests.get(url)\n",
    "        with open(zip_path, 'wb') as file:\n",
    "            file.write(response.content)\n",
    "    \n",
    "        # Crear el directorio de extracción si no existe\n",
    "        os.makedirs(extract_dir, exist_ok=True)\n",
    "    \n",
    "        # Extraer el archivo ZIP\n",
    "        with zipfile.ZipFile(zip_path, 'r') as zip_ref:\n",
    "            zip_ref.extractall(extract_dir)\n",
    "    \n",
    "        print(f'Archivo extraído en: {extract_dir}')"
   ],
   "metadata": {
    "collapsed": false,
    "ExecuteTime": {
     "end_time": "2024-07-16T20:58:19.090437100Z",
     "start_time": "2024-07-16T20:57:44.815186400Z"
    }
   },
   "id": "deb27234d9bea59d",
   "execution_count": 34
  },
  {
   "cell_type": "code",
   "outputs": [
    {
     "name": "stdout",
     "output_type": "stream",
     "text": [
      "Archivo copiado: C:\\Users\\User\\Downloads\\DENAPRES/626-Modulo1370\\CAP100_URBANO_RURAL_3.sav a C:\\Users\\User\\Downloads\\DENAPRES\\CAP100_URBANO_RURAL_3.sav\n",
      "Omitido: C:\\Users\\User\\Downloads\\DENAPRES/626-Modulo1370\\CUESTIONARIO_CAP_100_RURAL.pdf\n",
      "Omitido: C:\\Users\\User\\Downloads\\DENAPRES/626-Modulo1370\\CUESTIONARIO_CAP_100_URBANO.pdf\n",
      "Omitido: C:\\Users\\User\\Downloads\\DENAPRES/626-Modulo1370\\DICCIONARIO_DATOS_CAP_100_URBANO_RURAL.pdf\n",
      "Archivo copiado: C:\\Users\\User\\Downloads\\DENAPRES/626-Modulo1371\\CAP_200_URBANO_RURAL_4.sav a C:\\Users\\User\\Downloads\\DENAPRES\\CAP_200_URBANO_RURAL_4.sav\n",
      "Omitido: C:\\Users\\User\\Downloads\\DENAPRES/626-Modulo1371\\CUESTIONARIO_CAP_200_RURAL.pdf\n",
      "Omitido: C:\\Users\\User\\Downloads\\DENAPRES/626-Modulo1371\\CUESTIONARIO_CAP_200_URBANO.pdf\n",
      "Omitido: C:\\Users\\User\\Downloads\\DENAPRES/626-Modulo1371\\DICCIONARIO_DATOS_CAP_200_URBANO_RURAL.pdf\n",
      "Archivo copiado: C:\\Users\\User\\Downloads\\DENAPRES/684-Modulo1490\\CAP100_URBANO_RURAL_2019.sav a C:\\Users\\User\\Downloads\\DENAPRES\\CAP100_URBANO_RURAL_2019.sav\n",
      "Omitido: C:\\Users\\User\\Downloads\\DENAPRES/684-Modulo1490\\CUESTIONARIO_CAP_100_RURAL.pdf\n",
      "Omitido: C:\\Users\\User\\Downloads\\DENAPRES/684-Modulo1490\\CUESTIONARIO_CAP_100_URBANO.pdf\n",
      "Omitido: C:\\Users\\User\\Downloads\\DENAPRES/684-Modulo1490\\DICCIONARIO DE VARIABLES 2019 - CAP100.pdf\n",
      "Archivo copiado: C:\\Users\\User\\Downloads\\DENAPRES/684-Modulo1491\\CAP_200_URBANO_RURAL_4.sav a C:\\Users\\User\\Downloads\\DENAPRES\\CAP_200_URBANO_RURAL_4.sav\n",
      "Omitido: C:\\Users\\User\\Downloads\\DENAPRES/684-Modulo1491\\CUESTIONARIO_CAP_200_RURAL.pdf\n",
      "Omitido: C:\\Users\\User\\Downloads\\DENAPRES/684-Modulo1491\\CUESTIONARIO_CAP_200_URBANO.pdf\n",
      "Omitido: C:\\Users\\User\\Downloads\\DENAPRES/684-Modulo1491\\DICCIONARIO DE VARIABLES 2019 - CAP200.pdf\n",
      "Archivo copiado: C:\\Users\\User\\Downloads\\DENAPRES/736-Modulo1618\\CAP100_URBANO_RURAL_3.sav a C:\\Users\\User\\Downloads\\DENAPRES\\CAP100_URBANO_RURAL_3.sav\n",
      "Omitido: C:\\Users\\User\\Downloads\\DENAPRES/736-Modulo1618\\CUESTIONARIO_CAP_100_RURAL.pdf\n",
      "Omitido: C:\\Users\\User\\Downloads\\DENAPRES/736-Modulo1618\\CUESTIONARIO_CAP_100_URBANO.pdf\n",
      "Omitido: C:\\Users\\User\\Downloads\\DENAPRES/736-Modulo1618\\DICCIONARIO DE VARIABLES 2020 - CAP100.pdf\n",
      "Archivo copiado: C:\\Users\\User\\Downloads\\DENAPRES/736-Modulo1619\\CAP_200_URBANO_RURAL_4.sav a C:\\Users\\User\\Downloads\\DENAPRES\\CAP_200_URBANO_RURAL_4.sav\n",
      "Omitido: C:\\Users\\User\\Downloads\\DENAPRES/736-Modulo1619\\CUESTIONARIO_CAP_200_RURAL.pdf\n",
      "Omitido: C:\\Users\\User\\Downloads\\DENAPRES/736-Modulo1619\\CUESTIONARIO_CAP_200_URBANO.pdf\n",
      "Omitido: C:\\Users\\User\\Downloads\\DENAPRES/736-Modulo1619\\DICCIONARIO DE VARIABLES 2020 - CAP200.pdf\n",
      "Archivo copiado: C:\\Users\\User\\Downloads\\DENAPRES/761-Modulo1675\\CAP100_URBANO_RURAL_3.sav a C:\\Users\\User\\Downloads\\DENAPRES\\CAP100_URBANO_RURAL_3.sav\n",
      "Omitido: C:\\Users\\User\\Downloads\\DENAPRES/761-Modulo1675\\CUESTIONARIO_CAP_100_RURAL.pdf\n",
      "Omitido: C:\\Users\\User\\Downloads\\DENAPRES/761-Modulo1675\\CUESTIONARIO_CAP_100_URBANO.pdf\n",
      "Omitido: C:\\Users\\User\\Downloads\\DENAPRES/761-Modulo1675\\DICCIONARIO DE VARIABLES 2021 - CAP100.pdf\n",
      "Archivo copiado: C:\\Users\\User\\Downloads\\DENAPRES/761-Modulo1676\\CAP_200_URBANO_RURAL_4.sav a C:\\Users\\User\\Downloads\\DENAPRES\\CAP_200_URBANO_RURAL_4.sav\n",
      "Omitido: C:\\Users\\User\\Downloads\\DENAPRES/761-Modulo1676\\CUESTIONARIO_CAP_200_RURAL.pdf\n",
      "Omitido: C:\\Users\\User\\Downloads\\DENAPRES/761-Modulo1676\\CUESTIONARIO_CAP_200_URBANO.pdf\n",
      "Omitido: C:\\Users\\User\\Downloads\\DENAPRES/761-Modulo1676\\DICCIONARIO DE VARIABLES 2021 - CAP200.pdf\n",
      "Archivo copiado: C:\\Users\\User\\Downloads\\DENAPRES/785-Modulo1727\\CAP_100_URBANO_RURAL_3.sav a C:\\Users\\User\\Downloads\\DENAPRES\\CAP_100_URBANO_RURAL_3.sav\n",
      "Omitido: C:\\Users\\User\\Downloads\\DENAPRES/785-Modulo1727\\CUESTIONARIO_CAP_100_RURAL.pdf\n",
      "Omitido: C:\\Users\\User\\Downloads\\DENAPRES/785-Modulo1727\\CUESTIONARIO_CAP_100_URBANO.pdf\n",
      "Omitido: C:\\Users\\User\\Downloads\\DENAPRES/785-Modulo1727\\DICCIONARIO DE VARIABLES 2022 - CAP100.pdf\n",
      "Archivo copiado: C:\\Users\\User\\Downloads\\DENAPRES/785-Modulo1728\\CAP_200_URBANO_RURAL_4.sav a C:\\Users\\User\\Downloads\\DENAPRES\\CAP_200_URBANO_RURAL_4.sav\n",
      "Omitido: C:\\Users\\User\\Downloads\\DENAPRES/785-Modulo1728\\CUESTIONARIO_CAP_200_RURAL.pdf\n",
      "Omitido: C:\\Users\\User\\Downloads\\DENAPRES/785-Modulo1728\\CUESTIONARIO_CAP_200_URBANO.pdf\n",
      "Omitido: C:\\Users\\User\\Downloads\\DENAPRES/785-Modulo1728\\DICCIONARIO DE VARIABLES 2022 - CAP200.pdf\n",
      "Archivo copiado: C:\\Users\\User\\Downloads\\DENAPRES/903-Modulo1815\\CAP_100_URBANO_RURAL_3.sav a C:\\Users\\User\\Downloads\\DENAPRES\\CAP_100_URBANO_RURAL_3.sav\n",
      "Omitido: C:\\Users\\User\\Downloads\\DENAPRES/903-Modulo1815\\CUESTIONARIO_CAP_100_RURAL.pdf\n",
      "Omitido: C:\\Users\\User\\Downloads\\DENAPRES/903-Modulo1815\\CUESTIONARIO_CAP_100_URBANO.pdf\n",
      "Omitido: C:\\Users\\User\\Downloads\\DENAPRES/903-Modulo1815\\DICCIONARIO DE VARIABLES 2023 - CAP100.pdf\n",
      "Archivo copiado: C:\\Users\\User\\Downloads\\DENAPRES/903-Modulo1816\\CAP_200_URBANO_RURAL_4.sav a C:\\Users\\User\\Downloads\\DENAPRES\\CAP_200_URBANO_RURAL_4.sav\n",
      "Omitido: C:\\Users\\User\\Downloads\\DENAPRES/903-Modulo1816\\CUESTIONARIO_CAP_200_RURAL.pdf\n",
      "Omitido: C:\\Users\\User\\Downloads\\DENAPRES/903-Modulo1816\\CUESTIONARIO_CAP_200_URBANO.pdf\n",
      "Omitido: C:\\Users\\User\\Downloads\\DENAPRES/903-Modulo1816\\DICCIONARIO DE VARIABLES 2023 - CAP200.pdf\n"
     ]
    }
   ],
   "source": [
    "for encuesta in listEncuestas:\n",
    "    for mod in listModulos[encuesta]:\n",
    "        try:\n",
    "            fileName = f'{encuesta}-Modulo{mod}'\n",
    "            path = extract_dir + '/' + fileName\n",
    "            copiar_archivos(path, extract_dir, '.sav')\n",
    "        except:\n",
    "            continue"
   ],
   "metadata": {
    "collapsed": true,
    "ExecuteTime": {
     "end_time": "2024-07-16T20:58:34.630422800Z",
     "start_time": "2024-07-16T20:58:34.295910400Z"
    }
   },
   "id": "initial_id",
   "execution_count": 35
  },
  {
   "cell_type": "code",
   "outputs": [],
   "source": [
    "files = os.listdir(extract_dir)"
   ],
   "metadata": {
    "collapsed": false,
    "ExecuteTime": {
     "end_time": "2024-07-16T17:51:21.555419500Z",
     "start_time": "2024-07-16T17:51:21.544897100Z"
    }
   },
   "id": "401fcbe3ed2d19fd",
   "execution_count": 26
  },
  {
   "cell_type": "code",
   "outputs": [],
   "source": [
    "oldnames = [x for x in files if x.endswith('.dbf')]\n",
    "newnames = [x.lower() for x in files if x.endswith('.dbf')]"
   ],
   "metadata": {
    "collapsed": false,
    "ExecuteTime": {
     "end_time": "2024-07-16T17:51:30.248830800Z",
     "start_time": "2024-07-16T17:51:30.246169800Z"
    }
   },
   "id": "aef5f41284aeb179",
   "execution_count": 27
  },
  {
   "cell_type": "code",
   "outputs": [],
   "source": [
    "os.chdir(extract_dir)\n",
    "\n",
    "for i, file in enumerate(oldnames):\n",
    "    os.rename(file, newnames[i])"
   ],
   "metadata": {
    "collapsed": false,
    "ExecuteTime": {
     "end_time": "2024-07-16T17:51:37.338148100Z",
     "start_time": "2024-07-16T17:51:37.326712900Z"
    }
   },
   "id": "7e285880fa2fe638",
   "execution_count": 28
  },
  {
   "cell_type": "code",
   "outputs": [
    {
     "name": "stdout",
     "output_type": "stream",
     "text": [
      "Omitido: C:\\Users\\User\\Downloads\\DENAPRES\\626-Modulo1370\n",
      "Omitido: C:\\Users\\User\\Downloads\\DENAPRES\\626-Modulo1371\n",
      "Omitido: C:\\Users\\User\\Downloads\\DENAPRES\\684-Modulo1490\n",
      "Omitido: C:\\Users\\User\\Downloads\\DENAPRES\\684-Modulo1491\n",
      "Omitido: C:\\Users\\User\\Downloads\\DENAPRES\\736-Modulo1618\n",
      "Omitido: C:\\Users\\User\\Downloads\\DENAPRES\\736-Modulo1619\n",
      "Omitido: C:\\Users\\User\\Downloads\\DENAPRES\\761-Modulo1675\n",
      "Omitido: C:\\Users\\User\\Downloads\\DENAPRES\\761-Modulo1676\n",
      "Omitido: C:\\Users\\User\\Downloads\\DENAPRES\\785-Modulo1727\n",
      "Omitido: C:\\Users\\User\\Downloads\\DENAPRES\\785-Modulo1728\n",
      "Omitido: C:\\Users\\User\\Downloads\\DENAPRES\\903-Modulo1815\n",
      "Omitido: C:\\Users\\User\\Downloads\\DENAPRES\\903-Modulo1816\n",
      "Archivo copiado: C:\\Users\\User\\Downloads\\DENAPRES\\cap100_urbano_rural_1_2019.dbf a C:\\Users\\User\\OneDrive - MIGRACIÓN VIDENZA\\1. Proyectos\\1. Proyectos actuales\\25. ASEI - Propuestas Vivienda\\0. Insumos\\ENAPRES\\cap100_urbano_rural_1_2019.dbf\n",
      "Archivo copiado: C:\\Users\\User\\Downloads\\DENAPRES\\cap100_urbano_rural_2_2019.dbf a C:\\Users\\User\\OneDrive - MIGRACIÓN VIDENZA\\1. Proyectos\\1. Proyectos actuales\\25. ASEI - Propuestas Vivienda\\0. Insumos\\ENAPRES\\cap100_urbano_rural_2_2019.dbf\n",
      "Archivo copiado: C:\\Users\\User\\Downloads\\DENAPRES\\cap100_urbano_rural_3_1_2018.dbf a C:\\Users\\User\\OneDrive - MIGRACIÓN VIDENZA\\1. Proyectos\\1. Proyectos actuales\\25. ASEI - Propuestas Vivienda\\0. Insumos\\ENAPRES\\cap100_urbano_rural_3_1_2018.dbf\n",
      "Archivo copiado: C:\\Users\\User\\Downloads\\DENAPRES\\cap100_urbano_rural_3_1_2020.dbf a C:\\Users\\User\\OneDrive - MIGRACIÓN VIDENZA\\1. Proyectos\\1. Proyectos actuales\\25. ASEI - Propuestas Vivienda\\0. Insumos\\ENAPRES\\cap100_urbano_rural_3_1_2020.dbf\n",
      "Archivo copiado: C:\\Users\\User\\Downloads\\DENAPRES\\cap100_urbano_rural_3_1_2021.dbf a C:\\Users\\User\\OneDrive - MIGRACIÓN VIDENZA\\1. Proyectos\\1. Proyectos actuales\\25. ASEI - Propuestas Vivienda\\0. Insumos\\ENAPRES\\cap100_urbano_rural_3_1_2021.dbf\n",
      "Archivo copiado: C:\\Users\\User\\Downloads\\DENAPRES\\cap100_urbano_rural_3_2019.dbf a C:\\Users\\User\\OneDrive - MIGRACIÓN VIDENZA\\1. Proyectos\\1. Proyectos actuales\\25. ASEI - Propuestas Vivienda\\0. Insumos\\ENAPRES\\cap100_urbano_rural_3_2019.dbf\n",
      "Archivo copiado: C:\\Users\\User\\Downloads\\DENAPRES\\cap100_urbano_rural_3_2_2018.dbf a C:\\Users\\User\\OneDrive - MIGRACIÓN VIDENZA\\1. Proyectos\\1. Proyectos actuales\\25. ASEI - Propuestas Vivienda\\0. Insumos\\ENAPRES\\cap100_urbano_rural_3_2_2018.dbf\n",
      "Archivo copiado: C:\\Users\\User\\Downloads\\DENAPRES\\cap100_urbano_rural_3_2_2020.dbf a C:\\Users\\User\\OneDrive - MIGRACIÓN VIDENZA\\1. Proyectos\\1. Proyectos actuales\\25. ASEI - Propuestas Vivienda\\0. Insumos\\ENAPRES\\cap100_urbano_rural_3_2_2020.dbf\n",
      "Archivo copiado: C:\\Users\\User\\Downloads\\DENAPRES\\cap100_urbano_rural_3_2_2021.dbf a C:\\Users\\User\\OneDrive - MIGRACIÓN VIDENZA\\1. Proyectos\\1. Proyectos actuales\\25. ASEI - Propuestas Vivienda\\0. Insumos\\ENAPRES\\cap100_urbano_rural_3_2_2021.dbf\n",
      "Archivo copiado: C:\\Users\\User\\Downloads\\DENAPRES\\cap100_urbano_rural_3_3_2018.dbf a C:\\Users\\User\\OneDrive - MIGRACIÓN VIDENZA\\1. Proyectos\\1. Proyectos actuales\\25. ASEI - Propuestas Vivienda\\0. Insumos\\ENAPRES\\cap100_urbano_rural_3_3_2018.dbf\n",
      "Archivo copiado: C:\\Users\\User\\Downloads\\DENAPRES\\cap100_urbano_rural_3_3_2020.dbf a C:\\Users\\User\\OneDrive - MIGRACIÓN VIDENZA\\1. Proyectos\\1. Proyectos actuales\\25. ASEI - Propuestas Vivienda\\0. Insumos\\ENAPRES\\cap100_urbano_rural_3_3_2020.dbf\n",
      "Archivo copiado: C:\\Users\\User\\Downloads\\DENAPRES\\cap100_urbano_rural_3_3_2021.dbf a C:\\Users\\User\\OneDrive - MIGRACIÓN VIDENZA\\1. Proyectos\\1. Proyectos actuales\\25. ASEI - Propuestas Vivienda\\0. Insumos\\ENAPRES\\cap100_urbano_rural_3_3_2021.dbf\n",
      "Archivo copiado: C:\\Users\\User\\Downloads\\DENAPRES\\cap100_urbano_rural_3_4_2018.dbf a C:\\Users\\User\\OneDrive - MIGRACIÓN VIDENZA\\1. Proyectos\\1. Proyectos actuales\\25. ASEI - Propuestas Vivienda\\0. Insumos\\ENAPRES\\cap100_urbano_rural_3_4_2018.dbf\n",
      "Archivo copiado: C:\\Users\\User\\Downloads\\DENAPRES\\cap100_urbano_rural_3_4_2020.dbf a C:\\Users\\User\\OneDrive - MIGRACIÓN VIDENZA\\1. Proyectos\\1. Proyectos actuales\\25. ASEI - Propuestas Vivienda\\0. Insumos\\ENAPRES\\cap100_urbano_rural_3_4_2020.dbf\n",
      "Archivo copiado: C:\\Users\\User\\Downloads\\DENAPRES\\cap100_urbano_rural_3_4_2021.dbf a C:\\Users\\User\\OneDrive - MIGRACIÓN VIDENZA\\1. Proyectos\\1. Proyectos actuales\\25. ASEI - Propuestas Vivienda\\0. Insumos\\ENAPRES\\cap100_urbano_rural_3_4_2021.dbf\n",
      "Archivo copiado: C:\\Users\\User\\Downloads\\DENAPRES\\cap100_urbano_rural_3_5_2018.dbf a C:\\Users\\User\\OneDrive - MIGRACIÓN VIDENZA\\1. Proyectos\\1. Proyectos actuales\\25. ASEI - Propuestas Vivienda\\0. Insumos\\ENAPRES\\cap100_urbano_rural_3_5_2018.dbf\n",
      "Archivo copiado: C:\\Users\\User\\Downloads\\DENAPRES\\cap100_urbano_rural_4_2019.dbf a C:\\Users\\User\\OneDrive - MIGRACIÓN VIDENZA\\1. Proyectos\\1. Proyectos actuales\\25. ASEI - Propuestas Vivienda\\0. Insumos\\ENAPRES\\cap100_urbano_rural_4_2019.dbf\n",
      "Archivo copiado: C:\\Users\\User\\Downloads\\DENAPRES\\cap_100_urbano_rural_3_1_2022.dbf a C:\\Users\\User\\OneDrive - MIGRACIÓN VIDENZA\\1. Proyectos\\1. Proyectos actuales\\25. ASEI - Propuestas Vivienda\\0. Insumos\\ENAPRES\\cap_100_urbano_rural_3_1_2022.dbf\n",
      "Archivo copiado: C:\\Users\\User\\Downloads\\DENAPRES\\cap_100_urbano_rural_3_1_2023.dbf a C:\\Users\\User\\OneDrive - MIGRACIÓN VIDENZA\\1. Proyectos\\1. Proyectos actuales\\25. ASEI - Propuestas Vivienda\\0. Insumos\\ENAPRES\\cap_100_urbano_rural_3_1_2023.dbf\n",
      "Archivo copiado: C:\\Users\\User\\Downloads\\DENAPRES\\cap_100_urbano_rural_3_2_2022.dbf a C:\\Users\\User\\OneDrive - MIGRACIÓN VIDENZA\\1. Proyectos\\1. Proyectos actuales\\25. ASEI - Propuestas Vivienda\\0. Insumos\\ENAPRES\\cap_100_urbano_rural_3_2_2022.dbf\n",
      "Archivo copiado: C:\\Users\\User\\Downloads\\DENAPRES\\cap_100_urbano_rural_3_2_2023.dbf a C:\\Users\\User\\OneDrive - MIGRACIÓN VIDENZA\\1. Proyectos\\1. Proyectos actuales\\25. ASEI - Propuestas Vivienda\\0. Insumos\\ENAPRES\\cap_100_urbano_rural_3_2_2023.dbf\n",
      "Archivo copiado: C:\\Users\\User\\Downloads\\DENAPRES\\cap_100_urbano_rural_3_3_2022.dbf a C:\\Users\\User\\OneDrive - MIGRACIÓN VIDENZA\\1. Proyectos\\1. Proyectos actuales\\25. ASEI - Propuestas Vivienda\\0. Insumos\\ENAPRES\\cap_100_urbano_rural_3_3_2022.dbf\n",
      "Archivo copiado: C:\\Users\\User\\Downloads\\DENAPRES\\cap_100_urbano_rural_3_3_2023.dbf a C:\\Users\\User\\OneDrive - MIGRACIÓN VIDENZA\\1. Proyectos\\1. Proyectos actuales\\25. ASEI - Propuestas Vivienda\\0. Insumos\\ENAPRES\\cap_100_urbano_rural_3_3_2023.dbf\n",
      "Archivo copiado: C:\\Users\\User\\Downloads\\DENAPRES\\cap_100_urbano_rural_3_4.dbf a C:\\Users\\User\\OneDrive - MIGRACIÓN VIDENZA\\1. Proyectos\\1. Proyectos actuales\\25. ASEI - Propuestas Vivienda\\0. Insumos\\ENAPRES\\cap_100_urbano_rural_3_4.dbf\n",
      "Archivo copiado: C:\\Users\\User\\Downloads\\DENAPRES\\cap_100_urbano_rural_3_4_2023.dbf a C:\\Users\\User\\OneDrive - MIGRACIÓN VIDENZA\\1. Proyectos\\1. Proyectos actuales\\25. ASEI - Propuestas Vivienda\\0. Insumos\\ENAPRES\\cap_100_urbano_rural_3_4_2023.dbf\n",
      "Archivo copiado: C:\\Users\\User\\Downloads\\DENAPRES\\cap_200_urbano_rural_4_2018.dbf a C:\\Users\\User\\OneDrive - MIGRACIÓN VIDENZA\\1. Proyectos\\1. Proyectos actuales\\25. ASEI - Propuestas Vivienda\\0. Insumos\\ENAPRES\\cap_200_urbano_rural_4_2018.dbf\n",
      "Archivo copiado: C:\\Users\\User\\Downloads\\DENAPRES\\cap_200_urbano_rural_4_2019.dbf a C:\\Users\\User\\OneDrive - MIGRACIÓN VIDENZA\\1. Proyectos\\1. Proyectos actuales\\25. ASEI - Propuestas Vivienda\\0. Insumos\\ENAPRES\\cap_200_urbano_rural_4_2019.dbf\n",
      "Archivo copiado: C:\\Users\\User\\Downloads\\DENAPRES\\cap_200_urbano_rural_4_2020.dbf a C:\\Users\\User\\OneDrive - MIGRACIÓN VIDENZA\\1. Proyectos\\1. Proyectos actuales\\25. ASEI - Propuestas Vivienda\\0. Insumos\\ENAPRES\\cap_200_urbano_rural_4_2020.dbf\n",
      "Archivo copiado: C:\\Users\\User\\Downloads\\DENAPRES\\cap_200_urbano_rural_4_2021.dbf a C:\\Users\\User\\OneDrive - MIGRACIÓN VIDENZA\\1. Proyectos\\1. Proyectos actuales\\25. ASEI - Propuestas Vivienda\\0. Insumos\\ENAPRES\\cap_200_urbano_rural_4_2021.dbf\n",
      "Archivo copiado: C:\\Users\\User\\Downloads\\DENAPRES\\cap_200_urbano_rural_4_2022.dbf a C:\\Users\\User\\OneDrive - MIGRACIÓN VIDENZA\\1. Proyectos\\1. Proyectos actuales\\25. ASEI - Propuestas Vivienda\\0. Insumos\\ENAPRES\\cap_200_urbano_rural_4_2022.dbf\n",
      "Archivo copiado: C:\\Users\\User\\Downloads\\DENAPRES\\cap_200_urbano_rural_4_2023.dbf a C:\\Users\\User\\OneDrive - MIGRACIÓN VIDENZA\\1. Proyectos\\1. Proyectos actuales\\25. ASEI - Propuestas Vivienda\\0. Insumos\\ENAPRES\\cap_200_urbano_rural_4_2023.dbf\n"
     ]
    }
   ],
   "source": [
    "path = extract_dir\n",
    "destPath = r'C:\\Users\\User\\OneDrive - MIGRACIÓN VIDENZA\\1. Proyectos\\1. Proyectos actuales\\25. ASEI - Propuestas Vivienda\\0. Insumos\\ENAPRES'\n",
    "copiar_archivos(path, destPath, '.dbf')"
   ],
   "metadata": {
    "collapsed": false,
    "ExecuteTime": {
     "end_time": "2024-07-16T17:51:54.396779400Z",
     "start_time": "2024-07-16T17:51:50.280595900Z"
    }
   },
   "id": "f902b9d58376fe5e",
   "execution_count": 29
  },
  {
   "cell_type": "code",
   "outputs": [],
   "source": [
    "path = extract_dir\n",
    "destPath = r'C:\\Users\\User\\OneDrive - Universidad del Pacífico\\1. Documentos\\0. Bases de datos\\03. ENDES\\1. Data'\n",
    "copiar_archivos(path, destPath, '.dta')"
   ],
   "metadata": {
    "collapsed": false
   },
   "id": "67f3b3bb46e1da1f"
  }
 ],
 "metadata": {
  "kernelspec": {
   "display_name": "Python 3",
   "language": "python",
   "name": "python3"
  },
  "language_info": {
   "codemirror_mode": {
    "name": "ipython",
    "version": 2
   },
   "file_extension": ".py",
   "mimetype": "text/x-python",
   "name": "python",
   "nbconvert_exporter": "python",
   "pygments_lexer": "ipython2",
   "version": "2.7.6"
  }
 },
 "nbformat": 4,
 "nbformat_minor": 5
}

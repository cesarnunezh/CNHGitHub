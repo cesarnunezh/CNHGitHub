{
 "cells": [
  {
   "cell_type": "code",
   "execution_count": 2,
   "id": "d90b956888cbc61b",
   "metadata": {
    "collapsed": false,
    "ExecuteTime": {
     "end_time": "2024-06-05T14:52:13.234920400Z",
     "start_time": "2024-06-05T14:52:12.765238300Z"
    }
   },
   "outputs": [],
   "source": [
    "import requests\n",
    "import zipfile\n",
    "import os\n",
    "import shutil\n",
    "from jedi.api import file_name"
   ]
  },
  {
   "cell_type": "code",
   "outputs": [],
   "source": [
    "def copiar_archivos(origen, destino, sufijo):\n",
    "    # Verificar si la carpeta de destino existe, si no, crearla\n",
    "    if not os.path.exists(destino):\n",
    "        os.makedirs(destino)\n",
    "\n",
    "    # Recorrer todos los archivos en la carpeta de origen\n",
    "    for archivo_nombre in os.listdir(origen):\n",
    "        # Crear las rutas completas para el archivo de origen y destino\n",
    "        ruta_archivo_origen = os.path.join(origen, archivo_nombre)\n",
    "        ruta_archivo_destino = os.path.join(destino, archivo_nombre)\n",
    "\n",
    "        # Verificar si es un archivo (y no una carpeta) y si empieza con el prefijo\n",
    "        if os.path.isfile(ruta_archivo_origen) and archivo_nombre.endswith(sufijo):\n",
    "            # Copiar el archivo\n",
    "            shutil.copy2(ruta_archivo_origen, ruta_archivo_destino)\n",
    "            print(f'Archivo copiado: {ruta_archivo_origen} a {ruta_archivo_destino}')\n",
    "        else:\n",
    "            print(f'Omitido: {ruta_archivo_origen}')"
   ],
   "metadata": {
    "collapsed": false,
    "ExecuteTime": {
     "end_time": "2024-06-05T14:52:18.475741700Z",
     "start_time": "2024-06-05T14:52:18.466438800Z"
    }
   },
   "id": "f51a64f6dbec88bc",
   "execution_count": 3
  },
  {
   "cell_type": "code",
   "outputs": [
    {
     "name": "stdout",
     "output_type": "stream",
     "text": [
      "Archivo extraído en: C:\\Users\\User\\Downloads\\DENAHO\n",
      "Archivo extraído en: C:\\Users\\User\\Downloads\\DENAHO\n",
      "Archivo extraído en: C:\\Users\\User\\Downloads\\DENAHO\n",
      "Archivo extraído en: C:\\Users\\User\\Downloads\\DENAHO\n",
      "Archivo extraído en: C:\\Users\\User\\Downloads\\DENAHO\n",
      "Archivo extraído en: C:\\Users\\User\\Downloads\\DENAHO\n",
      "Archivo extraído en: C:\\Users\\User\\Downloads\\DENAHO\n",
      "Archivo extraído en: C:\\Users\\User\\Downloads\\DENAHO\n",
      "Archivo extraído en: C:\\Users\\User\\Downloads\\DENAHO\n",
      "Archivo extraído en: C:\\Users\\User\\Downloads\\DENAHO\n",
      "Archivo extraído en: C:\\Users\\User\\Downloads\\DENAHO\n",
      "Archivo extraído en: C:\\Users\\User\\Downloads\\DENAHO\n",
      "Archivo extraído en: C:\\Users\\User\\Downloads\\DENAHO\n",
      "Archivo extraído en: C:\\Users\\User\\Downloads\\DENAHO\n",
      "Archivo extraído en: C:\\Users\\User\\Downloads\\DENAHO\n",
      "Archivo extraído en: C:\\Users\\User\\Downloads\\DENAHO\n",
      "Archivo extraído en: C:\\Users\\User\\Downloads\\DENAHO\n",
      "Archivo extraído en: C:\\Users\\User\\Downloads\\DENAHO\n"
     ]
    }
   ],
   "source": [
    "extract_dir = r'C:\\Users\\User\\Downloads\\DENAHO'\n",
    "\n",
    "listEncuestas = ['498','546', '603', '634', '687' ,'737' ,'759', '784', '906']\n",
    "#listModulos = ['1', '2', '3', '4', '5', '34', '84', '85']\n",
    "listModulos = ['84', '85']\n",
    "\n",
    "for encuesta in listEncuestas:\n",
    "    for mod in listModulos:\n",
    "        url = f'https://proyectos.inei.gob.pe/iinei/srienaho/descarga/STATA/{encuesta}-Modulo{mod}.zip'\n",
    "        zip_path = f'C:/Users/User/Downloads/{encuesta}-Modulo{mod}.zip'\n",
    "\n",
    "        # Descargar el archivo ZIP\n",
    "        response = requests.get(url)\n",
    "        with open(zip_path, 'wb') as file:\n",
    "            file.write(response.content)\n",
    "    \n",
    "        # Crear el directorio de extracción si no existe\n",
    "        os.makedirs(extract_dir, exist_ok=True)\n",
    "    \n",
    "        # Extraer el archivo ZIP\n",
    "        with zipfile.ZipFile(zip_path, 'r') as zip_ref:\n",
    "            zip_ref.extractall(extract_dir)\n",
    "    \n",
    "        print(f'Archivo extraído en: {extract_dir}')"
   ],
   "metadata": {
    "collapsed": false,
    "ExecuteTime": {
     "end_time": "2024-06-05T14:52:46.107090100Z",
     "start_time": "2024-06-05T14:52:21.073627700Z"
    }
   },
   "id": "deb27234d9bea59d",
   "execution_count": 4
  },
  {
   "cell_type": "code",
   "outputs": [
    {
     "name": "stdout",
     "output_type": "stream",
     "text": [
      "Omitido: C:\\Users\\User\\Downloads\\DENAHO/546-Modulo84\\CED-01-800 2016.pdf\n",
      "Omitido: C:\\Users\\User\\Downloads\\DENAHO/546-Modulo84\\CodigoConglomerado_6_digitos.pdf\n",
      "Omitido: C:\\Users\\User\\Downloads\\DENAHO/546-Modulo84\\ConglomeA6digitos.do\n",
      "Omitido: C:\\Users\\User\\Downloads\\DENAHO/546-Modulo84\\Diccionario2016.pdf\n",
      "Archivo copiado: C:\\Users\\User\\Downloads\\DENAHO/546-Modulo84\\enaho01-2016-800a.dta a C:\\Users\\User\\Downloads\\DENAHO\\enaho01-2016-800a.dta\n",
      "Archivo copiado: C:\\Users\\User\\Downloads\\DENAHO/546-Modulo84\\enaho01-2016-800b.dta a C:\\Users\\User\\Downloads\\DENAHO\\enaho01-2016-800b.dta\n",
      "Omitido: C:\\Users\\User\\Downloads\\DENAHO/546-Modulo84\\FichaTecnica_2016.pdf\n",
      "Omitido: C:\\Users\\User\\Downloads\\DENAHO/546-Modulo85\\CED-ENAHO 01B 2016.pdf\n",
      "Omitido: C:\\Users\\User\\Downloads\\DENAHO/546-Modulo85\\CodigoConglomerado_6_digitos.pdf\n",
      "Omitido: C:\\Users\\User\\Downloads\\DENAHO/546-Modulo85\\ConglomeA6digitos.do\n",
      "Omitido: C:\\Users\\User\\Downloads\\DENAHO/546-Modulo85\\Diccionario2016.pdf\n",
      "Archivo copiado: C:\\Users\\User\\Downloads\\DENAHO/546-Modulo85\\enaho01b-2016-1.dta a C:\\Users\\User\\Downloads\\DENAHO\\enaho01b-2016-1.dta\n",
      "Archivo copiado: C:\\Users\\User\\Downloads\\DENAHO/546-Modulo85\\enaho01b-2016-2.dta a C:\\Users\\User\\Downloads\\DENAHO\\enaho01b-2016-2.dta\n",
      "Omitido: C:\\Users\\User\\Downloads\\DENAHO/546-Modulo85\\FichaTecnica_2016.pdf\n",
      "Omitido: C:\\Users\\User\\Downloads\\DENAHO/603-Modulo84\\CED-01-800 2017.pdf\n",
      "Omitido: C:\\Users\\User\\Downloads\\DENAHO/603-Modulo84\\CodigoConglomerado_6_digitos.pdf\n",
      "Omitido: C:\\Users\\User\\Downloads\\DENAHO/603-Modulo84\\ConglomeA6digitos.do\n",
      "Omitido: C:\\Users\\User\\Downloads\\DENAHO/603-Modulo84\\Diccionario_2017.pdf\n",
      "Archivo copiado: C:\\Users\\User\\Downloads\\DENAHO/603-Modulo84\\enaho01-2017-800a.dta a C:\\Users\\User\\Downloads\\DENAHO\\enaho01-2017-800a.dta\n",
      "Archivo copiado: C:\\Users\\User\\Downloads\\DENAHO/603-Modulo84\\enaho01-2017-800b.dta a C:\\Users\\User\\Downloads\\DENAHO\\enaho01-2017-800b.dta\n",
      "Omitido: C:\\Users\\User\\Downloads\\DENAHO/603-Modulo84\\FichaTecnica_2017.pdf\n",
      "Omitido: C:\\Users\\User\\Downloads\\DENAHO/603-Modulo85\\CED-ENAHO 01B 2017.pdf\n",
      "Omitido: C:\\Users\\User\\Downloads\\DENAHO/603-Modulo85\\CodigoConglomerado_6_digitos.pdf\n",
      "Omitido: C:\\Users\\User\\Downloads\\DENAHO/603-Modulo85\\ConglomeA6digitos.do\n",
      "Omitido: C:\\Users\\User\\Downloads\\DENAHO/603-Modulo85\\Diccionario 2017.pdf\n",
      "Archivo copiado: C:\\Users\\User\\Downloads\\DENAHO/603-Modulo85\\enaho01b-2017-1.dta a C:\\Users\\User\\Downloads\\DENAHO\\enaho01b-2017-1.dta\n",
      "Archivo copiado: C:\\Users\\User\\Downloads\\DENAHO/603-Modulo85\\enaho01b-2017-2.dta a C:\\Users\\User\\Downloads\\DENAHO\\enaho01b-2017-2.dta\n",
      "Omitido: C:\\Users\\User\\Downloads\\DENAHO/603-Modulo85\\FichaTecnica_2017.pdf\n",
      "Omitido: C:\\Users\\User\\Downloads\\DENAHO/634-Modulo84\\CED-01-800 2018.pdf\n",
      "Omitido: C:\\Users\\User\\Downloads\\DENAHO/634-Modulo84\\CodigoConglomerado_6_digitos.pdf\n",
      "Omitido: C:\\Users\\User\\Downloads\\DENAHO/634-Modulo84\\ConglomeA6digitos.do\n",
      "Omitido: C:\\Users\\User\\Downloads\\DENAHO/634-Modulo84\\Diccionario_2018.pdf\n",
      "Archivo copiado: C:\\Users\\User\\Downloads\\DENAHO/634-Modulo84\\enaho01-2018-800a.dta a C:\\Users\\User\\Downloads\\DENAHO\\enaho01-2018-800a.dta\n",
      "Archivo copiado: C:\\Users\\User\\Downloads\\DENAHO/634-Modulo84\\enaho01-2018-800b.dta a C:\\Users\\User\\Downloads\\DENAHO\\enaho01-2018-800b.dta\n",
      "Omitido: C:\\Users\\User\\Downloads\\DENAHO/634-Modulo84\\Ficha Tecnica_2018.pdf\n",
      "Omitido: C:\\Users\\User\\Downloads\\DENAHO/634-Modulo85\\CED-ENAHO 01B-2018.pdf\n",
      "Omitido: C:\\Users\\User\\Downloads\\DENAHO/634-Modulo85\\CodigoConglomerado_6_digitos.pdf\n",
      "Omitido: C:\\Users\\User\\Downloads\\DENAHO/634-Modulo85\\ConglomeA6digitos.do\n",
      "Omitido: C:\\Users\\User\\Downloads\\DENAHO/634-Modulo85\\Diccionario_2018.pdf\n",
      "Archivo copiado: C:\\Users\\User\\Downloads\\DENAHO/634-Modulo85\\enaho01b-2018-1.dta a C:\\Users\\User\\Downloads\\DENAHO\\enaho01b-2018-1.dta\n",
      "Archivo copiado: C:\\Users\\User\\Downloads\\DENAHO/634-Modulo85\\enaho01b-2018-2.dta a C:\\Users\\User\\Downloads\\DENAHO\\enaho01b-2018-2.dta\n",
      "Omitido: C:\\Users\\User\\Downloads\\DENAHO/634-Modulo85\\Ficha Tecnica_2018.pdf\n",
      "Omitido: C:\\Users\\User\\Downloads\\DENAHO/687-Modulo84\\CED-01-800 2019.pdf\n",
      "Omitido: C:\\Users\\User\\Downloads\\DENAHO/687-Modulo84\\CodigoConglomerado_6_digitos.pdf\n",
      "Omitido: C:\\Users\\User\\Downloads\\DENAHO/687-Modulo84\\ConglomeA6digitos.do\n",
      "Omitido: C:\\Users\\User\\Downloads\\DENAHO/687-Modulo84\\Diccionario_2019.pdf\n",
      "Archivo copiado: C:\\Users\\User\\Downloads\\DENAHO/687-Modulo84\\enaho01-2019-800a.dta a C:\\Users\\User\\Downloads\\DENAHO\\enaho01-2019-800a.dta\n",
      "Archivo copiado: C:\\Users\\User\\Downloads\\DENAHO/687-Modulo84\\enaho01-2019-800b.dta a C:\\Users\\User\\Downloads\\DENAHO\\enaho01-2019-800b.dta\n",
      "Omitido: C:\\Users\\User\\Downloads\\DENAHO/687-Modulo84\\FichaTecnica_2019.pdf\n",
      "Omitido: C:\\Users\\User\\Downloads\\DENAHO/687-Modulo85\\CED-ENAHO 01B-2019.pdf\n",
      "Omitido: C:\\Users\\User\\Downloads\\DENAHO/687-Modulo85\\CodigoConglomerado_6_digitos.pdf\n",
      "Omitido: C:\\Users\\User\\Downloads\\DENAHO/687-Modulo85\\ConglomeA6digitos.do\n",
      "Omitido: C:\\Users\\User\\Downloads\\DENAHO/687-Modulo85\\Diccionario_2019.pdf\n",
      "Archivo copiado: C:\\Users\\User\\Downloads\\DENAHO/687-Modulo85\\enaho01b-2019-1.dta a C:\\Users\\User\\Downloads\\DENAHO\\enaho01b-2019-1.dta\n",
      "Archivo copiado: C:\\Users\\User\\Downloads\\DENAHO/687-Modulo85\\enaho01b-2019-2.dta a C:\\Users\\User\\Downloads\\DENAHO\\enaho01b-2019-2.dta\n",
      "Omitido: C:\\Users\\User\\Downloads\\DENAHO/687-Modulo85\\FichaTecnica_2019.pdf\n",
      "Omitido: C:\\Users\\User\\Downloads\\DENAHO/737-Modulo84\\CED-01-800 2020.pdf\n",
      "Omitido: C:\\Users\\User\\Downloads\\DENAHO/737-Modulo84\\CodigoConglomerado_6_digitos.pdf\n",
      "Omitido: C:\\Users\\User\\Downloads\\DENAHO/737-Modulo84\\ConglomeA6digitos.do\n",
      "Omitido: C:\\Users\\User\\Downloads\\DENAHO/737-Modulo84\\Diccionario_2020.pdf\n",
      "Archivo copiado: C:\\Users\\User\\Downloads\\DENAHO/737-Modulo84\\enaho01-2020-800a.dta a C:\\Users\\User\\Downloads\\DENAHO\\enaho01-2020-800a.dta\n",
      "Archivo copiado: C:\\Users\\User\\Downloads\\DENAHO/737-Modulo84\\enaho01-2020-800b.dta a C:\\Users\\User\\Downloads\\DENAHO\\enaho01-2020-800b.dta\n",
      "Omitido: C:\\Users\\User\\Downloads\\DENAHO/737-Modulo84\\FichaTecnica.pdf\n",
      "Omitido: C:\\Users\\User\\Downloads\\DENAHO/737-Modulo84\\Thumbs.db\n",
      "Omitido: C:\\Users\\User\\Downloads\\DENAHO/737-Modulo85\\CodigoConglomerado_6_digitos.pdf\n",
      "Omitido: C:\\Users\\User\\Downloads\\DENAHO/737-Modulo85\\ConglomeA6digitos.do\n",
      "Omitido: C:\\Users\\User\\Downloads\\DENAHO/737-Modulo85\\CUESTIONARIO-ENAHO01B.pdf\n",
      "Omitido: C:\\Users\\User\\Downloads\\DENAHO/737-Modulo85\\Diccionario_2020.pdf\n",
      "Archivo copiado: C:\\Users\\User\\Downloads\\DENAHO/737-Modulo85\\enaho01b-2020-1.dta a C:\\Users\\User\\Downloads\\DENAHO\\enaho01b-2020-1.dta\n",
      "Archivo copiado: C:\\Users\\User\\Downloads\\DENAHO/737-Modulo85\\enaho01b-2020-2.dta a C:\\Users\\User\\Downloads\\DENAHO\\enaho01b-2020-2.dta\n",
      "Omitido: C:\\Users\\User\\Downloads\\DENAHO/737-Modulo85\\FichaTecnica.pdf\n",
      "Omitido: C:\\Users\\User\\Downloads\\DENAHO/737-Modulo85\\Thumbs.db\n",
      "Omitido: C:\\Users\\User\\Downloads\\DENAHO/759-Modulo84\\CED-01-800 ENAHO 2021.pdf\n",
      "Omitido: C:\\Users\\User\\Downloads\\DENAHO/759-Modulo84\\CodigoConglomerado_6_digitos.pdf\n",
      "Omitido: C:\\Users\\User\\Downloads\\DENAHO/759-Modulo84\\ConglomeA6digitos.do\n",
      "Omitido: C:\\Users\\User\\Downloads\\DENAHO/759-Modulo84\\Diccionario_2021.pdf\n",
      "Archivo copiado: C:\\Users\\User\\Downloads\\DENAHO/759-Modulo84\\enaho01-2021-800a.dta a C:\\Users\\User\\Downloads\\DENAHO\\enaho01-2021-800a.dta\n",
      "Archivo copiado: C:\\Users\\User\\Downloads\\DENAHO/759-Modulo84\\enaho01-2021-800b.dta a C:\\Users\\User\\Downloads\\DENAHO\\enaho01-2021-800b.dta\n",
      "Omitido: C:\\Users\\User\\Downloads\\DENAHO/759-Modulo84\\FichaTecnica.pdf\n",
      "Omitido: C:\\Users\\User\\Downloads\\DENAHO/759-Modulo85\\CodigoConglomerado_6_digitos.pdf\n",
      "Omitido: C:\\Users\\User\\Downloads\\DENAHO/759-Modulo85\\ConglomeA6digitos.do\n",
      "Omitido: C:\\Users\\User\\Downloads\\DENAHO/759-Modulo85\\CUESTIONARIO-ENAHO.01B.pdf\n",
      "Omitido: C:\\Users\\User\\Downloads\\DENAHO/759-Modulo85\\Diccionario_2021.pdf\n",
      "Archivo copiado: C:\\Users\\User\\Downloads\\DENAHO/759-Modulo85\\enaho01b-2021-1.dta a C:\\Users\\User\\Downloads\\DENAHO\\enaho01b-2021-1.dta\n",
      "Archivo copiado: C:\\Users\\User\\Downloads\\DENAHO/759-Modulo85\\enaho01b-2021-2.dta a C:\\Users\\User\\Downloads\\DENAHO\\enaho01b-2021-2.dta\n",
      "Omitido: C:\\Users\\User\\Downloads\\DENAHO/759-Modulo85\\FichaTecnica.pdf\n",
      "Omitido: C:\\Users\\User\\Downloads\\DENAHO/784-Modulo84\\CED-01-800 ENAHO 2022.pdf\n",
      "Omitido: C:\\Users\\User\\Downloads\\DENAHO/784-Modulo84\\DICCIONARIO_2022_anual.pdf\n",
      "Archivo copiado: C:\\Users\\User\\Downloads\\DENAHO/784-Modulo84\\enaho01-2022-800a.dta a C:\\Users\\User\\Downloads\\DENAHO\\enaho01-2022-800a.dta\n",
      "Archivo copiado: C:\\Users\\User\\Downloads\\DENAHO/784-Modulo84\\enaho01-2022-800b.dta a C:\\Users\\User\\Downloads\\DENAHO\\enaho01-2022-800b.dta\n",
      "Omitido: C:\\Users\\User\\Downloads\\DENAHO/784-Modulo84\\FICHA TECNICA 2022.pdf\n",
      "Omitido: C:\\Users\\User\\Downloads\\DENAHO/784-Modulo85\\CUESTIONARIO-ENAHO01B.2022.pdf\n",
      "Omitido: C:\\Users\\User\\Downloads\\DENAHO/784-Modulo85\\DICCIONARIO_2022_anual.pdf\n",
      "Archivo copiado: C:\\Users\\User\\Downloads\\DENAHO/784-Modulo85\\enaho01b-2022-1.dta a C:\\Users\\User\\Downloads\\DENAHO\\enaho01b-2022-1.dta\n",
      "Archivo copiado: C:\\Users\\User\\Downloads\\DENAHO/784-Modulo85\\enaho01b-2022-2.dta a C:\\Users\\User\\Downloads\\DENAHO\\enaho01b-2022-2.dta\n",
      "Omitido: C:\\Users\\User\\Downloads\\DENAHO/784-Modulo85\\FICHA TECNICA 2022.pdf\n",
      "Omitido: C:\\Users\\User\\Downloads\\DENAHO/906-Modulo84\\CED-01-800 ENAHO 2023.pdf\n",
      "Omitido: C:\\Users\\User\\Downloads\\DENAHO/906-Modulo84\\Diccionario2023.pdf\n",
      "Archivo copiado: C:\\Users\\User\\Downloads\\DENAHO/906-Modulo84\\enaho01-2023-800a.dta a C:\\Users\\User\\Downloads\\DENAHO\\enaho01-2023-800a.dta\n",
      "Archivo copiado: C:\\Users\\User\\Downloads\\DENAHO/906-Modulo84\\enaho01-2023-800b.dta a C:\\Users\\User\\Downloads\\DENAHO\\enaho01-2023-800b.dta\n",
      "Omitido: C:\\Users\\User\\Downloads\\DENAHO/906-Modulo84\\FichaTecnica.pdf\n",
      "Omitido: C:\\Users\\User\\Downloads\\DENAHO/906-Modulo85\\CUESTIONARIO-ENAHO.01B.pdf\n",
      "Omitido: C:\\Users\\User\\Downloads\\DENAHO/906-Modulo85\\Diccionario2023.pdf\n",
      "Archivo copiado: C:\\Users\\User\\Downloads\\DENAHO/906-Modulo85\\enaho01b-2023-1.dta a C:\\Users\\User\\Downloads\\DENAHO\\enaho01b-2023-1.dta\n",
      "Archivo copiado: C:\\Users\\User\\Downloads\\DENAHO/906-Modulo85\\enaho01b-2023-2.dta a C:\\Users\\User\\Downloads\\DENAHO\\enaho01b-2023-2.dta\n",
      "Omitido: C:\\Users\\User\\Downloads\\DENAHO/906-Modulo85\\FichaTecnica.pdf\n"
     ]
    }
   ],
   "source": [
    "for encuesta in listEncuestas:\n",
    "    for mod in listModulos:\n",
    "        try:\n",
    "            fileName = f'{encuesta}-Modulo{mod}'\n",
    "            path = extract_dir + '/' + fileName\n",
    "            copiar_archivos(path, extract_dir, '.dta')\n",
    "        except:\n",
    "            continue"
   ],
   "metadata": {
    "collapsed": true,
    "ExecuteTime": {
     "end_time": "2024-06-05T14:54:32.213074200Z",
     "start_time": "2024-06-05T14:54:32.055473200Z"
    }
   },
   "id": "initial_id",
   "execution_count": 6
  },
  {
   "cell_type": "code",
   "outputs": [],
   "source": [
    "files = os.listdir(extract_dir)\n",
    "oldnames = [x for x in files if x.endswith('.dta')]\n",
    "newnames = [x.lower() for x in files if x.endswith('.dta')]"
   ],
   "metadata": {
    "collapsed": false,
    "ExecuteTime": {
     "end_time": "2024-06-05T14:58:19.828169Z",
     "start_time": "2024-06-05T14:58:19.821654500Z"
    }
   },
   "id": "aef5f41284aeb179",
   "execution_count": 8
  },
  {
   "cell_type": "code",
   "outputs": [],
   "source": [
    "os.chdir(extract_dir)\n",
    "\n",
    "for i, file in enumerate(oldnames):\n",
    "    os.rename(file, newnames[i])"
   ],
   "metadata": {
    "collapsed": false,
    "ExecuteTime": {
     "end_time": "2024-06-05T14:58:28.864874300Z",
     "start_time": "2024-06-05T14:58:28.855526400Z"
    }
   },
   "id": "7e285880fa2fe638",
   "execution_count": 9
  },
  {
   "cell_type": "code",
   "outputs": [
    {
     "name": "stdout",
     "output_type": "stream",
     "text": [
      "Omitido: C:\\Users\\User\\Downloads\\DENAHO\\546-Modulo84\n",
      "Omitido: C:\\Users\\User\\Downloads\\DENAHO\\546-Modulo85\n",
      "Omitido: C:\\Users\\User\\Downloads\\DENAHO\\603-Modulo84\n",
      "Omitido: C:\\Users\\User\\Downloads\\DENAHO\\603-Modulo85\n",
      "Omitido: C:\\Users\\User\\Downloads\\DENAHO\\634-Modulo84\n",
      "Omitido: C:\\Users\\User\\Downloads\\DENAHO\\634-Modulo85\n",
      "Omitido: C:\\Users\\User\\Downloads\\DENAHO\\687-Modulo84\n",
      "Omitido: C:\\Users\\User\\Downloads\\DENAHO\\687-Modulo85\n",
      "Omitido: C:\\Users\\User\\Downloads\\DENAHO\\737-Modulo84\n",
      "Omitido: C:\\Users\\User\\Downloads\\DENAHO\\737-Modulo85\n",
      "Omitido: C:\\Users\\User\\Downloads\\DENAHO\\759-Modulo84\n",
      "Omitido: C:\\Users\\User\\Downloads\\DENAHO\\759-Modulo85\n",
      "Omitido: C:\\Users\\User\\Downloads\\DENAHO\\784-Modulo84\n",
      "Omitido: C:\\Users\\User\\Downloads\\DENAHO\\784-Modulo85\n",
      "Omitido: C:\\Users\\User\\Downloads\\DENAHO\\906-Modulo84\n",
      "Omitido: C:\\Users\\User\\Downloads\\DENAHO\\906-Modulo85\n",
      "Omitido: C:\\Users\\User\\Downloads\\DENAHO\\CED-01-800 2015.pdf\n",
      "Omitido: C:\\Users\\User\\Downloads\\DENAHO\\CED-ENAHO 01B 2015.pdf\n",
      "Omitido: C:\\Users\\User\\Downloads\\DENAHO\\CodigoConglomerado_6_digitos.pdf\n",
      "Omitido: C:\\Users\\User\\Downloads\\DENAHO\\ConglomeA6digitos.do\n",
      "Omitido: C:\\Users\\User\\Downloads\\DENAHO\\Diccionario2015.pdf\n",
      "Archivo copiado: C:\\Users\\User\\Downloads\\DENAHO\\enaho01-2015-800a.dta a C:\\Users\\User\\OneDrive - Universidad del Pacífico\\1. Documentos\\0. Bases de datos\\02. ENAHO\\1. Data\\Anual\\enaho01-2015-800a.dta\n",
      "Archivo copiado: C:\\Users\\User\\Downloads\\DENAHO\\enaho01-2015-800b.dta a C:\\Users\\User\\OneDrive - Universidad del Pacífico\\1. Documentos\\0. Bases de datos\\02. ENAHO\\1. Data\\Anual\\enaho01-2015-800b.dta\n",
      "Archivo copiado: C:\\Users\\User\\Downloads\\DENAHO\\enaho01-2016-800a.dta a C:\\Users\\User\\OneDrive - Universidad del Pacífico\\1. Documentos\\0. Bases de datos\\02. ENAHO\\1. Data\\Anual\\enaho01-2016-800a.dta\n",
      "Archivo copiado: C:\\Users\\User\\Downloads\\DENAHO\\enaho01-2016-800b.dta a C:\\Users\\User\\OneDrive - Universidad del Pacífico\\1. Documentos\\0. Bases de datos\\02. ENAHO\\1. Data\\Anual\\enaho01-2016-800b.dta\n",
      "Archivo copiado: C:\\Users\\User\\Downloads\\DENAHO\\enaho01-2017-800a.dta a C:\\Users\\User\\OneDrive - Universidad del Pacífico\\1. Documentos\\0. Bases de datos\\02. ENAHO\\1. Data\\Anual\\enaho01-2017-800a.dta\n",
      "Archivo copiado: C:\\Users\\User\\Downloads\\DENAHO\\enaho01-2017-800b.dta a C:\\Users\\User\\OneDrive - Universidad del Pacífico\\1. Documentos\\0. Bases de datos\\02. ENAHO\\1. Data\\Anual\\enaho01-2017-800b.dta\n",
      "Archivo copiado: C:\\Users\\User\\Downloads\\DENAHO\\enaho01-2018-800a.dta a C:\\Users\\User\\OneDrive - Universidad del Pacífico\\1. Documentos\\0. Bases de datos\\02. ENAHO\\1. Data\\Anual\\enaho01-2018-800a.dta\n",
      "Archivo copiado: C:\\Users\\User\\Downloads\\DENAHO\\enaho01-2018-800b.dta a C:\\Users\\User\\OneDrive - Universidad del Pacífico\\1. Documentos\\0. Bases de datos\\02. ENAHO\\1. Data\\Anual\\enaho01-2018-800b.dta\n",
      "Archivo copiado: C:\\Users\\User\\Downloads\\DENAHO\\enaho01-2019-800a.dta a C:\\Users\\User\\OneDrive - Universidad del Pacífico\\1. Documentos\\0. Bases de datos\\02. ENAHO\\1. Data\\Anual\\enaho01-2019-800a.dta\n",
      "Archivo copiado: C:\\Users\\User\\Downloads\\DENAHO\\enaho01-2019-800b.dta a C:\\Users\\User\\OneDrive - Universidad del Pacífico\\1. Documentos\\0. Bases de datos\\02. ENAHO\\1. Data\\Anual\\enaho01-2019-800b.dta\n",
      "Archivo copiado: C:\\Users\\User\\Downloads\\DENAHO\\enaho01-2020-800a.dta a C:\\Users\\User\\OneDrive - Universidad del Pacífico\\1. Documentos\\0. Bases de datos\\02. ENAHO\\1. Data\\Anual\\enaho01-2020-800a.dta\n",
      "Archivo copiado: C:\\Users\\User\\Downloads\\DENAHO\\enaho01-2020-800b.dta a C:\\Users\\User\\OneDrive - Universidad del Pacífico\\1. Documentos\\0. Bases de datos\\02. ENAHO\\1. Data\\Anual\\enaho01-2020-800b.dta\n",
      "Archivo copiado: C:\\Users\\User\\Downloads\\DENAHO\\enaho01-2021-800a.dta a C:\\Users\\User\\OneDrive - Universidad del Pacífico\\1. Documentos\\0. Bases de datos\\02. ENAHO\\1. Data\\Anual\\enaho01-2021-800a.dta\n",
      "Archivo copiado: C:\\Users\\User\\Downloads\\DENAHO\\enaho01-2021-800b.dta a C:\\Users\\User\\OneDrive - Universidad del Pacífico\\1. Documentos\\0. Bases de datos\\02. ENAHO\\1. Data\\Anual\\enaho01-2021-800b.dta\n",
      "Archivo copiado: C:\\Users\\User\\Downloads\\DENAHO\\enaho01-2022-800a.dta a C:\\Users\\User\\OneDrive - Universidad del Pacífico\\1. Documentos\\0. Bases de datos\\02. ENAHO\\1. Data\\Anual\\enaho01-2022-800a.dta\n",
      "Archivo copiado: C:\\Users\\User\\Downloads\\DENAHO\\enaho01-2022-800b.dta a C:\\Users\\User\\OneDrive - Universidad del Pacífico\\1. Documentos\\0. Bases de datos\\02. ENAHO\\1. Data\\Anual\\enaho01-2022-800b.dta\n",
      "Archivo copiado: C:\\Users\\User\\Downloads\\DENAHO\\enaho01-2023-800a.dta a C:\\Users\\User\\OneDrive - Universidad del Pacífico\\1. Documentos\\0. Bases de datos\\02. ENAHO\\1. Data\\Anual\\enaho01-2023-800a.dta\n",
      "Archivo copiado: C:\\Users\\User\\Downloads\\DENAHO\\enaho01-2023-800b.dta a C:\\Users\\User\\OneDrive - Universidad del Pacífico\\1. Documentos\\0. Bases de datos\\02. ENAHO\\1. Data\\Anual\\enaho01-2023-800b.dta\n",
      "Archivo copiado: C:\\Users\\User\\Downloads\\DENAHO\\enaho01b-2015-1.dta a C:\\Users\\User\\OneDrive - Universidad del Pacífico\\1. Documentos\\0. Bases de datos\\02. ENAHO\\1. Data\\Anual\\enaho01b-2015-1.dta\n",
      "Archivo copiado: C:\\Users\\User\\Downloads\\DENAHO\\enaho01b-2015-2.dta a C:\\Users\\User\\OneDrive - Universidad del Pacífico\\1. Documentos\\0. Bases de datos\\02. ENAHO\\1. Data\\Anual\\enaho01b-2015-2.dta\n",
      "Archivo copiado: C:\\Users\\User\\Downloads\\DENAHO\\enaho01b-2016-1.dta a C:\\Users\\User\\OneDrive - Universidad del Pacífico\\1. Documentos\\0. Bases de datos\\02. ENAHO\\1. Data\\Anual\\enaho01b-2016-1.dta\n",
      "Archivo copiado: C:\\Users\\User\\Downloads\\DENAHO\\enaho01b-2016-2.dta a C:\\Users\\User\\OneDrive - Universidad del Pacífico\\1. Documentos\\0. Bases de datos\\02. ENAHO\\1. Data\\Anual\\enaho01b-2016-2.dta\n",
      "Archivo copiado: C:\\Users\\User\\Downloads\\DENAHO\\enaho01b-2017-1.dta a C:\\Users\\User\\OneDrive - Universidad del Pacífico\\1. Documentos\\0. Bases de datos\\02. ENAHO\\1. Data\\Anual\\enaho01b-2017-1.dta\n",
      "Archivo copiado: C:\\Users\\User\\Downloads\\DENAHO\\enaho01b-2017-2.dta a C:\\Users\\User\\OneDrive - Universidad del Pacífico\\1. Documentos\\0. Bases de datos\\02. ENAHO\\1. Data\\Anual\\enaho01b-2017-2.dta\n",
      "Archivo copiado: C:\\Users\\User\\Downloads\\DENAHO\\enaho01b-2018-1.dta a C:\\Users\\User\\OneDrive - Universidad del Pacífico\\1. Documentos\\0. Bases de datos\\02. ENAHO\\1. Data\\Anual\\enaho01b-2018-1.dta\n",
      "Archivo copiado: C:\\Users\\User\\Downloads\\DENAHO\\enaho01b-2018-2.dta a C:\\Users\\User\\OneDrive - Universidad del Pacífico\\1. Documentos\\0. Bases de datos\\02. ENAHO\\1. Data\\Anual\\enaho01b-2018-2.dta\n",
      "Archivo copiado: C:\\Users\\User\\Downloads\\DENAHO\\enaho01b-2019-1.dta a C:\\Users\\User\\OneDrive - Universidad del Pacífico\\1. Documentos\\0. Bases de datos\\02. ENAHO\\1. Data\\Anual\\enaho01b-2019-1.dta\n",
      "Archivo copiado: C:\\Users\\User\\Downloads\\DENAHO\\enaho01b-2019-2.dta a C:\\Users\\User\\OneDrive - Universidad del Pacífico\\1. Documentos\\0. Bases de datos\\02. ENAHO\\1. Data\\Anual\\enaho01b-2019-2.dta\n",
      "Archivo copiado: C:\\Users\\User\\Downloads\\DENAHO\\enaho01b-2020-1.dta a C:\\Users\\User\\OneDrive - Universidad del Pacífico\\1. Documentos\\0. Bases de datos\\02. ENAHO\\1. Data\\Anual\\enaho01b-2020-1.dta\n",
      "Archivo copiado: C:\\Users\\User\\Downloads\\DENAHO\\enaho01b-2020-2.dta a C:\\Users\\User\\OneDrive - Universidad del Pacífico\\1. Documentos\\0. Bases de datos\\02. ENAHO\\1. Data\\Anual\\enaho01b-2020-2.dta\n",
      "Archivo copiado: C:\\Users\\User\\Downloads\\DENAHO\\enaho01b-2021-1.dta a C:\\Users\\User\\OneDrive - Universidad del Pacífico\\1. Documentos\\0. Bases de datos\\02. ENAHO\\1. Data\\Anual\\enaho01b-2021-1.dta\n",
      "Archivo copiado: C:\\Users\\User\\Downloads\\DENAHO\\enaho01b-2021-2.dta a C:\\Users\\User\\OneDrive - Universidad del Pacífico\\1. Documentos\\0. Bases de datos\\02. ENAHO\\1. Data\\Anual\\enaho01b-2021-2.dta\n",
      "Archivo copiado: C:\\Users\\User\\Downloads\\DENAHO\\enaho01b-2022-1.dta a C:\\Users\\User\\OneDrive - Universidad del Pacífico\\1. Documentos\\0. Bases de datos\\02. ENAHO\\1. Data\\Anual\\enaho01b-2022-1.dta\n",
      "Archivo copiado: C:\\Users\\User\\Downloads\\DENAHO\\enaho01b-2022-2.dta a C:\\Users\\User\\OneDrive - Universidad del Pacífico\\1. Documentos\\0. Bases de datos\\02. ENAHO\\1. Data\\Anual\\enaho01b-2022-2.dta\n",
      "Archivo copiado: C:\\Users\\User\\Downloads\\DENAHO\\enaho01b-2023-1.dta a C:\\Users\\User\\OneDrive - Universidad del Pacífico\\1. Documentos\\0. Bases de datos\\02. ENAHO\\1. Data\\Anual\\enaho01b-2023-1.dta\n",
      "Archivo copiado: C:\\Users\\User\\Downloads\\DENAHO\\enaho01b-2023-2.dta a C:\\Users\\User\\OneDrive - Universidad del Pacífico\\1. Documentos\\0. Bases de datos\\02. ENAHO\\1. Data\\Anual\\enaho01b-2023-2.dta\n",
      "Omitido: C:\\Users\\User\\Downloads\\DENAHO\\FichaTecnica_2015.pdf\n"
     ]
    }
   ],
   "source": [
    "path = extract_dir\n",
    "destPath = r'C:\\Users\\User\\OneDrive - Universidad del Pacífico\\1. Documentos\\0. Bases de datos\\02. ENAHO\\1. Data\\Anual'\n",
    "copiar_archivos(path, destPath, '.dta')"
   ],
   "metadata": {
    "collapsed": false,
    "ExecuteTime": {
     "end_time": "2024-06-05T15:00:25.956432500Z",
     "start_time": "2024-06-05T15:00:25.825033400Z"
    }
   },
   "id": "f902b9d58376fe5e",
   "execution_count": 10
  },
  {
   "cell_type": "code",
   "outputs": [],
   "source": [
    "path = extract_dir\n",
    "destPath = r'C:\\Users\\User\\OneDrive - Universidad del Pacífico\\1. Documentos\\0. Bases de datos\\03. ENDES\\1. Data'\n",
    "copiar_archivos(path, destPath, '.dta')"
   ],
   "metadata": {
    "collapsed": false
   },
   "id": "67f3b3bb46e1da1f"
  }
 ],
 "metadata": {
  "kernelspec": {
   "display_name": "Python 3",
   "language": "python",
   "name": "python3"
  },
  "language_info": {
   "codemirror_mode": {
    "name": "ipython",
    "version": 2
   },
   "file_extension": ".py",
   "mimetype": "text/x-python",
   "name": "python",
   "nbconvert_exporter": "python",
   "pygments_lexer": "ipython2",
   "version": "2.7.6"
  }
 },
 "nbformat": 4,
 "nbformat_minor": 5
}

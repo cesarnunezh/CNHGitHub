{
 "cells": [
  {
   "cell_type": "code",
   "execution_count": 1,
   "outputs": [],
   "source": [
    "import pandas as pd\n",
    "import os"
   ],
   "metadata": {
    "collapsed": false,
    "ExecuteTime": {
     "end_time": "2024-02-24T01:02:09.111692400Z",
     "start_time": "2024-02-24T01:01:49.710617300Z"
    }
   },
   "id": "18a647eff7536d82"
  },
  {
   "cell_type": "code",
   "execution_count": 2,
   "id": "494c2fa68a2bb1c4",
   "metadata": {
    "collapsed": false,
    "ExecuteTime": {
     "end_time": "2024-02-24T01:02:09.158030800Z",
     "start_time": "2024-02-24T01:02:09.130855800Z"
    }
   },
   "outputs": [
    {
     "name": "stdout",
     "output_type": "stream",
     "text": [
      "['Scopus_AI1.csv', 'Scopus_AI2.csv', 'Scopus_AI3.csv', 'Scopus_ALL.csv', 'Scopus_AT10.csv', 'Scopus_AT11.csv', 'Scopus_AT12.csv', 'Scopus_AT13.csv', 'Scopus_AT14.csv', 'Scopus_AT15.csv', 'Scopus_AT16.csv', 'Scopus_AT17.csv', 'Scopus_AT18.csv', 'Scopus_AT4.csv', 'Scopus_AT5.csv', 'Scopus_AT7.csv', 'Scopus_AT8.csv', 'Scopus_AT9.csv', 'Scopus_G1.csv', 'Scopus_G10.csv', 'Scopus_G10_1.csv', 'Scopus_G12.csv', 'Scopus_G13.csv', 'Scopus_G14.csv', 'Scopus_G15.csv', 'Scopus_G16.csv', 'Scopus_G17.csv', 'Scopus_G18.csv', 'Scopus_G19.csv', 'Scopus_G2.csv', 'Scopus_G3.csv', 'Scopus_G4.csv', 'Scopus_G5.csv', 'Scopus_G6.csv', 'Scopus_G7.csv', 'Scopus_G8.csv', 'Scopus_G9.csv', 'Scopus_SG1.csv', 'Scopus_SG10.csv', 'Scopus_SG11.csv', 'Scopus_SG12.csv', 'Scopus_SG13.csv', 'Scopus_SG14.csv', 'Scopus_SG15.csv', 'Scopus_SG16.csv', 'Scopus_SG17.csv', 'Scopus_SG17_2.csv', 'Scopus_SG2.csv', 'Scopus_SG20.csv', 'Scopus_SG21.csv', 'Scopus_SG22.csv', 'Scopus_SG23.csv', 'Scopus_SG24.csv', 'Scopus_SG25.csv', 'Scopus_SG3.csv', 'Scopus_SG4.csv', 'Scopus_SG5.csv', 'Scopus_SG6.csv', 'Scopus_SG7.csv', 'Scopus_SG8.csv', 'Scopus_SG9.csv', 'Scopus_T1.csv', 'Scopus_T10.csv', 'Scopus_T11.csv', 'Scopus_T12.csv', 'Scopus_T13.csv', 'Scopus_T14.csv', 'Scopus_T15.csv', 'Scopus_T16.csv', 'Scopus_T17.csv', 'Scopus_T19.csv', 'Scopus_T2.csv', 'Scopus_T20.csv', 'Scopus_T21.csv', 'Scopus_T22.csv', 'Scopus_T23.csv', 'Scopus_T24.csv', 'Scopus_T27.csv', 'Scopus_T28.csv', 'Scopus_T29.csv', 'Scopus_T3.csv', 'Scopus_T30.csv', 'Scopus_T31.csv', 'Scopus_T4.csv', 'Scopus_T5.csv', 'Scopus_T7.csv', 'Scopus_T8.csv', 'Scopus_T8_2.csv', 'Scopus_T9.csv']\n"
     ]
    }
   ],
   "source": [
    "# Specify the path to your BibTeX file\n",
    "path = r'C:\\Users\\User\\OneDrive - MIGRACIÓN VIDENZA\\1. Proyectos\\1. Proyectos actuales\\GiZ Pobreza Urbana\\1. Productos\\2. Producto 2\\Papers'\n",
    "\n",
    "listScopus = [item for item in os.listdir(path) if item.startswith(\"Scopus\")]\n",
    "print(listScopus)"
   ]
  },
  {
   "cell_type": "code",
   "outputs": [
    {
     "name": "stdout",
     "output_type": "stream",
     "text": [
      "No se pudo con AT12\n"
     ]
    }
   ],
   "source": [
    "# Convert BibTeX to DataFrame\n",
    "dfScopus = pd.DataFrame()\n",
    "for file in listScopus:    \n",
    "    try:\n",
    "        df = pd.read_csv(path + r'/' +  file)\n",
    "        df['Codigo'] = file[7:-4]\n",
    "        dfScopus = pd.concat((dfScopus, df))\n",
    "    except:\n",
    "        print(f\"No se pudo con {file[7:-4]}\")"
   ],
   "metadata": {
    "collapsed": true,
    "ExecuteTime": {
     "end_time": "2024-02-24T01:02:10.035594100Z",
     "start_time": "2024-02-24T01:02:09.158030800Z"
    }
   },
   "id": "initial_id",
   "execution_count": 3
  }
 ],
 "metadata": {
  "kernelspec": {
   "display_name": "Python 3",
   "language": "python",
   "name": "python3"
  },
  "language_info": {
   "codemirror_mode": {
    "name": "ipython",
    "version": 2
   },
   "file_extension": ".py",
   "mimetype": "text/x-python",
   "name": "python",
   "nbconvert_exporter": "python",
   "pygments_lexer": "ipython2",
   "version": "2.7.6"
  }
 },
 "nbformat": 4,
 "nbformat_minor": 5
}

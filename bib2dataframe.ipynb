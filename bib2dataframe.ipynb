{
 "cells": [
  {
   "cell_type": "code",
   "execution_count": 1,
   "outputs": [],
   "source": [
    "import bibtexparser\n",
    "import pandas as pd"
   ],
   "metadata": {
    "collapsed": false,
    "ExecuteTime": {
     "end_time": "2023-12-14T17:12:20.785107100Z",
     "start_time": "2023-12-14T17:12:19.090558900Z"
    }
   },
   "id": "18a647eff7536d82"
  },
  {
   "cell_type": "code",
   "execution_count": null,
   "id": "initial_id",
   "metadata": {
    "collapsed": true
   },
   "outputs": [],
   "source": [
    "# Function to convert BibTeX entries to DataFrame\n",
    "def bib_to_dataframe(bib_file):\n",
    "    with open(bib_file, 'r', encoding='utf-8') as bibtex_file:\n",
    "        bib_database = bibtexparser.load(bibtex_file)\n",
    "\n",
    "    data = []\n",
    "    for entry in bib_database.entries:\n",
    "        data.append(entry)\n",
    "\n",
    "    # Convert the list of dictionaries to a DataFrame\n",
    "    df = pd.DataFrame(data)\n",
    "\n",
    "    return df\n",
    "\n",
    "# Specify the path to your BibTeX file\n",
    "bib_file_path = r'C:\\Users\\User\\Downloads\\scopusConceptualFramework_Multilevel.bib'\n",
    "\n",
    "# Convert BibTeX to DataFrame\n",
    "bib_dataframe = bib_to_dataframe(bib_file_path)\n",
    "\n",
    "# Display the DataFrame\n",
    "print(bib_dataframe)\n"
   ]
  },
  {
   "cell_type": "code",
   "execution_count": 5,
   "outputs": [
    {
     "name": "stderr",
     "output_type": "stream",
     "text": [
      "C:\\Users\\User\\AppData\\Local\\Temp\\ipykernel_6356\\2437527914.py:14: DeprecationWarning: invalid escape sequence '\\-'\n",
      "  abstract = abstract.encode('utf-8').decode('unicode_escape')\n"
     ]
    }
   ],
   "source": [
    "# Function to convert BibTeX entries to DataFrame\n",
    "def bib_to_dataframe(bib_file):\n",
    "    with open(bib_file, 'r', encoding='utf-8') as bibtex_file:\n",
    "        bib_database = bibtexparser.load(bibtex_file)\n",
    "\n",
    "    data = []\n",
    "    for entry in bib_database.entries:\n",
    "        # Extract abstract and handle multiline abstracts\n",
    "        abstract = entry.get('abstract', '')\n",
    "        if '\\n' in abstract:\n",
    "            abstract = abstract.replace('\\n', ' ')\n",
    "\n",
    "        # Handle special characters\n",
    "        abstract = abstract.encode('utf-8').decode('unicode_escape')\n",
    "\n",
    "        entry['abstract'] = abstract\n",
    "        data.append(entry)\n",
    "\n",
    "    # Convert the list of dictionaries to a DataFrame\n",
    "    df = pd.DataFrame(data)\n",
    "\n",
    "    return df\n",
    "\n",
    "# Specify the path to your BibTeX file\n",
    "bib_file_path = r'C:\\Users\\User\\Downloads\\scopusConceptualFramework_Multilevel.bib'\n",
    "\n",
    "# Convert BibTeX to DataFrame\n",
    "bib_dataframe = bib_to_dataframe(bib_file_path)\n",
    "\n",
    "# Set display options to show more content for abstracts\n",
    "pd.set_option('display.max_colwidth', None)\n",
    "\n",
    "excel_file_path = r'C:\\Users\\User\\Downloads\\biblio_data.xlsx'\n",
    "bib_dataframe.to_excel(excel_file_path, index=False)\n"
   ],
   "metadata": {
    "collapsed": false,
    "ExecuteTime": {
     "end_time": "2023-12-15T00:34:12.687322600Z",
     "start_time": "2023-12-15T00:34:09.228912300Z"
    }
   },
   "id": "740557a89485d2f2"
  }
 ],
 "metadata": {
  "kernelspec": {
   "display_name": "Python 3",
   "language": "python",
   "name": "python3"
  },
  "language_info": {
   "codemirror_mode": {
    "name": "ipython",
    "version": 2
   },
   "file_extension": ".py",
   "mimetype": "text/x-python",
   "name": "python",
   "nbconvert_exporter": "python",
   "pygments_lexer": "ipython2",
   "version": "2.7.6"
  }
 },
 "nbformat": 4,
 "nbformat_minor": 5
}

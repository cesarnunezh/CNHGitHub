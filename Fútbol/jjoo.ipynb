{
 "cells": [
  {
   "cell_type": "code",
   "execution_count": null,
   "id": "initial_id",
   "metadata": {
    "collapsed": true
   },
   "outputs": [],
   "source": [
    "import pandas as pd\n",
    "import numpy as np\n",
    "import requests\n",
    "import os\n",
    "import time\n",
    "\n",
    "# Seteamos el directorio de trabajo\n",
    "os.chdir(r'C:\\Users\\User\\OneDrive - Universidad del Pacífico\\1. Documentos\\0. Bases de datos\\9. Futbol')"
   ]
  },
  {
   "cell_type": "code",
   "outputs": [],
   "source": [
    "/html/body/div[2]/div/div[3]/main/div[3]/div[3]/div[1]/center[1]/table/tbody"
   ],
   "metadata": {
    "collapsed": false
   },
   "id": "2298a6f30fc2bb62"
  }
 ],
 "metadata": {
  "kernelspec": {
   "display_name": "Python 3",
   "language": "python",
   "name": "python3"
  },
  "language_info": {
   "codemirror_mode": {
    "name": "ipython",
    "version": 2
   },
   "file_extension": ".py",
   "mimetype": "text/x-python",
   "name": "python",
   "nbconvert_exporter": "python",
   "pygments_lexer": "ipython2",
   "version": "2.7.6"
  }
 },
 "nbformat": 4,
 "nbformat_minor": 5
}
